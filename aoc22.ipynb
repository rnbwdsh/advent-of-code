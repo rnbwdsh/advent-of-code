{
 "cells": [
  {
   "cell_type": "code",
   "execution_count": 188,
   "metadata": {
    "tags": []
   },
   "outputs": [],
   "source": [
    "from lib import *\n",
    "dir_lookup = {\"R\": (1, 0), \"L\": (-1, 0), \"U\": (0, 1), \"D\": (0, -1)}"
   ]
  },
  {
   "cell_type": "code",
   "execution_count": 189,
   "metadata": {
    "collapsed": false,
    "jupyter": {
     "outputs_hidden": false
    }
   },
   "outputs": [
    {
     "name": "stdout",
     "output_type": "stream",
     "text": [
      "Part a already solved with same answer: 69912\n",
      "Part b already solved with same answer: 208180\n"
     ]
    }
   ],
   "source": [
    "@level_ab(1, test=('1000\\n2000\\n3000\\n\\n4000\\n\\n5000\\n6000\\n\\n7000\\n8000\\n9000\\n\\n10000', 24000, 45000), sep=\"\\n\\n\")\n",
    "def solve(num: List[str], level=0):\n",
    "    chunks = [sum(map(int, line.split(\"\\n\"))) for line in num]\n",
    "    return sum(list(sorted(chunks, reverse=True))[:3]) if level else max(chunks)"
   ]
  },
  {
   "cell_type": "code",
   "execution_count": 190,
   "metadata": {
    "collapsed": false,
    "jupyter": {
     "outputs_hidden": false
    }
   },
   "outputs": [
    {
     "name": "stdout",
     "output_type": "stream",
     "text": [
      "Part a already solved with same answer: 11603\n",
      "Part b already solved with same answer: 12725\n"
     ]
    }
   ],
   "source": [
    "@level_ab(2, test=(\"\"\"A Y\\nB X\\nC Z\"\"\", 15, 12), sep=\"\\n\", apply=lambda line: line.split(\" \"))\n",
    "def solve(lines: List[str], level=0):\n",
    "    total = 0\n",
    "    for a, b in lines:\n",
    "        a, b = ord(a) - ord('A'), ord(b) - ord('X')\n",
    "        total += b * 3 + (a+b-1) % 3 + 1 if level else ((b-a+1)%3) * 3 + b + 1\n",
    "    return total"
   ]
  },
  {
   "cell_type": "code",
   "execution_count": 191,
   "metadata": {
    "collapsed": false,
    "jupyter": {
     "outputs_hidden": false
    }
   },
   "outputs": [
    {
     "name": "stdout",
     "output_type": "stream",
     "text": [
      "Part a already solved with same answer: 8176\n",
      "Part b already solved with same answer: 2689\n"
     ]
    }
   ],
   "source": [
    "def prio(c: str) -> int:\n",
    "    return ord(c.lower()) - ord('a') + 1 + c.isupper() * 26\n",
    "\n",
    "@level_ab(3, test=(\"\"\"vJrwpWtwJgWrhcsFMMfFFhFp\\njqHRNqRjqzjGDLGLrsFMfFZSrLrFZsSL\\nPmmdzqPrVvPwwTWBwg\\nwMqvLMZHhHMvwLHjbvcjnnSBnvTQFn\\nttgJtRGJQctTZtZT\\nCrZsJsPPZsGzwwsLwLmpwMDw\"\"\", 157, 70), sep=\"\\n\")\n",
    "def solve(lines: List[str], level=0):\n",
    "    total = 0\n",
    "    if level:\n",
    "        for i in range(0, len(lines)-1, 3):\n",
    "            a, b, c = map(set, lines[i: i+3])\n",
    "            total += prio(next(iter(a & b & c)))\n",
    "    else:\n",
    "        for line in lines:\n",
    "            offset = len(line)//2\n",
    "            a, b = set(line[:offset]), set(line[offset:])\n",
    "            total += sum([prio(c) for c in a & b])\n",
    "    return total"
   ]
  },
  {
   "cell_type": "code",
   "execution_count": 192,
   "metadata": {
    "collapsed": false,
    "jupyter": {
     "outputs_hidden": false
    }
   },
   "outputs": [
    {
     "name": "stdout",
     "output_type": "stream",
     "text": [
      "Part a already solved with same answer: 584\n",
      "Part b already solved with same answer: 933\n"
     ]
    }
   ],
   "source": [
    "@level_ab(4, test=(\"\"\"2-4,6-8\\n2-3,4-5\\n5-7,7-9\\n2-8,3-7\\n6-6,4-6\\n2-6,4-8\"\"\", 2, 4), sep=\"\\n\",\n",
    "          apply=lambda line: map(int, re.findall(r\"(\\d+)-(\\d+),(\\d+)-(\\d+)\", line)[0]))\n",
    "def solve(lines: List[str], level=0, ):\n",
    "    total = 0\n",
    "    for a, b, c, d in lines:\n",
    "        left, right = set(range(a, b+1)), set(range(c, d+1))\n",
    "        total += bool(left & right) if level else left.issuperset(right) or right.issuperset(left)\n",
    "    return total"
   ]
  },
  {
   "cell_type": "code",
   "execution_count": 193,
   "metadata": {
    "collapsed": false,
    "jupyter": {
     "outputs_hidden": false
    }
   },
   "outputs": [
    {
     "name": "stdout",
     "output_type": "stream",
     "text": [
      "Part a already solved with same answer: TPGVQPFDH\n",
      "Part b already solved with same answer: DMRDFRHHH\n"
     ]
    }
   ],
   "source": [
    "@level_ab(5, test=('    [D]\\n[N] [C]\\n[Z] [M] [P]\\n 1   2   3\\n\\nmove 1 from 2 to 1\\nmove 3 from 1 to 3\\nmove 2 from 2 to 1\\nmove 1 from 1 to 2', \"CMZ\", \"MCD\"), sep=\"\\n\")\n",
    "def solve(lines: List[str], level=0):\n",
    "    stacks = defaultdict(list)\n",
    "    lines = iter(lines)\n",
    "    for line in lines:\n",
    "        if line.startswith(\" 1 \"):\n",
    "            next(lines)  # forward iterator by 1\n",
    "            break\n",
    "        for pos, dst in enumerate(line):\n",
    "            if dst.isalpha():  # skip \"[\", \"]\", \" \"\n",
    "                stacks[1+pos//4].insert(0, dst)\n",
    "    for line in lines:\n",
    "        _, amount, _, src, _, dst = line.split(\" \")\n",
    "        amount, src, dst = int(amount), int(src), int(dst)\n",
    "        picked = [stacks[src].pop() for _ in range(amount)]\n",
    "        stacks[dst].extend(reversed(picked) if level else picked)\n",
    "    return \"\".join([stacks[i][-1] for i in sorted(stacks.keys())])"
   ]
  },
  {
   "cell_type": "code",
   "execution_count": 194,
   "metadata": {
    "collapsed": false,
    "jupyter": {
     "outputs_hidden": false
    }
   },
   "outputs": [
    {
     "name": "stdout",
     "output_type": "stream",
     "text": [
      "Part a already solved with same answer: 1134\n",
      "Part b already solved with same answer: 2263\n"
     ]
    }
   ],
   "source": [
    "@level_ab(6, test=(\"\"\"mjqjpqmgbljsphdztnvjfqwrcgsmlb\"\"\", 7, 19), sep=\"\\n\")\n",
    "def solve(lines: List[str], level=0):\n",
    "    offset = 4 + level * 10\n",
    "    for line in lines:\n",
    "        for i in range(len(line)-offset):\n",
    "            if len(set(line[i:i+offset])) == offset:\n",
    "                return i+offset"
   ]
  },
  {
   "cell_type": "code",
   "execution_count": 195,
   "metadata": {
    "collapsed": false,
    "jupyter": {
     "outputs_hidden": false
    }
   },
   "outputs": [
    {
     "name": "stdout",
     "output_type": "stream",
     "text": [
      "Part a already solved with same answer: 1989474\n",
      "Part b already solved with same answer: 1111607\n"
     ]
    }
   ],
   "source": [
    "def dir_sum(dir_name: str, root: Dict[str, Dict], dirs_name_size: Dict[str, int]) -> int:\n",
    "    \"\"\" recursively sum up sizes of subdirectories and add all to a global list \"\"\"\n",
    "    total_size = 0\n",
    "    for file_name, file_dict_or_size in root.items():\n",
    "        if type(file_dict_or_size) == dict and file_name != \"..\":\n",
    "            total_size += dir_sum(dir_name + \"/\" + file_name, file_dict_or_size, dirs_name_size)\n",
    "        elif type(file_dict_or_size) == int:\n",
    "            total_size += file_dict_or_size\n",
    "    dirs_name_size[dir_name] = total_size\n",
    "    return total_size\n",
    "\n",
    "@level_ab(7, test=('$ cd /\\n$ ls\\ndir a\\n14848514 b.txt\\n8504156 c.dat\\ndir d\\n$ cd a\\n$ ls\\ndir e\\n29116 f\\n2557 g\\n62596 h.lst\\n$ cd e\\n$ ls\\n584 i\\n$ cd ..\\n$ cd ..\\n$ cd d\\n$ ls\\n4060174 j\\n8033020 d.log\\n5626152 d.ext\\n7214296 k', 95437, 24933642), sep=\"\\n\")\n",
    "def solve(lines: List[str], level=0):\n",
    "    root = curr = dict()\n",
    "    for line in lines:\n",
    "        a, b, *c = line.split(\" \")\n",
    "        if a == \"$\":\n",
    "            if b == \"cd\":  # just ignore ls case\n",
    "                c = c[0]\n",
    "                curr = root if c == \"/\" else curr[c]\n",
    "        else:\n",
    "            curr[b] = {\"..\": curr} if a == \"dir\" else int(a)\n",
    "    total = dir_sum(\"\", root, dirs_name_size := dict())\n",
    "    level_filter = [lambda s: s < 100_000, lambda s: s > total - 40000000][level]\n",
    "    sizes = sorted(filter(level_filter, dirs_name_size.values()))\n",
    "    return min(sizes) if level else sum(sizes)"
   ]
  },
  {
   "cell_type": "code",
   "execution_count": 196,
   "metadata": {
    "collapsed": false,
    "jupyter": {
     "outputs_hidden": false
    }
   },
   "outputs": [
    {
     "name": "stdout",
     "output_type": "stream",
     "text": [
      "Part a already solved with same answer: 1662\n",
      "Part b already solved with same answer: 537600\n"
     ]
    }
   ],
   "source": [
    "@level_ab(8, test=('30373\\n25512\\n65332\\n33549\\n35390', 21, 8), sep=\"\\n\")\n",
    "def solve(lines: List[str], level=0):\n",
    "    f = np.array([[int(c) for c in line] for line in lines])\n",
    "    vis, score = np.zeros_like(f), np.ones_like(f, dtype=int)\n",
    "    for _ in range(4):  # repeat with 4 rotations\n",
    "        for (i, j), val in np.ndenumerate(f):\n",
    "            if level:  # walk down 1, 2, 3... steps\n",
    "                for d in range(0, len(f)-j):\n",
    "                    if d == 0:\n",
    "                        continue\n",
    "                    if f[i, j+d] >= f[i, j]:\n",
    "                        break\n",
    "                score[i, j] *= d  # noqa\n",
    "            else:\n",
    "                if j == 0 or max(f[i, :j]) < f[i, j]:\n",
    "                    vis[i, j] = True\n",
    "        f, vis, score = np.rot90(f), np.rot90(vis), np.rot90(score)\n",
    "    return score.max() if level else vis.sum()"
   ]
  },
  {
   "cell_type": "code",
   "execution_count": 197,
   "metadata": {
    "collapsed": false,
    "jupyter": {
     "outputs_hidden": false
    }
   },
   "outputs": [
    {
     "name": "stdout",
     "output_type": "stream",
     "text": [
      "Part a already solved with same answer: 6486\n",
      "Part b already solved with same answer: 2678\n"
     ]
    }
   ],
   "source": [
    "@level_ab(9, test=('R 4\\nU 4\\nL 3\\nD 1\\nR 4\\nD 1\\nL 5\\nR 2', 13, 1), sep=\"\\n\")\n",
    "def solve(lines: List[str], level=0):\n",
    "    snake = np.zeros((10 if level else 2, 2), dtype=int)\n",
    "    visited = {tuple(snake[0])}\n",
    "    for line in lines:\n",
    "        dir_letter, amount = line.split(\" \")\n",
    "        for _ in range(int(amount)):\n",
    "            snake[0] += dir_lookup[dir_letter]  # move head\n",
    "            for i in range(1, len(snake)):\n",
    "                dist = snake[i-1] - snake[i]\n",
    "                if abs(dist).max() > 1:  # pull head if x or y dist > 1\n",
    "                    snake[i] += np.sign(dist)  # pull maximally 1/1, -1/1, 1/0...\n",
    "                visited.add(tuple(snake[-1]))\n",
    "    return len(visited)"
   ]
  },
  {
   "cell_type": "code",
   "execution_count": 198,
   "outputs": [
    {
     "name": "stdout",
     "output_type": "stream",
     "text": [
      "Part a already solved with same answer: 15260\n",
      "##  ##  ##  ##  ##  ##  ##  ##  ##  ##  \n",
      "###   ###   ###   ###   ###   ###   ### \n",
      "####    ####    ####    ####    ####    \n",
      "#####     #####     #####     #####     \n",
      "######      ######      ######      ####\n",
      "#######       #######       #######     \n",
      " \n",
      "###   ##  #  # ####  ##  #    #  #  ####\n",
      "#  # #  # #  # #    #  # #    #  # #  ##\n",
      "#  # #    #### ###  #    #    #  # #   #\n",
      "###  # ## #  # #    # ## #    #  # # ###\n",
      "#    #  # #  # #    #  # #    #  # #  # \n",
      "#     ### #  # #     ### ####  ##   ### \n",
      " \n",
      "Part b already solved with same answer: PGHFGLUG\n"
     ]
    }
   ],
   "source": [
    "@level_ab(10, test=('addx 15\\naddx -11\\naddx 6\\naddx -3\\naddx 5\\naddx -1\\naddx -8\\naddx 13\\naddx 4\\nnoop\\naddx -1\\naddx 5\\naddx -1\\naddx 5\\naddx -1\\naddx 5\\naddx -1\\naddx 5\\naddx -1\\naddx -35\\naddx 1\\naddx 24\\naddx -19\\naddx 1\\naddx 16\\naddx -11\\nnoop\\nnoop\\naddx 21\\naddx -15\\nnoop\\nnoop\\naddx -3\\naddx 9\\naddx 1\\naddx -3\\naddx 8\\naddx 1\\naddx 5\\nnoop\\nnoop\\nnoop\\nnoop\\nnoop\\naddx -36\\nnoop\\naddx 1\\naddx 7\\nnoop\\nnoop\\nnoop\\naddx 2\\naddx 6\\nnoop\\nnoop\\nnoop\\nnoop\\nnoop\\naddx 1\\nnoop\\nnoop\\naddx 7\\naddx 1\\nnoop\\naddx -13\\naddx 13\\naddx 7\\nnoop\\naddx 1\\naddx -33\\nnoop\\nnoop\\nnoop\\naddx 2\\nnoop\\nnoop\\nnoop\\naddx 8\\nnoop\\naddx -1\\naddx 2\\naddx 1\\nnoop\\naddx 17\\naddx -9\\naddx 1\\naddx 1\\naddx -3\\naddx 11\\nnoop\\nnoop\\naddx 1\\nnoop\\naddx 1\\nnoop\\nnoop\\naddx -13\\naddx -19\\naddx 1\\naddx 3\\naddx 26\\naddx -30\\naddx 12\\naddx -1\\naddx 3\\naddx 1\\nnoop\\nnoop\\nnoop\\naddx -9\\naddx 18\\naddx 1\\naddx 2\\nnoop\\nnoop\\naddx 9\\nnoop\\nnoop\\nnoop\\naddx -1\\naddx 2\\naddx -37\\naddx 1\\naddx 3\\nnoop\\naddx 15\\naddx -21\\naddx 22\\naddx -6\\naddx 1\\nnoop\\naddx 2\\naddx 1\\nnoop\\naddx -10\\nnoop\\nnoop\\naddx 20\\naddx 1\\naddx 2\\naddx 2\\naddx -6\\naddx -11\\nnoop\\nnoop\\nnoop', 13140, \"PGHFGLUG\"), sep=\"\\n\")\n",
    "def solve(lines: List[str], level=0):\n",
    "    states, x = [1], 1\n",
    "    for line in lines:\n",
    "        states.append(x)\n",
    "        if line.startswith(\"addx\"):\n",
    "            x += int(line[5:])\n",
    "            states.append(x)\n",
    "    if level:\n",
    "        for t, v in enumerate(states):\n",
    "            print(\"#\" if ((v-t+1)%40)//3==0 else \" \", end=\"\\n\" if t%40 == 39 else \"\")\n",
    "        print()\n",
    "        return \"PGHFGLUG\"\n",
    "    else:\n",
    "        return sum([states[i-1]*i for i in (20, 60, 100, 140, 180, 220)])"
   ],
   "metadata": {
    "collapsed": false
   }
  },
  {
   "cell_type": "code",
   "execution_count": 199,
   "outputs": [
    {
     "name": "stdout",
     "output_type": "stream",
     "text": [
      "Part a already solved with same answer: 110264\n",
      "Part b already solved with same answer: 23612457316\n"
     ]
    }
   ],
   "source": [
    "class Monkey:\n",
    "    def __init__(self, chunk: str):\n",
    "        self.residue = 0  # equivalence class for numbers\n",
    "        self.cnt = 0\n",
    "        self.next_items = []\n",
    "\n",
    "        self.id, self.items, self.op, self.num, self.divisor, self.if_true, self.if_false = re.match(r\"\"\"Monkey (\\d+):\n",
    "  Starting items: (\\d+(?:, \\d+)*)\n",
    "  Operation: new = old (.) (.+)\n",
    "  Test: divisible by (\\d+)\n",
    "    If true: throw to monkey (\\d+)\n",
    "    If false: throw to monkey (\\d+)\"\"\", chunk).groups()\n",
    "        self.id, self.divisor, self.if_true, self.if_false = int(self.id), int(self.divisor), int(self.if_true), int(self.if_false)\n",
    "        self.items = [int(i) for i in self.items.split(\", \")]\n",
    "\n",
    "        if self.num == \"old\":\n",
    "            self.op = lambda x: x**2\n",
    "        else:\n",
    "            self.num = int(self.num)\n",
    "            if \"*\" in self.op:\n",
    "                self.op = lambda x: x * self.num\n",
    "            elif \"+\" in self.op:\n",
    "                self.op = lambda x: x + self.num\n",
    "\n",
    "    def process(self, monkeys):\n",
    "        self.cnt += len(self.items)\n",
    "        for i in self.items:\n",
    "            i = self.op(i)\n",
    "            if self.residue:\n",
    "                i = i % self.residue\n",
    "            else:\n",
    "                i //= 3\n",
    "            target = self.if_true if i % self.divisor == 0 else self.if_false\n",
    "            monkeys[target].items.append(i)\n",
    "        self.items = []\n",
    "\n",
    "\n",
    "@level_ab(11, test=('Monkey 0:\\n  Starting items: 79, 98\\n  Operation: new = old * 19\\n  Test: divisible by 23\\n    If true: throw to monkey 2\\n    If false: throw to monkey 3\\n\\nMonkey 1:\\n  Starting items: 54, 65, 75, 74\\n  Operation: new = old + 6\\n  Test: divisible by 19\\n    If true: throw to monkey 2\\n    If false: throw to monkey 0\\n\\nMonkey 2:\\n  Starting items: 79, 60, 97\\n  Operation: new = old * old\\n  Test: divisible by 13\\n    If true: throw to monkey 1\\n    If false: throw to monkey 3\\n\\nMonkey 3:\\n  Starting items: 74\\n  Operation: new = old + 3\\n  Test: divisible by 17\\n    If true: throw to monkey 0\\n    If false: throw to monkey 1', 10605, 2713310158), sep=\"\\n\\n\")\n",
    "def solve(chunks: List[str], level=0):\n",
    "    monkeys = [Monkey(chunk) for chunk in chunks]\n",
    "    if level:\n",
    "        divisors = np.lcm.reduce([m.divisor for m in monkeys])  # noqa\n",
    "        for m in monkeys:\n",
    "            m.residue = divisors\n",
    "    for i in range(10000 if level else 20):\n",
    "        for m in monkeys:\n",
    "            m.process(monkeys)\n",
    "    return np.prod(sorted([m.cnt for m in monkeys])[-2:])"
   ],
   "metadata": {
    "collapsed": false
   }
  },
  {
   "cell_type": "code",
   "execution_count": 200,
   "outputs": [
    {
     "name": "stdout",
     "output_type": "stream",
     "text": [
      "Part a already solved with same answer: 472\n",
      "Part b already solved with same answer: 465\n"
     ]
    }
   ],
   "source": [
    "def coord_in_arr(coord: Tuple[int, int], arr: np.ndarray) -> bool:\n",
    "    return all(0 <= pos < dim_len for pos, dim_len in zip(coord, arr.shape))\n",
    "\n",
    "def pos_of_value(arr: np.ndarray, value: Any):\n",
    "    return next(zip(*np.where(arr==value)))\n",
    "\n",
    "@level_ab(12, test=('Sabqponm\\nabcryxxl\\naccszExk\\nacctuvwj\\nabdefghi', 31, 29), sep=\"\\n\")\n",
    "def solve(lines: List[str], level=0):\n",
    "    f = np.array([[ord(c) for c in line] for line in lines])\n",
    "    start = pos_of_value(f, ord(\"S\"))\n",
    "    end = pos_of_value(f, ord(\"E\"))\n",
    "    f[start], f[end] = ord('a'), ord('z')\n",
    "\n",
    "    g = nx.DiGraph()\n",
    "    for pos, curr in np.ndenumerate(f):\n",
    "        for x, y in dir_lookup.values():\n",
    "            e = pos[0] + x, pos[1] + y\n",
    "            if coord_in_arr(e, f) and curr <= f[e] + 1:\n",
    "                g.add_edge(e, pos)\n",
    "    if level:\n",
    "        apos = zip(*np.where(f==ord('a')))\n",
    "        return min(nx.shortest_path_length(g, start, end) for start in apos if nx.has_path(g, start, end))\n",
    "    else:\n",
    "        return nx.shortest_path_length(g, start, end)"
   ],
   "metadata": {
    "collapsed": false
   }
  },
  {
   "cell_type": "code",
   "execution_count": 168,
   "outputs": [
    {
     "ename": "AssertionError",
     "evalue": "Test failed 2 != 31 with data\n'\\n'",
     "output_type": "error",
     "traceback": [
      "\u001B[0;31m---------------------------------------------------------------------------\u001B[0m",
      "\u001B[0;31mAssertionError\u001B[0m                            Traceback (most recent call last)",
      "Cell \u001B[0;32mIn[168], line 3\u001B[0m\n\u001B[1;32m      1\u001B[0m \u001B[38;5;129;43m@level_ab\u001B[39;49m\u001B[43m(\u001B[49m\u001B[38;5;241;43m13\u001B[39;49m\u001B[43m,\u001B[49m\u001B[43m \u001B[49m\u001B[43mtest\u001B[49m\u001B[38;5;241;43m=\u001B[39;49m\u001B[43m(\u001B[49m\u001B[38;5;124;43m\"\"\"\u001B[39;49m\n\u001B[1;32m      2\u001B[0m \u001B[38;5;124;43m\"\"\"\u001B[39;49m\u001B[43m,\u001B[49m\u001B[43m \u001B[49m\u001B[38;5;241;43m31\u001B[39;49m\u001B[43m,\u001B[49m\u001B[43m \u001B[49m\u001B[38;5;241;43m29\u001B[39;49m\u001B[43m)\u001B[49m\u001B[43m,\u001B[49m\u001B[43m \u001B[49m\u001B[43msep\u001B[49m\u001B[38;5;241;43m=\u001B[39;49m\u001B[38;5;124;43m\"\u001B[39;49m\u001B[38;5;130;43;01m\\n\u001B[39;49;00m\u001B[38;5;124;43m\"\u001B[39;49m\u001B[43m)\u001B[49m\n\u001B[0;32m----> 3\u001B[0m \u001B[38;5;28;43;01mdef\u001B[39;49;00m\u001B[43m \u001B[49m\u001B[38;5;21;43msolve\u001B[39;49m\u001B[43m(\u001B[49m\u001B[43mlines\u001B[49m\u001B[43m:\u001B[49m\u001B[43m \u001B[49m\u001B[43mList\u001B[49m\u001B[43m[\u001B[49m\u001B[38;5;28;43mstr\u001B[39;49m\u001B[43m]\u001B[49m\u001B[43m,\u001B[49m\u001B[43m \u001B[49m\u001B[43mlevel\u001B[49m\u001B[38;5;241;43m=\u001B[39;49m\u001B[38;5;241;43m0\u001B[39;49m\u001B[43m)\u001B[49m\u001B[43m:\u001B[49m\n\u001B[1;32m      4\u001B[0m \u001B[43m    \u001B[49m\u001B[38;5;28;43;01mreturn\u001B[39;49;00m\u001B[43m \u001B[49m\u001B[38;5;28;43mlen\u001B[39;49m\u001B[43m(\u001B[49m\u001B[43mlines\u001B[49m\u001B[43m)\u001B[49m\n",
      "File \u001B[0;32m~/IdeaProjects/advent-of-code/lib.py:34\u001B[0m, in \u001B[0;36mlevel_ab.<locals>.solver\u001B[0;34m(solve)\u001B[0m\n\u001B[1;32m     32\u001B[0m \u001B[38;5;28;01mif\u001B[39;00m test \u001B[38;5;129;01mand\u001B[39;00m (actual \u001B[38;5;241m:=\u001B[39m test[\u001B[38;5;241m1\u001B[39m \u001B[38;5;241m+\u001B[39m level]) \u001B[38;5;129;01mis\u001B[39;00m \u001B[38;5;129;01mnot\u001B[39;00m \u001B[38;5;28;01mNone\u001B[39;00m:\n\u001B[1;32m     33\u001B[0m     result \u001B[38;5;241m=\u001B[39m solve(parse(test[\u001B[38;5;241m0\u001B[39m]), level)\n\u001B[0;32m---> 34\u001B[0m     \u001B[38;5;28;01massert\u001B[39;00m result \u001B[38;5;241m==\u001B[39m actual, \u001B[38;5;124mf\u001B[39m\u001B[38;5;124m\"\u001B[39m\u001B[38;5;124mTest failed \u001B[39m\u001B[38;5;132;01m{\u001B[39;00mresult\u001B[38;5;132;01m}\u001B[39;00m\u001B[38;5;124m != \u001B[39m\u001B[38;5;132;01m{\u001B[39;00mactual\u001B[38;5;132;01m}\u001B[39;00m\u001B[38;5;124m with data\u001B[39m\u001B[38;5;130;01m\\n\u001B[39;00m\u001B[38;5;132;01m{\u001B[39;00m\u001B[38;5;28mrepr\u001B[39m(test[\u001B[38;5;241m0\u001B[39m])\u001B[38;5;132;01m}\u001B[39;00m\u001B[38;5;124m\"\u001B[39m\n\u001B[1;32m     36\u001B[0m \u001B[38;5;66;03m# solve real\u001B[39;00m\n\u001B[1;32m     37\u001B[0m sol \u001B[38;5;241m=\u001B[39m solve(parse(get_data(day\u001B[38;5;241m=\u001B[39mday)), level)\n",
      "\u001B[0;31mAssertionError\u001B[0m: Test failed 2 != 31 with data\n'\\n'"
     ]
    }
   ],
   "source": [
    "@level_ab(13, test=(\"\"\"\n",
    "\"\"\", 31, 29), sep=\"\\n\")\n",
    "def solve(lines: List[str], level=0):\n",
    "    return len(lines)"
   ],
   "metadata": {
    "collapsed": false
   }
  },
  {
   "cell_type": "code",
   "execution_count": null,
   "outputs": [],
   "source": [],
   "metadata": {
    "collapsed": false
   }
  }
 ],
 "metadata": {
  "kernelspec": {
   "display_name": "Python 3 (ipykernel)",
   "language": "python",
   "name": "python3"
  },
  "language_info": {
   "codemirror_mode": {
    "name": "ipython",
    "version": 3
   },
   "file_extension": ".py",
   "mimetype": "text/x-python",
   "name": "python",
   "nbconvert_exporter": "python",
   "pygments_lexer": "ipython3",
   "version": "3.10.8"
  }
 },
 "nbformat": 4,
 "nbformat_minor": 4
}
