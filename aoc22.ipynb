{
 "cells": [
  {
   "cell_type": "code",
   "execution_count": 1,
   "metadata": {
    "tags": []
   },
   "outputs": [],
   "source": [
    "from lib import *\n",
    "dir_lookup = {\"R\": (1, 0), \"L\": (-1, 0), \"U\": (0, 1), \"D\": (0, -1)}"
   ]
  },
  {
   "cell_type": "code",
   "execution_count": 2,
   "metadata": {
    "collapsed": false,
    "jupyter": {
     "outputs_hidden": false
    }
   },
   "outputs": [
    {
     "name": "stdout",
     "output_type": "stream",
     "text": [
      "✓ Part a already solved with same answer: 69912\n",
      "✓ Part b already solved with same answer: 208180\n"
     ]
    }
   ],
   "source": [
    "@level_ab(1, test=('1000\\n2000\\n3000\\n\\n4000\\n\\n5000\\n6000\\n\\n7000\\n8000\\n9000\\n\\n10000', 24000, 45000), sep=\"\\n\\n\")\n",
    "def solve(num: List[str], level=0):\n",
    "    chunks = [sum(map(int, line.split(\"\\n\"))) for line in num]\n",
    "    return sum(list(sorted(chunks, reverse=True))[:3]) if level else max(chunks)"
   ]
  },
  {
   "cell_type": "code",
   "execution_count": 3,
   "metadata": {
    "collapsed": false,
    "jupyter": {
     "outputs_hidden": false
    }
   },
   "outputs": [
    {
     "name": "stdout",
     "output_type": "stream",
     "text": [
      "✓ Part a already solved with same answer: 11603\n",
      "✓ Part b already solved with same answer: 12725\n"
     ]
    }
   ],
   "source": [
    "@level_ab(2, test=(\"\"\"A Y\\nB X\\nC Z\"\"\", 15, 12), sep=\"\\n\", apply=lambda line: line.split(\" \"))\n",
    "def solve(lines: List[str], level=0):\n",
    "    total = 0\n",
    "    for a, b in lines:\n",
    "        a, b = ord(a) - ord('A'), ord(b) - ord('X')\n",
    "        total += b * 3 + (a+b-1) % 3 + 1 if level else ((b-a+1)%3) * 3 + b + 1\n",
    "    return total"
   ]
  },
  {
   "cell_type": "code",
   "execution_count": 4,
   "metadata": {
    "collapsed": false,
    "jupyter": {
     "outputs_hidden": false
    }
   },
   "outputs": [
    {
     "name": "stdout",
     "output_type": "stream",
     "text": [
      "✓ Part a already solved with same answer: 8176\n",
      "✓ Part b already solved with same answer: 2689\n"
     ]
    }
   ],
   "source": [
    "def prio(c: str) -> int:\n",
    "    return ord(c.lower()) - ord('a') + 1 + c.isupper() * 26\n",
    "\n",
    "@level_ab(3, test=(\"\"\"vJrwpWtwJgWrhcsFMMfFFhFp\\njqHRNqRjqzjGDLGLrsFMfFZSrLrFZsSL\\nPmmdzqPrVvPwwTWBwg\\nwMqvLMZHhHMvwLHjbvcjnnSBnvTQFn\\nttgJtRGJQctTZtZT\\nCrZsJsPPZsGzwwsLwLmpwMDw\"\"\", 157, 70), sep=\"\\n\")\n",
    "def solve(lines: List[str], level=0):\n",
    "    total = 0\n",
    "    if level:\n",
    "        for i in range(0, len(lines)-1, 3):\n",
    "            a, b, c = map(set, lines[i: i+3])\n",
    "            total += prio(next(iter(a & b & c)))\n",
    "    else:\n",
    "        for line in lines:\n",
    "            offset = len(line)//2\n",
    "            a, b = set(line[:offset]), set(line[offset:])\n",
    "            total += sum([prio(c) for c in a & b])\n",
    "    return total"
   ]
  },
  {
   "cell_type": "code",
   "execution_count": 5,
   "metadata": {
    "collapsed": false,
    "jupyter": {
     "outputs_hidden": false
    }
   },
   "outputs": [
    {
     "name": "stdout",
     "output_type": "stream",
     "text": [
      "✓ Part a already solved with same answer: 584\n",
      "✓ Part b already solved with same answer: 933\n"
     ]
    }
   ],
   "source": [
    "@level_ab(4, test=(\"\"\"2-4,6-8\\n2-3,4-5\\n5-7,7-9\\n2-8,3-7\\n6-6,4-6\\n2-6,4-8\"\"\", 2, 4), sep=\"\\n\",\n",
    "          apply=lambda line: map(int, re.findall(r\"(\\d+)-(\\d+),(\\d+)-(\\d+)\", line)[0]))\n",
    "def solve(lines: List[str], level=0, ):\n",
    "    total = 0\n",
    "    for a, b, c, d in lines:\n",
    "        left, right = set(range(a, b+1)), set(range(c, d+1))\n",
    "        total += bool(left & right) if level else left.issuperset(right) or right.issuperset(left)\n",
    "    return total"
   ]
  },
  {
   "cell_type": "code",
   "execution_count": 6,
   "metadata": {
    "collapsed": false,
    "jupyter": {
     "outputs_hidden": false
    }
   },
   "outputs": [
    {
     "name": "stdout",
     "output_type": "stream",
     "text": [
      "✓ Part a already solved with same answer: TPGVQPFDH\n",
      "✓ Part b already solved with same answer: DMRDFRHHH\n"
     ]
    }
   ],
   "source": [
    "@level_ab(5, test=('    [D]\\n[N] [C]\\n[Z] [M] [P]\\n 1   2   3\\n\\nmove 1 from 2 to 1\\nmove 3 from 1 to 3\\nmove 2 from 2 to 1\\nmove 1 from 1 to 2', \"CMZ\", \"MCD\"), sep=\"\\n\")\n",
    "def solve(lines: List[str], level=0):\n",
    "    stacks = defaultdict(list)\n",
    "    lines = iter(lines)\n",
    "    for line in lines:\n",
    "        if line.startswith(\" 1 \"):\n",
    "            next(lines)  # forward iterator by 1\n",
    "            break\n",
    "        for pos, dst in enumerate(line):\n",
    "            if dst.isalpha():  # skip \"[\", \"]\", \" \"\n",
    "                stacks[1+pos//4].insert(0, dst)\n",
    "    for line in lines:\n",
    "        _, amount, _, src, _, dst = line.split(\" \")\n",
    "        amount, src, dst = int(amount), int(src), int(dst)\n",
    "        picked = [stacks[src].pop() for _ in range(amount)]\n",
    "        stacks[dst].extend(reversed(picked) if level else picked)\n",
    "    return \"\".join([stacks[i][-1] for i in sorted(stacks.keys())])"
   ]
  },
  {
   "cell_type": "code",
   "execution_count": 7,
   "metadata": {
    "collapsed": false,
    "jupyter": {
     "outputs_hidden": false
    }
   },
   "outputs": [
    {
     "name": "stdout",
     "output_type": "stream",
     "text": [
      "✓ Part a already solved with same answer: 1134\n",
      "✓ Part b already solved with same answer: 2263\n"
     ]
    }
   ],
   "source": [
    "@level_ab(6, test=(\"\"\"mjqjpqmgbljsphdztnvjfqwrcgsmlb\"\"\", 7, 19), sep=\"\\n\")\n",
    "def solve(lines: List[str], level=0):\n",
    "    offset = 4 + level * 10\n",
    "    for line in lines:\n",
    "        for i in range(len(line)-offset):\n",
    "            if len(set(line[i:i+offset])) == offset:\n",
    "                return i+offset"
   ]
  },
  {
   "cell_type": "code",
   "execution_count": 8,
   "metadata": {
    "collapsed": false,
    "jupyter": {
     "outputs_hidden": false
    }
   },
   "outputs": [
    {
     "name": "stdout",
     "output_type": "stream",
     "text": [
      "✓ Part a already solved with same answer: 1989474\n",
      "✓ Part b already solved with same answer: 1111607\n"
     ]
    }
   ],
   "source": [
    "def dir_sum(dir_name: str, root: Dict[str, Dict], dirs_name_size: Dict[str, int]) -> int:\n",
    "    \"\"\" recursively sum up sizes of subdirectories and add all to a global list \"\"\"\n",
    "    total_size = 0\n",
    "    for file_name, file_dict_or_size in root.items():\n",
    "        if type(file_dict_or_size) == dict and file_name != \"..\":\n",
    "            total_size += dir_sum(dir_name + \"/\" + file_name, file_dict_or_size, dirs_name_size)\n",
    "        elif type(file_dict_or_size) == int:\n",
    "            total_size += file_dict_or_size\n",
    "    dirs_name_size[dir_name] = total_size\n",
    "    return total_size\n",
    "\n",
    "@level_ab(7, test=('$ cd /\\n$ ls\\ndir a\\n14848514 b.txt\\n8504156 c.dat\\ndir d\\n$ cd a\\n$ ls\\ndir e\\n29116 f\\n2557 g\\n62596 h.lst\\n$ cd e\\n$ ls\\n584 i\\n$ cd ..\\n$ cd ..\\n$ cd d\\n$ ls\\n4060174 j\\n8033020 d.log\\n5626152 d.ext\\n7214296 k', 95437, 24933642), sep=\"\\n\")\n",
    "def solve(lines: List[str], level=0):\n",
    "    root = curr = dict()\n",
    "    for line in lines:\n",
    "        a, b, *c = line.split(\" \")\n",
    "        if a == \"$\":\n",
    "            if b == \"cd\":  # just ignore ls case\n",
    "                c = c[0]\n",
    "                curr = root if c == \"/\" else curr[c]\n",
    "        else:\n",
    "            curr[b] = {\"..\": curr} if a == \"dir\" else int(a)\n",
    "    total = dir_sum(\"\", root, dirs_name_size := dict())\n",
    "    level_filter = [lambda s: s < 100_000, lambda s: s > total - 40000000][level]\n",
    "    sizes = sorted(filter(level_filter, dirs_name_size.values()))\n",
    "    return min(sizes) if level else sum(sizes)"
   ]
  },
  {
   "cell_type": "code",
   "execution_count": 9,
   "metadata": {
    "collapsed": false,
    "jupyter": {
     "outputs_hidden": false
    }
   },
   "outputs": [
    {
     "name": "stdout",
     "output_type": "stream",
     "text": [
      "✓ Part a already solved with same answer: 1662\n",
      "✓ Part b already solved with same answer: 537600\n"
     ]
    }
   ],
   "source": [
    "@level_ab(8, test=('30373\\n25512\\n65332\\n33549\\n35390', 21, 8), sep=\"\\n\")\n",
    "def solve(lines: List[str], level=0):\n",
    "    f = np.array([[int(c) for c in line] for line in lines])\n",
    "    vis, score = np.zeros_like(f), np.ones_like(f, dtype=int)\n",
    "    for _ in range(4):  # repeat with 4 rotations\n",
    "        for (i, j), val in np.ndenumerate(f):\n",
    "            if level:  # walk down 1, 2, 3... steps\n",
    "                for d in range(0, len(f)-j):\n",
    "                    if d == 0:\n",
    "                        continue\n",
    "                    if f[i, j+d] >= f[i, j]:\n",
    "                        break\n",
    "                score[i, j] *= d  # noqa\n",
    "            else:\n",
    "                if j == 0 or max(f[i, :j]) < f[i, j]:\n",
    "                    vis[i, j] = True\n",
    "        f, vis, score = np.rot90(f), np.rot90(vis), np.rot90(score)\n",
    "    return score.max() if level else vis.sum()"
   ]
  },
  {
   "cell_type": "code",
   "execution_count": 10,
   "metadata": {
    "collapsed": false,
    "jupyter": {
     "outputs_hidden": false
    }
   },
   "outputs": [
    {
     "name": "stdout",
     "output_type": "stream",
     "text": [
      "✓ Part a already solved with same answer: 6486\n",
      "✓ Part b already solved with same answer: 2678\n"
     ]
    }
   ],
   "source": [
    "@level_ab(9, test=('R 4\\nU 4\\nL 3\\nD 1\\nR 4\\nD 1\\nL 5\\nR 2', 13, 1), sep=\"\\n\")\n",
    "def solve(lines: List[str], level=0):\n",
    "    snake = np.zeros((10 if level else 2, 2), dtype=int)\n",
    "    visited = {tuple(snake[0])}\n",
    "    for line in lines:\n",
    "        dir_letter, amount = line.split(\" \")\n",
    "        for _ in range(int(amount)):\n",
    "            snake[0] += dir_lookup[dir_letter]  # move head\n",
    "            for i in range(1, len(snake)):\n",
    "                dist = snake[i-1] - snake[i]\n",
    "                if abs(dist).max() > 1:  # pull head if x or y dist > 1\n",
    "                    snake[i] += np.sign(dist)  # pull maximally 1/1, -1/1, 1/0...\n",
    "                visited.add(tuple(snake[-1]))\n",
    "    return len(visited)"
   ]
  },
  {
   "cell_type": "code",
   "execution_count": 11,
   "outputs": [
    {
     "name": "stdout",
     "output_type": "stream",
     "text": [
      "✓ Part a already solved with same answer: 15260\n",
      "##  ##  ##  ##  ##  ##  ##  ##  ##  ##  \n",
      "###   ###   ###   ###   ###   ###   ### \n",
      "####    ####    ####    ####    ####    \n",
      "#####     #####     #####     #####     \n",
      "######      ######      ######      ####\n",
      "#######       #######       #######     \n",
      " \n",
      "✓ ###   ##  #  # ####  ##  #    #  #  ####\n",
      "#  # #  # #  # #    #  # #    #  # #  ##\n",
      "#  # #    #### ###  #    #    #  # #   #\n",
      "###  # ## #  # #    # ## #    #  # # ###\n",
      "#    #  # #  # #    #  # #    #  # #  # \n",
      "#     ### #  # #     ### ####  ##   ### \n",
      " \n",
      "Part b already solved with same answer: PGHFGLUG\n"
     ]
    }
   ],
   "source": [
    "@level_ab(10, test=('addx 15\\naddx -11\\naddx 6\\naddx -3\\naddx 5\\naddx -1\\naddx -8\\naddx 13\\naddx 4\\nnoop\\naddx -1\\naddx 5\\naddx -1\\naddx 5\\naddx -1\\naddx 5\\naddx -1\\naddx 5\\naddx -1\\naddx -35\\naddx 1\\naddx 24\\naddx -19\\naddx 1\\naddx 16\\naddx -11\\nnoop\\nnoop\\naddx 21\\naddx -15\\nnoop\\nnoop\\naddx -3\\naddx 9\\naddx 1\\naddx -3\\naddx 8\\naddx 1\\naddx 5\\nnoop\\nnoop\\nnoop\\nnoop\\nnoop\\naddx -36\\nnoop\\naddx 1\\naddx 7\\nnoop\\nnoop\\nnoop\\naddx 2\\naddx 6\\nnoop\\nnoop\\nnoop\\nnoop\\nnoop\\naddx 1\\nnoop\\nnoop\\naddx 7\\naddx 1\\nnoop\\naddx -13\\naddx 13\\naddx 7\\nnoop\\naddx 1\\naddx -33\\nnoop\\nnoop\\nnoop\\naddx 2\\nnoop\\nnoop\\nnoop\\naddx 8\\nnoop\\naddx -1\\naddx 2\\naddx 1\\nnoop\\naddx 17\\naddx -9\\naddx 1\\naddx 1\\naddx -3\\naddx 11\\nnoop\\nnoop\\naddx 1\\nnoop\\naddx 1\\nnoop\\nnoop\\naddx -13\\naddx -19\\naddx 1\\naddx 3\\naddx 26\\naddx -30\\naddx 12\\naddx -1\\naddx 3\\naddx 1\\nnoop\\nnoop\\nnoop\\naddx -9\\naddx 18\\naddx 1\\naddx 2\\nnoop\\nnoop\\naddx 9\\nnoop\\nnoop\\nnoop\\naddx -1\\naddx 2\\naddx -37\\naddx 1\\naddx 3\\nnoop\\naddx 15\\naddx -21\\naddx 22\\naddx -6\\naddx 1\\nnoop\\naddx 2\\naddx 1\\nnoop\\naddx -10\\nnoop\\nnoop\\naddx 20\\naddx 1\\naddx 2\\naddx 2\\naddx -6\\naddx -11\\nnoop\\nnoop\\nnoop', 13140, \"PGHFGLUG\"), sep=\"\\n\")\n",
    "def solve(lines: List[str], level=0):\n",
    "    states, x = [1], 1\n",
    "    for line in lines:\n",
    "        states.append(x)\n",
    "        if line.startswith(\"addx\"):\n",
    "            x += int(line[5:])\n",
    "            states.append(x)\n",
    "    if level:\n",
    "        for t, v in enumerate(states):\n",
    "            print(\"#\" if ((v-t+1)%40)//3==0 else \" \", end=\"\\n\" if t%40 == 39 else \"\")\n",
    "        print()\n",
    "        return \"PGHFGLUG\"\n",
    "    else:\n",
    "        return sum([states[i-1]*i for i in (20, 60, 100, 140, 180, 220)])"
   ],
   "metadata": {
    "collapsed": false
   }
  },
  {
   "cell_type": "code",
   "execution_count": 12,
   "outputs": [
    {
     "name": "stdout",
     "output_type": "stream",
     "text": [
      "✓ Part a already solved with same answer: 110264\n",
      "✓ Part b already solved with same answer: 23612457316\n"
     ]
    }
   ],
   "source": [
    "class Monkey:\n",
    "    def __init__(self, chunk: str):\n",
    "        self.residue = 0  # equivalence class for numbers\n",
    "        self.cnt = 0\n",
    "        self.next_items = []\n",
    "\n",
    "        self.id, self.items, self.op, self.num, self.divisor, self.if_true, self.if_false = re.match(r\"\"\"Monkey (\\d+):\n",
    "  Starting items: (\\d+(?:, \\d+)*)\n",
    "  Operation: new = old (.) (.+)\n",
    "  Test: divisible by (\\d+)\n",
    "    If true: throw to monkey (\\d+)\n",
    "    If false: throw to monkey (\\d+)\"\"\", chunk).groups()\n",
    "        self.id, self.divisor, self.if_true, self.if_false = int(self.id), int(self.divisor), int(self.if_true), int(self.if_false)\n",
    "        self.items = [int(i) for i in self.items.split(\", \")]\n",
    "\n",
    "        if self.num == \"old\":\n",
    "            self.op = lambda x: x**2\n",
    "        else:\n",
    "            self.num = int(self.num)\n",
    "            if \"*\" in self.op:\n",
    "                self.op = lambda x: x * self.num\n",
    "            elif \"+\" in self.op:\n",
    "                self.op = lambda x: x + self.num\n",
    "\n",
    "    def process(self, monkeys):\n",
    "        self.cnt += len(self.items)\n",
    "        for i in self.items:\n",
    "            i = self.op(i)\n",
    "            if self.residue:\n",
    "                i = i % self.residue\n",
    "            else:\n",
    "                i //= 3\n",
    "            target = self.if_true if i % self.divisor == 0 else self.if_false\n",
    "            monkeys[target].items.append(i)\n",
    "        self.items = []\n",
    "\n",
    "\n",
    "@level_ab(11, test=('Monkey 0:\\n  Starting items: 79, 98\\n  Operation: new = old * 19\\n  Test: divisible by 23\\n    If true: throw to monkey 2\\n    If false: throw to monkey 3\\n\\nMonkey 1:\\n  Starting items: 54, 65, 75, 74\\n  Operation: new = old + 6\\n  Test: divisible by 19\\n    If true: throw to monkey 2\\n    If false: throw to monkey 0\\n\\nMonkey 2:\\n  Starting items: 79, 60, 97\\n  Operation: new = old * old\\n  Test: divisible by 13\\n    If true: throw to monkey 1\\n    If false: throw to monkey 3\\n\\nMonkey 3:\\n  Starting items: 74\\n  Operation: new = old + 3\\n  Test: divisible by 17\\n    If true: throw to monkey 0\\n    If false: throw to monkey 1', 10605, 2713310158), sep=\"\\n\\n\")\n",
    "def solve(chunks: List[str], level=0):\n",
    "    monkeys = [Monkey(chunk) for chunk in chunks]\n",
    "    if level:\n",
    "        divisors = np.lcm.reduce([m.divisor for m in monkeys])  # noqa\n",
    "        for m in monkeys:\n",
    "            m.residue = divisors\n",
    "    for i in range(10000 if level else 20):\n",
    "        for m in monkeys:\n",
    "            m.process(monkeys)\n",
    "    return np.prod(sorted([m.cnt for m in monkeys])[-2:])"
   ],
   "metadata": {
    "collapsed": false
   }
  },
  {
   "cell_type": "code",
   "execution_count": 13,
   "outputs": [
    {
     "name": "stdout",
     "output_type": "stream",
     "text": [
      "✓ Part a already solved with same answer: 472\n",
      "✓ Part b already solved with same answer: 465\n"
     ]
    }
   ],
   "source": [
    "def coord_in_arr(coord: Tuple[int, int], arr: np.ndarray) -> bool:\n",
    "    return all(0 <= pos < dim_len for pos, dim_len in zip(coord, arr.shape))\n",
    "\n",
    "def pos_of_value(arr: np.ndarray, value: Any):\n",
    "    return next(zip(*np.where(arr==value)))\n",
    "\n",
    "@level_ab(12, test=('Sabqponm\\nabcryxxl\\naccszExk\\nacctuvwj\\nabdefghi', 31, 29), sep=\"\\n\")\n",
    "def solve(lines: List[str], level=0):\n",
    "    f = np.array([[ord(c) for c in line] for line in lines])\n",
    "    start = pos_of_value(f, ord(\"S\"))\n",
    "    end = pos_of_value(f, ord(\"E\"))\n",
    "    f[start], f[end] = ord('a'), ord('z')\n",
    "\n",
    "    g = nx.DiGraph()\n",
    "    for pos, curr in np.ndenumerate(f):\n",
    "        for x, y in dir_lookup.values():\n",
    "            e = pos[0] + x, pos[1] + y\n",
    "            if coord_in_arr(e, f) and curr <= f[e] + 1:\n",
    "                g.add_edge(e, pos)\n",
    "    if level:\n",
    "        apos = zip(*np.where(f==ord('a')))\n",
    "        return min(nx.shortest_path_length(g, start, end) for start in apos if nx.has_path(g, start, end))\n",
    "    else:\n",
    "        return nx.shortest_path_length(g, start, end)"
   ],
   "metadata": {
    "collapsed": false
   }
  },
  {
   "cell_type": "code",
   "execution_count": 14,
   "outputs": [
    {
     "name": "stdout",
     "output_type": "stream",
     "text": [
      "✓ Part a already solved with same answer: 6272\n",
      "✓ Part b already solved with same answer: 22288\n"
     ]
    }
   ],
   "source": [
    "def compare(a: int | List, b: int | List) -> Optional[bool]:\n",
    "    if isinstance(a, int) and isinstance(b, int):\n",
    "        if a == b:  # Otherwise, the inputs are the same integer\n",
    "            return None  # continue checking the next part of the input.\n",
    "        return a < b  # both values are integers, the lower integer should come first\n",
    "    elif isinstance(a, int):  # If exactly one value is an integer, convert the integer to a\n",
    "        return compare([a], b)  # list which contains that integer as its only value, then retry the comparison\n",
    "    elif isinstance(b, int):\n",
    "        return compare(a, [b])\n",
    "    elif isinstance(a, list) and isinstance(b, list):  # If both values are lists\n",
    "        for i in range(len(a)):  # compare the first value of each list, then the second value, and so on.\n",
    "            if i == len(b):\n",
    "                return False  # If the right list runs out of items first, the inputs are not in the right order\n",
    "            if (res := compare(a[i], b[i])) is not None:\n",
    "                return res\n",
    "        if len(a) == len(b):  # If the lists are the same length and no comparison makes a decision about the order\n",
    "            return None  # continue checking the next part of the input\n",
    "        return True  # If the left list runs out of items first, the inputs are in the right order\n",
    "\n",
    "\n",
    "def bubble_sort(data):\n",
    "    for i in range(len(data)):\n",
    "        for j in range(i + 1, len(data)):\n",
    "            if not compare(data[i], data[j]):\n",
    "                data[i], data[j] = data[j], data[i]\n",
    "    return data\n",
    "\n",
    "@level_ab(13, test=('[1,1,3,1,1]\\n[1,1,5,1,1]\\n\\n[[1],[2,3,4]]\\n[[1],4]\\n\\n[9]\\n[[8,7,6]]\\n\\n[[4,4],4,4]\\n[[4,4],4,4,4]\\n\\n[7,7,7,7]\\n[7,7,7]\\n\\n[]\\n[3]\\n\\n[[[]]]\\n[[]]\\n\\n[1,[2,[3,[4,[5,6,7]]]],8,9]\\n[1,[2,[3,[4,[5,6,0]]]],8,9]', 13, 140), sep=\"\\n\\n\")\n",
    "def solve(lines: List[str], level=0):\n",
    "    valid_chunks = []\n",
    "    if level:\n",
    "        data = [line.replace(\"\\n\", \",\") for line in lines]\n",
    "        data = list(eval(\",\".join(data))) + [[2], [6]]\n",
    "        # bubble sort\n",
    "        bubble_sort(data)\n",
    "        return (data.index([2])+1) * (data.index([6])+1)\n",
    "    else:\n",
    "        for i, chunk in enumerate(lines):\n",
    "            data = eval(chunk.replace(\"\\n\", \",\"))\n",
    "            if compare(*data):\n",
    "                valid_chunks.append(i+1)\n",
    "    return sum(valid_chunks)"
   ],
   "metadata": {
    "collapsed": false
   }
  },
  {
   "cell_type": "code",
   "execution_count": 15,
   "outputs": [
    {
     "name": "stdout",
     "output_type": "stream",
     "text": [
      "✓ Part a already solved with same answer: 832\n",
      "✓ Part b already solved with same answer: 27601\n"
     ]
    }
   ],
   "source": [
    "def drop_sand(grid: np.array, x: int = 500, y: int = 0) -> bool:\n",
    "    for y in range(y, grid.shape[1]-1):\n",
    "        if grid[x, y] == \".\" and grid[x, y + 1] in \"#o\":\n",
    "            if grid[x - 1, y + 1] == \".\":  # try left\n",
    "                return drop_sand(grid, x - 1, y + 1)\n",
    "            elif grid[x + 1, y + 1] == \".\":  # try right\n",
    "                return drop_sand(grid, x + 1, y + 1)\n",
    "            else:  # straight drop\n",
    "                grid[x, y] = \"o\"\n",
    "                return True\n",
    "    return False  # dropped out of the grid\n",
    "\n",
    "\n",
    "@level_ab(14, test=(\"\"\"498,4 -> 498,6 -> 496,6\n",
    "503,4 -> 502,4 -> 502,9 -> 494,9\"\"\", 24, 93), sep=\"\\n\")\n",
    "def solve(lines: List[str], level=0):\n",
    "    field = np.full((1000, 200), \".\")\n",
    "    highest_y = 0\n",
    "    for line in lines:\n",
    "        line_parts = [[int(s) for s in p.split(\",\")] for p in line.split(\" -> \")]\n",
    "        for (x, y), (xn, yn) in zip(line_parts, line_parts[1:]):\n",
    "            field[x, y] = field[xn, yn] = \"#\"\n",
    "            if x == xn:\n",
    "                field[xn, min(yn, y):max(yn, y)] = \"#\"\n",
    "            else:\n",
    "                field[min(xn, x):max(xn, x), yn] = \"#\"\n",
    "            highest_y = max(yn, highest_y)\n",
    "    if level:\n",
    "        field[:, highest_y+2] = \"#\"  # draw \"floor\"\n",
    "    while drop_sand(field, 500, 0) and field[500, 0] == \".\":\n",
    "        pass\n",
    "    return (field == \"o\").sum()"
   ],
   "metadata": {
    "collapsed": false
   }
  },
  {
   "cell_type": "code",
   "execution_count": 16,
   "outputs": [
    {
     "name": "stdout",
     "output_type": "stream",
     "text": [
      "✓ Part a already solved with same answer: 4665948\n",
      "✓ Part b already solved with same answer: 13543690671045\n"
     ]
    }
   ],
   "source": [
    "@level_ab(15, test=('Sensor at x=2, y=18: closest beacon is at x=-2, y=15\\nSensor at x=9, y=16: closest beacon is at x=10, y=16\\nSensor at x=13, y=2: closest beacon is at x=15, y=3\\nSensor at x=12, y=14: closest beacon is at x=10, y=16\\nSensor at x=10, y=20: closest beacon is at x=10, y=16\\nSensor at x=14, y=17: closest beacon is at x=10, y=16\\nSensor at x=8, y=7: closest beacon is at x=2, y=10\\nSensor at x=2, y=0: closest beacon is at x=2, y=10\\nSensor at x=0, y=11: closest beacon is at x=2, y=10\\nSensor at x=20, y=14: closest beacon is at x=25, y=17\\nSensor at x=17, y=20: closest beacon is at x=21, y=22\\nSensor at x=16, y=7: closest beacon is at x=15, y=3\\nSensor at x=14, y=3: closest beacon is at x=15, y=3\\nSensor at x=20, y=1: closest beacon is at x=15, y=3', 26, 56000011), sep=\"\\n\")\n",
    "def solve(lines: List[str], level=0):\n",
    "    sensor = []\n",
    "    example = len(lines) == 14\n",
    "    for line in lines:\n",
    "        x, y, a, b = map(int, re.findall(r\"-?\\d+\", line))\n",
    "        dist = abs(x - a) + abs(y - b)\n",
    "        sensor.append((x, y, dist))\n",
    "    if level:\n",
    "        search_space = 20 if example else 4000000\n",
    "        solver = z3.Solver()\n",
    "        xt, yt = z3.Ints(\"x y\")\n",
    "        solver.add(xt >= 0, yt >= 0, xt <= search_space, yt <= search_space)\n",
    "        solver.add(*[z3.Abs(xt - x) + z3.Abs(yt - y) > dist\n",
    "                     for x, y, dist in sensor])\n",
    "        solver.check()\n",
    "        model = solver.model()\n",
    "        return model[xt].as_long() * 4000000 + model[yt].as_long()\n",
    "    else:\n",
    "        search_space = 10 if example else 2000000\n",
    "        possible_points = set()\n",
    "        for x, y, dist in sensor:\n",
    "            lr_dist = (dist - abs(y - search_space))\n",
    "            for p in range(x - lr_dist, x + lr_dist):\n",
    "                possible_points.add(p)\n",
    "        return len(possible_points)"
   ],
   "metadata": {
    "collapsed": false
   }
  },
  {
   "cell_type": "code",
   "execution_count": 21,
   "outputs": [
    {
     "name": "stdout",
     "output_type": "stream",
     "text": [
      "✓ Part a already solved with same answer: 1828\n",
      "✓ Part b already solved with same answer: 2292\n"
     ]
    }
   ],
   "source": [
    "class State:\n",
    "    def __init__(self, pos, visited, length, score):\n",
    "        self.pos = pos\n",
    "        self.visited = visited\n",
    "        self.length = length\n",
    "        self.score = score\n",
    "\n",
    "def followup_states(s: State, g: nx.DiGraph, node_flow: Dict):\n",
    "    states = []\n",
    "    for n in g.neighbors(s.pos):\n",
    "        new_len = s.length - g[s.pos][n][\"weight\"] - 1\n",
    "        if n not in s.visited and new_len > 0:\n",
    "            states.append(State(pos=n, visited=s.visited | {n}, length=new_len, score=s.score + node_flow[n] * new_len))\n",
    "    return states\n",
    "\n",
    "@level_ab(16, test=('Valve AA has flow rate=0; tunnels lead to valves DD, II, BB\\nValve BB has flow rate=13; tunnels lead to valves CC, AA\\nValve CC has flow rate=2; tunnels lead to valves DD, BB\\nValve DD has flow rate=20; tunnels lead to valves CC, AA, EE\\nValve EE has flow rate=3; tunnels lead to valves FF, DD\\nValve FF has flow rate=0; tunnels lead to valves EE, GG\\nValve GG has flow rate=0; tunnels lead to valves FF, HH\\nValve HH has flow rate=22; tunnel leads to valve GG\\nValve II has flow rate=0; tunnels lead to valves AA, JJ\\nValve JJ has flow rate=21; tunnel leads to valve II', 1651, 1707), sep=\"\\n\")\n",
    "def solve(lines: List[str], level=0):\n",
    "    # create base graph\n",
    "    g = nx.DiGraph()\n",
    "    node_flow = {}\n",
    "    for line in lines:\n",
    "        src, rate, targets = re.findall(r\"Valve (\\w+) has flow rate=(\\d+); tunnels? leads? to valves? (\\w+(?:, \\w+)*)\", line)[0]\n",
    "        for dst in targets.split(\", \"):\n",
    "            g.add_edge(src, dst, weight=1)\n",
    "        if int(rate) > 0 or src == \"AA\":\n",
    "            node_flow[src] = int(rate)\n",
    "\n",
    "    # trim graph to only contain nodes with flow\n",
    "    fwg = nx.floyd_warshall(g, weight=\"weight\")\n",
    "    g = nx.from_edgelist([(src, dst, {'weight': fwg[src][dst]}) for src, dst in itertools.product(node_flow, node_flow) if fwg[src][dst]], nx.DiGraph)\n",
    "\n",
    "    # walk graph\n",
    "    states = [State(pos=\"AA\", visited={\"AA\"}, length=26 if level else 30, score=0)]\n",
    "    i = 0\n",
    "    while len(states) > i:\n",
    "        i += len(ns := states[i:])\n",
    "        for followup in Pool().map(partial(followup_states, g=g, node_flow=node_flow), ns):\n",
    "            states.extend(followup)\n",
    "    for state in states:  # create bitmap\n",
    "        state.visited = sum(1 << i for i, v in enumerate(node_flow) if v in state.visited and v != \"AA\")\n",
    "    states = sorted(states, key=lambda s: s.score, reverse=True)\n",
    "\n",
    "    if level:\n",
    "        scores = np.array([[s.score for s in states]])  # speeds up computation, by trimming before quadratic computation\n",
    "        vis = np.array([[s.visited for s in states]])\n",
    "        mask = ~(vis.T & vis).astype(bool)  # not overlapping\n",
    "        return (scores.T + scores)[mask].max()\n",
    "    else:\n",
    "        return max([s.score for s in states])"
   ],
   "metadata": {
    "collapsed": false
   }
  },
  {
   "cell_type": "code",
   "execution_count": 18,
   "outputs": [
    {
     "name": "stdout",
     "output_type": "stream",
     "text": [
      "✓ Part a already solved with same answer: 3157\n",
      "✓ Part b already solved with same answer: 1581449275319\n"
     ]
    }
   ],
   "source": [
    "ROCKS = ['####', '.#.\\n###\\n.#.', '..#\\n..#\\n###', '#\\n#\\n#\\n#', '##\\n##']\n",
    "WIDTH, PADDING_W, PADDING_H, SIM_TIME = 7, 2, 3, 1_000_000_000_000\n",
    "\n",
    "@level_ab(17, test=(\">>><<><>><<<>><>>><<<>>><<<><<<>><>><<>>\", 3068, 1514285714288), sep=\"\\n\")\n",
    "def solve(lines: List[str], level=0):\n",
    "    mul = 3 if level else 1  # given by assignment\n",
    "    operations = itertools.cycle(lines[0])  # generator that infinitely yields signs\n",
    "\n",
    "    # create a big field with a floor\n",
    "    field = np.zeros((WIDTH, 4000*mul), dtype=int)\n",
    "    field[:, 0] = 1\n",
    "\n",
    "    # track gains per round\n",
    "    last_height = 1\n",
    "    diffs = []\n",
    "    for block_nr in range(2022*mul):\n",
    "        block = ROCKS[block_nr % len(ROCKS)]\n",
    "        block = np.rot90(np.array([[int(c == \"#\") for c in line] for line in block.split(\"\\n\")]), k=3)\n",
    "        block_x = PADDING_W\n",
    "        curr_height = np.argwhere(field.sum(axis=0) == 0)[0][0]  # get highest pos\n",
    "        block_y = curr_height + PADDING_H\n",
    "        block_w, block_h = block.shape\n",
    "\n",
    "        # for level 1, we need the gain per round\n",
    "        diffs.append(curr_height - last_height)\n",
    "        last_height = curr_height\n",
    "\n",
    "        while True:  # simulate falling, then l/r\n",
    "            def check_collision():  # parametrize via scope\n",
    "                return (field[block_x:block_x + block_w, block_y:block_y + block_h] * block).sum() > 0\n",
    "\n",
    "            if check_collision():\n",
    "                # blocks would overlap, so stop dropping\n",
    "                field[block_x:block_x + block_w, block_y+1:block_y+1 + block_h] += block\n",
    "                break\n",
    "\n",
    "            op_dir = -1 if next(operations) == \"<\" else 1\n",
    "            block_x += op_dir\n",
    "            if block_x < 0 or (block_x + block_w) > WIDTH or check_collision():\n",
    "                block_x -= op_dir  # go back\n",
    "            block_y -= 1  # otherwise, you you need modified collision detection\n",
    "\n",
    "    if level:\n",
    "        offset = period_len = 0  # to disable some warnings\n",
    "        for offset, period_len in itertools.product(range(1000), range(20, 2000)):  # single loop easier to break\n",
    "            if diffs[offset:offset + period_len] == diffs[offset + period_len:offset + period_len * 2]:\n",
    "                break  # offset and corr_len are now set\n",
    "        before = sum(diffs[:offset])\n",
    "        period = diffs[offset:offset+period_len]\n",
    "        period_num = (SIM_TIME - offset) // period_len\n",
    "        after_num = ((SIM_TIME - offset) % period_len) + 1  # +1 because range is exclusive\n",
    "        after = sum(period[:after_num])\n",
    "        return before + period_num * sum(period) + after\n",
    "    else:\n",
    "        return np.argwhere(field.sum(axis=0) == 0)[0][0] - 1"
   ],
   "metadata": {
    "collapsed": false
   }
  },
  {
   "cell_type": "code",
   "execution_count": 19,
   "outputs": [
    {
     "name": "stdout",
     "output_type": "stream",
     "text": [
      "✓ Part a already solved with same answer: 4340\n",
      "✓ Part b already solved with same answer: 2468\n"
     ]
    }
   ],
   "source": [
    "@level_ab(18, test=('2,2,2\\n1,2,2\\n3,2,2\\n2,1,2\\n2,3,2\\n2,2,1\\n2,2,3\\n2,2,4\\n2,2,6\\n1,2,5\\n3,2,5\\n2,1,5\\n2,3,5', 64, 58), sep=\"\\n\")\n",
    "def solve(lines: List[str], level=0):\n",
    "    voxels = [tuple(int(x)+1 for x in side.split(\",\")) for side in lines]  # + 1 for left padding\n",
    "    max_xyz = np.array(voxels, dtype=int).max(axis=0, initial=0) + 2  # +2 for right padding\n",
    "    gu = nx.grid_graph(dim=tuple(max_xyz)[::-1])  # reverse because axes are flipped, directed version\n",
    "    gd = gu.to_directed()  # create directed copy\n",
    "    gu = gu.subgraph(set(gu) - set(voxels))  # remove centers from undirected graph, for inside-finding\n",
    "    inside = set(gu) - set(nx.descendants(gu, (0, 0, 0)))  # not reachable from 0,0,0 == inside center\n",
    "    # a face (directed edge) exists if source is in center and target is outside (outside center + inside if level b)\n",
    "    return len({(src, dst) for src in voxels for dst in gd[src] if dst not in voxels and not (level and dst in inside)})"
   ],
   "metadata": {
    "collapsed": false
   }
  },
  {
   "cell_type": "code",
   "execution_count": 22,
   "outputs": [
    {
     "name": "stdout",
     "output_type": "stream",
     "text": [
      "✓ Part a already solved with same answer: 960\n",
      "✓ Part b already solved with same answer: 2040\n"
     ]
    }
   ],
   "source": [
    "# import cupy as np\n",
    "# from multiprocessing.dummy import Pool  # cupy doesn't like to be in a subprocess\n",
    "\n",
    "RESOURCES = [\"ore\", \"clay\", \"obsidian\", \"geode\"]\n",
    "MUL = np.array([8**i for i in range(8)], dtype=np.int64)\n",
    "\n",
    "def forward(states, blueprint_line):\n",
    "    state_next = states + blueprint_line  # try build\n",
    "    valid_mask = state_next.min(axis=1) >= 0  # filter out steps that lead to negative resources\n",
    "    state_next[:, :4] += states[:, 4:]  # add output of factories to inventory, after checking\n",
    "    return state_next[valid_mask]\n",
    "\n",
    "def run_simulation(line, level):\n",
    "    # create blueprints and states as 8-vectors of [*inventory, *factory]\n",
    "    blueprint = np.zeros((5, 8), dtype=np.int8)\n",
    "    for cost_line in line.split(\"Each \")[1:]:\n",
    "        buy_resource = cost_line.split(\" \")[0]\n",
    "        for buy_price in re.findall(r\"\\d+ \\w+\", cost_line):\n",
    "            resource_price, resource_type = buy_price.split()\n",
    "            blueprint[RESOURCES.index(buy_resource), RESOURCES.index(resource_type)] = -int(resource_price)  # sub resources\n",
    "        blueprint[RESOURCES.index(buy_resource), 4+RESOURCES.index(buy_resource)] = 1  # add one building\n",
    "    cost_build_all = blueprint[:, :3].sum(axis=0)\n",
    "\n",
    "    # batch-process everything in a timestep at once\n",
    "    states = np.array([[0, 0, 0, 0, 1, 0, 0, 0]])\n",
    "    for time in range(32 if level else 24):\n",
    "        geode_count = states[:, 3].max()\n",
    "        states = np.concatenate([forward(states, blueprint_line) for blueprint_line in blueprint])\n",
    "        states = states[np.unique(states @ MUL, return_index=True)[1]]  # trim duplicates, by making and reducing a 1d array (regular np.unique is sloooooow)\n",
    "        states = states[(states[:, :3] + cost_build_all).min(axis=1) < 0]  # trim states that save too many resources\n",
    "        states = states[states[:, 3] >= geode_count]  # trim states that don't have the max geode count\n",
    "    return int(states[:, 3].max())\n",
    "\n",
    "\n",
    "@level_ab(19, test=(\"\"\"Blueprint 1: Each ore robot costs 4 ore.  Each clay robot costs 2 ore.  Each obsidian robot costs 3 ore and 14 clay.  Each geode robot costs 2 ore and 7 obsidian.\n",
    "Blueprint 2: Each ore robot costs 2 ore.  Each clay robot costs 3 ore.  Each obsidian robot costs 3 ore and 8 clay.  Each geode robot costs 3 ore and 12 obsidian.\"\"\", 33, 3472), sep=\"\\n\")\n",
    "def solve(lines: List[str], level=0):\n",
    "    res = Pool(32).map(partial(run_simulation, level=level), lines[:3] if level else lines)\n",
    "    return functools.reduce(operator.mul, res) if level else sum([r * i for i, r in enumerate(res, 1)])"
   ],
   "metadata": {
    "collapsed": false
   }
  },
  {
   "cell_type": "code",
   "execution_count": 20,
   "outputs": [],
   "source": [],
   "metadata": {
    "collapsed": false
   }
  }
 ],
 "metadata": {
  "kernelspec": {
   "display_name": "Python 3 (ipykernel)",
   "language": "python",
   "name": "python3"
  },
  "language_info": {
   "codemirror_mode": {
    "name": "ipython",
    "version": 3
   },
   "file_extension": ".py",
   "mimetype": "text/x-python",
   "name": "python",
   "nbconvert_exporter": "python",
   "pygments_lexer": "ipython3",
   "version": "3.10.8"
  }
 },
 "nbformat": 4,
 "nbformat_minor": 4
}
