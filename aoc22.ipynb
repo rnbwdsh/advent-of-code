{
 "cells": [
  {
   "cell_type": "code",
   "execution_count": 1,
   "metadata": {
    "collapsed": true
   },
   "outputs": [],
   "source": [
    "import numpy as np\n",
    "\n",
    "from lib import *"
   ]
  },
  {
   "cell_type": "code",
   "execution_count": 22,
   "outputs": [
    {
     "name": "stdout",
     "output_type": "stream",
     "text": [
      "Part a already solved with same answer: 69912\n",
      "Part b already solved with same answer: 208180\n"
     ]
    }
   ],
   "source": [
    "@level_ab(1, test=('1000\\n2000\\n3000\\n\\n4000\\n\\n5000\\n6000\\n\\n7000\\n8000\\n9000\\n\\n10000', 24000, 45000), sep=\"\\n\\n\")\n",
    "def solve(num: List[str], level=0):\n",
    "    chunks = [sum(map(int, line.split(\"\\n\"))) for line in num]\n",
    "    return sum(list(sorted(chunks, reverse=True))[:3]) if level else max(chunks)"
   ],
   "metadata": {
    "collapsed": false
   }
  },
  {
   "cell_type": "code",
   "execution_count": 19,
   "outputs": [
    {
     "name": "stdout",
     "output_type": "stream",
     "text": [
      "Part a already solved with same answer: 11603\n",
      "Part b already solved with same answer: 12725\n"
     ]
    }
   ],
   "source": [
    "@level_ab(2, test=(\"\"\"A Y\\nB X\\nC Z\"\"\", 15, 12), sep=\"\\n\", apply=lambda line: line.split(\" \"))\n",
    "def solve(lines: List[str], level=0):\n",
    "    total = 0\n",
    "    for a, b in lines:\n",
    "        a, b = ord(a) - ord('A'), ord(b) - ord('X')\n",
    "        total += b * 3 + (a+b-1) % 3 + 1 if level else ((b-a+1)%3) * 3 + b + 1\n",
    "    return total"
   ],
   "metadata": {
    "collapsed": false
   }
  },
  {
   "cell_type": "code",
   "execution_count": 28,
   "outputs": [
    {
     "name": "stdout",
     "output_type": "stream",
     "text": [
      "Part a already solved with same answer: 8176\n",
      "Part b already solved with same answer: 2689\n"
     ]
    }
   ],
   "source": [
    "def prio(c: str) -> int:\n",
    "    return ord(c.lower()) - ord('a') + 1 + c.isupper() * 26\n",
    "\n",
    "@level_ab(3, test=(\"\"\"vJrwpWtwJgWrhcsFMMfFFhFp\\njqHRNqRjqzjGDLGLrsFMfFZSrLrFZsSL\\nPmmdzqPrVvPwwTWBwg\\nwMqvLMZHhHMvwLHjbvcjnnSBnvTQFn\\nttgJtRGJQctTZtZT\\nCrZsJsPPZsGzwwsLwLmpwMDw\"\"\", 157, 70), sep=\"\\n\")\n",
    "def solve(lines: List[str], level=0):\n",
    "    total = 0\n",
    "    if level:\n",
    "        for i in range(0, len(lines)-1, 3):\n",
    "            a, b, c = map(set, lines[i: i+3])\n",
    "            total += prio(next(iter(a & b & c)))\n",
    "    else:\n",
    "        for line in lines:\n",
    "            offset = len(line)//2\n",
    "            a, b = set(line[:offset]), set(line[offset:])\n",
    "            total += sum([prio(c) for c in a & b])\n",
    "    return total"
   ],
   "metadata": {
    "collapsed": false
   }
  },
  {
   "cell_type": "code",
   "execution_count": 20,
   "outputs": [
    {
     "name": "stdout",
     "output_type": "stream",
     "text": [
      "Part a already solved with same answer: 584\n",
      "Part b already solved with same answer: 933\n"
     ]
    }
   ],
   "source": [
    "@level_ab(4, test=(\"\"\"2-4,6-8\\n2-3,4-5\\n5-7,7-9\\n2-8,3-7\\n6-6,4-6\\n2-6,4-8\"\"\", 2, 4), sep=\"\\n\",\n",
    "          apply=lambda line: map(int, re.findall(r\"(\\d+)-(\\d+),(\\d+)-(\\d+)\", line)[0]))\n",
    "def solve(lines: List[str], level=0, ):\n",
    "    total = 0\n",
    "    for a, b, c, d in lines:\n",
    "        left, right = set(range(a, b+1)), set(range(c, d+1))\n",
    "        total += bool(left & right) if level else left.issuperset(right) or right.issuperset(left)\n",
    "    return total"
   ],
   "metadata": {
    "collapsed": false
   }
  },
  {
   "cell_type": "code",
   "execution_count": 3,
   "outputs": [
    {
     "name": "stdout",
     "output_type": "stream",
     "text": [
      "Part a already solved with same answer: TPGVQPFDH\n",
      "Part b already solved with same answer: DMRDFRHHH\n"
     ]
    }
   ],
   "source": [
    "@level_ab(5, test=('    [D]\\n[N] [C]\\n[Z] [M] [P]\\n 1   2   3\\n\\nmove 1 from 2 to 1\\nmove 3 from 1 to 3\\nmove 2 from 2 to 1\\nmove 1 from 1 to 2', \"CMZ\", \"MCD\"), sep=\"\\n\")\n",
    "def solve(lines: List[str], level=0):\n",
    "    stacks = defaultdict(list)\n",
    "    lines = iter(lines)\n",
    "    for line in lines:\n",
    "        if line.startswith(\" 1 \"):\n",
    "            next(lines)\n",
    "            break\n",
    "        for pos, dst in enumerate(line):\n",
    "            if dst.isalpha():  # skip \"[\", \"]\", \" \"\n",
    "                stacks[1+pos//4].insert(0, dst)\n",
    "    for line in lines:\n",
    "        _, amount, _, src, _, dst = line.split(\" \")\n",
    "        amount, src, dst = int(amount), int(src), int(dst)\n",
    "        picked = [stacks[src].pop() for _ in range(amount)]\n",
    "        stacks[dst].extend(reversed(picked) if level else picked)\n",
    "    return \"\".join([stacks[i][-1] for i in sorted(stacks.keys())])"
   ],
   "metadata": {
    "collapsed": false
   }
  },
  {
   "cell_type": "code",
   "execution_count": 11,
   "outputs": [
    {
     "name": "stdout",
     "output_type": "stream",
     "text": [
      "Part a already solved with same answer: 1134\n",
      "Part b already solved with same answer: 2263\n"
     ]
    }
   ],
   "source": [
    "@level_ab(6, test=(\"\"\"mjqjpqmgbljsphdztnvjfqwrcgsmlb\"\"\", 7, 19), sep=\"\\n\")\n",
    "def solve(lines: List[str], level=0):\n",
    "    offset = 4 + level * 10\n",
    "    for line in lines:\n",
    "        for i in range(len(line)-offset):\n",
    "            if len(set(line[i:i+offset])) == offset:\n",
    "                return i+offset"
   ],
   "metadata": {
    "collapsed": false
   }
  },
  {
   "cell_type": "markdown",
   "source": [],
   "metadata": {
    "collapsed": false
   }
  },
  {
   "cell_type": "code",
   "execution_count": 39,
   "outputs": [
    {
     "name": "stdout",
     "output_type": "stream",
     "text": [
      "Part a already solved with same answer: 1989474\n",
      "Part b already solved with same answer: 1111607\n"
     ]
    }
   ],
   "source": [
    "def dir_sum(dir_name: str, root: Dict[str, Dict], dirs_name_size: Dict[str, int]) -> int:\n",
    "    \"\"\" recursively sum up sizes of subdirectories and add all to a global list \"\"\"\n",
    "    total_size = 0\n",
    "    for file_name, file_dict_or_size in root.items():\n",
    "        if type(file_dict_or_size) == dict and file_name != \"..\":\n",
    "            total_size += dir_sum(dir_name + \"/\" + file_name, file_dict_or_size, dirs_name_size)\n",
    "        elif type(file_dict_or_size) == int:\n",
    "            total_size += file_dict_or_size\n",
    "    dirs_name_size[dir_name] = total_size\n",
    "    return total_size\n",
    "\n",
    "@level_ab(7, test=('$ cd /\\n$ ls\\ndir a\\n14848514 b.txt\\n8504156 c.dat\\ndir d\\n$ cd a\\n$ ls\\ndir e\\n29116 f\\n2557 g\\n62596 h.lst\\n$ cd e\\n$ ls\\n584 i\\n$ cd ..\\n$ cd ..\\n$ cd d\\n$ ls\\n4060174 j\\n8033020 d.log\\n5626152 d.ext\\n7214296 k', 95437, 24933642), sep=\"\\n\")\n",
    "def solve(lines: List[str], level=0):\n",
    "    root = curr = dict()\n",
    "    for line in lines:\n",
    "        a, b, *c = line.split(\" \")\n",
    "        if a == \"$\":\n",
    "            if b == \"cd\":  # just ignore ls case\n",
    "                c = c[0]\n",
    "                curr = root if c == \"/\" else curr[c]\n",
    "        else:\n",
    "            curr[b] = {\"..\": curr} if a == \"dir\" else int(a)\n",
    "    total = dir_sum(\"\", root, dirs_name_size := dict())\n",
    "    level_filter = [lambda s: s < 100_000, lambda s: s > total - 40000000][level]\n",
    "    sizes = sorted(filter(level_filter, dirs_name_size.values()))\n",
    "    return min(sizes) if level else sum(sizes)\n"
   ],
   "metadata": {
    "collapsed": false
   }
  },
  {
   "cell_type": "code",
   "execution_count": 103,
   "outputs": [
    {
     "name": "stdout",
     "output_type": "stream",
     "text": [
      "Part a already solved with same answer: 1662\n",
      "Part b already solved with same answer: 537600\n"
     ]
    }
   ],
   "source": [
    "@level_ab(8, test=('30373\\n25512\\n65332\\n33549\\n35390', 21, 8), sep=\"\\n\")\n",
    "def solve(lines: List[str], level=0):\n",
    "    f = np.array([[int(c) for c in line] for line in lines])\n",
    "    vis, score = np.zeros_like(f), np.ones_like(f, dtype=int)\n",
    "    for _ in range(4):  # repeat with 4 rotations\n",
    "        for (i, j), val in np.ndenumerate(f):\n",
    "            if level:  # walk down 1, 2, 3... steps\n",
    "                for d in range(0, len(f)-j):\n",
    "                    if d == 0:\n",
    "                        continue\n",
    "                    if f[i, j+d] >= f[i, j]:\n",
    "                        break\n",
    "                score[i, j] *= d\n",
    "            else:\n",
    "                if j == 0 or max(f[i, :j]) < f[i, j]:\n",
    "                    vis[i, j] = True\n",
    "        # do again with rot90 field\n",
    "        f, vis, score = np.rot90(f), np.rot90(vis), np.rot90(score)\n",
    "    return score.max() if level else vis.sum()"
   ],
   "metadata": {
    "collapsed": false
   }
  },
  {
   "cell_type": "code",
   "execution_count": null,
   "outputs": [],
   "source": [
    "@level_ab(9, test=(\"\"\"\n",
    "\"\"\", 1, 2), sep=\"\\n\")\n",
    "def solve(lines: List[str], level=0):\n",
    "    f = np.array([[int(c) for c in line] for line in lines])"
   ],
   "metadata": {
    "collapsed": false
   }
  }
 ],
 "metadata": {
  "kernelspec": {
   "display_name": "Python 3",
   "language": "python",
   "name": "python3"
  },
  "language_info": {
   "codemirror_mode": {
    "name": "ipython",
    "version": 2
   },
   "file_extension": ".py",
   "mimetype": "text/x-python",
   "name": "python",
   "nbconvert_exporter": "python",
   "pygments_lexer": "ipython2",
   "version": "2.7.6"
  }
 },
 "nbformat": 4,
 "nbformat_minor": 0
}
