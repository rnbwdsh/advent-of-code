{
 "cells": [
  {
   "cell_type": "code",
   "execution_count": 1,
   "metadata": {
    "collapsed": true
   },
   "outputs": [],
   "source": [
    "from lib import *"
   ]
  },
  {
   "cell_type": "code",
   "execution_count": 22,
   "outputs": [
    {
     "name": "stdout",
     "output_type": "stream",
     "text": [
      "Part a already solved with same answer: 69912\n",
      "Part b already solved with same answer: 208180\n"
     ]
    }
   ],
   "source": [
    "@level_ab(1, test=('1000\\n2000\\n3000\\n\\n4000\\n\\n5000\\n6000\\n\\n7000\\n8000\\n9000\\n\\n10000', 24000, 45000), sep=\"\\n\\n\")\n",
    "def solve(num: List[str], level=0):\n",
    "    chunks = [sum(map(int, line.split(\"\\n\"))) for line in num]\n",
    "    return sum(list(sorted(chunks, reverse=True))[:3]) if level else max(chunks)"
   ],
   "metadata": {
    "collapsed": false
   }
  },
  {
   "cell_type": "code",
   "execution_count": 23,
   "outputs": [
    {
     "name": "stdout",
     "output_type": "stream",
     "text": [
      "Part a already solved with same answer: 11603\n",
      "Part b already solved with same answer: 12725\n"
     ]
    }
   ],
   "source": [
    "@level_ab(2, test=(\"\"\"A Y\\nB X\\nC Z\"\"\", 15, 12), sep=\"\\n\")\n",
    "def solve(lines: List[str], level=0):\n",
    "    total = 0\n",
    "    for line in lines:\n",
    "        a, b = line.split(\" \")\n",
    "        a, b = ord(a) - ord('A'), ord(b) - ord('X')\n",
    "        total += b * 3 + (a+b-1) % 3 + 1 if level else ((b-a+1)%3) * 3 + b + 1\n",
    "    return total"
   ],
   "metadata": {
    "collapsed": false
   }
  },
  {
   "cell_type": "code",
   "execution_count": 28,
   "outputs": [
    {
     "name": "stdout",
     "output_type": "stream",
     "text": [
      "Part a already solved with same answer: 8176\n",
      "Part b already solved with same answer: 2689\n"
     ]
    }
   ],
   "source": [
    "def prio(c: str) -> int:\n",
    "    return ord(c.lower()) - ord('a') + 1 + c.isupper() * 26\n",
    "\n",
    "@level_ab(3, test=(\"\"\"vJrwpWtwJgWrhcsFMMfFFhFp\\njqHRNqRjqzjGDLGLrsFMfFZSrLrFZsSL\\nPmmdzqPrVvPwwTWBwg\\nwMqvLMZHhHMvwLHjbvcjnnSBnvTQFn\\nttgJtRGJQctTZtZT\\nCrZsJsPPZsGzwwsLwLmpwMDw\"\"\", 157, 70), sep=\"\\n\")\n",
    "def solve(lines: List[str], level=0):\n",
    "    total = 0\n",
    "    if level:\n",
    "        for i in range(0, len(lines)-1, 3):\n",
    "            a, b, c = map(set, lines[i: i+3])\n",
    "            total += prio(next(iter(a & b & c)))\n",
    "    else:\n",
    "        for line in lines:\n",
    "            offset = len(line)//2\n",
    "            a, b = set(line[:offset]), set(line[offset:])\n",
    "            total += sum([prio(c) for c in a & b])\n",
    "    return total"
   ],
   "metadata": {
    "collapsed": false
   }
  },
  {
   "cell_type": "code",
   "execution_count": null,
   "outputs": [],
   "source": [
    "@level_ab(3, test=(\"\"\"vJrwpWtwJgWrhcsFMMfFFhFp\\njqHRNqRjqzjGDLGLrsFMfFZSrLrFZsSL\\nPmmdzqPrVvPwwTWBwg\\nwMqvLMZHhHMvwLHjbvcjnnSBnvTQFn\\nttgJtRGJQctTZtZT\\nCrZsJsPPZsGzwwsLwLmpwMDw\"\"\", 157, 70), sep=\"\\n\")\n",
    "def solve(lines: List[str], level=0):\n",
    "    total = 0\n",
    "    if level:\n",
    "        for i in range(0, len(lines)-1, 3):\n",
    "            a, b, c = map(set, lines[i: i+3])\n",
    "            total += prio(next(iter(a & b & c)))\n",
    "    else:\n",
    "        for line in lines:\n",
    "            offset = len(line)//2\n",
    "            a, b = set(line[:offset]), set(line[offset:])\n",
    "            total += sum([prio(c) for c in a & b])\n",
    "    return total"
   ],
   "metadata": {
    "collapsed": false,
    "pycharm": {
     "is_executing": true
    }
   }
  }
 ],
 "metadata": {
  "kernelspec": {
   "display_name": "Python 3",
   "language": "python",
   "name": "python3"
  },
  "language_info": {
   "codemirror_mode": {
    "name": "ipython",
    "version": 2
   },
   "file_extension": ".py",
   "mimetype": "text/x-python",
   "name": "python",
   "nbconvert_exporter": "python",
   "pygments_lexer": "ipython2",
   "version": "2.7.6"
  }
 },
 "nbformat": 4,
 "nbformat_minor": 0
}
