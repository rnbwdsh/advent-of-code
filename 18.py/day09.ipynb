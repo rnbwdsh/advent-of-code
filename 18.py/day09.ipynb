{
 "cells": [
  {
   "cell_type": "code",
   "execution_count": 4,
   "metadata": {},
   "outputs": [
    {
     "name": "stdout",
     "output_type": "stream",
     "text": [
      "1000000\n",
      "2000000\n",
      "3000000\n",
      "4000000\n",
      "5000000\n",
      "6000000\n",
      "7000000\n",
      "3505711612\n"
     ]
    }
   ],
   "source": [
    "from blist import blist\n",
    "\n",
    "# game params\n",
    "num_players = 423\n",
    "last_marble = 71944*100\n",
    "\n",
    "#initialization\n",
    "m = blist([0, 2, 1])\n",
    "pos = 1\n",
    "player = 0\n",
    "scores = [0]*num_players\n",
    "\n",
    "for i in range(3, last_marble+1):\n",
    "    #print(m)\n",
    "    #print(\"pos: \", pos)\n",
    "    pos += 2\n",
    "    if pos > len(m):\n",
    "        pos-=len(m)\n",
    "    if i % 23 == 0:\n",
    "        #print(\"woop\")\n",
    "        pos -= 9 #due to +2\n",
    "        if pos < 0:\n",
    "            pos += len(m)\n",
    "        scores[i % num_players] += m[pos] + i\n",
    "        m.pop(pos)\n",
    "    elif pos == len(m):\n",
    "        m.append(i)\n",
    "    else:\n",
    "        m.insert(pos, i)\n",
    "    if i % 1000000 == 0:\n",
    "        print(i)\n",
    "print(max(scores))"
   ]
  }
 ],
 "metadata": {
  "kernelspec": {
   "display_name": "Python 3",
   "language": "python",
   "name": "python3"
  },
  "language_info": {
   "codemirror_mode": {
    "name": "ipython",
    "version": 3
   },
   "file_extension": ".py",
   "mimetype": "text/x-python",
   "name": "python",
   "nbconvert_exporter": "python",
   "pygments_lexer": "ipython3",
   "version": "3.7.1"
  }
 },
 "nbformat": 4,
 "nbformat_minor": 2
}
