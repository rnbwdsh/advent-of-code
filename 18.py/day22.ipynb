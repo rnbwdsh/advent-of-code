{
 "cells": [
  {
   "cell_type": "code",
   "execution_count": 88,
   "metadata": {},
   "outputs": [],
   "source": [
    "import numpy as np\n",
    "import networkx as nx\n",
    "\n",
    "ROCK, WET, NARROW = 0,1,2\n",
    "NEITHER, TORCH, CLIMB = 0,1,2"
   ]
  },
  {
   "cell_type": "code",
   "execution_count": 90,
   "metadata": {},
   "outputs": [
    {
     "data": {
      "text/plain": [
       "11810"
      ]
     },
     "execution_count": 90,
     "metadata": {},
     "output_type": "execute_result"
    }
   ],
   "source": [
    "depth = 3558\n",
    "target = (15,740)\n",
    "\n",
    "# exsample numbers\n",
    "#depth = 510\n",
    "#target = (10,10)\n",
    "\n",
    "t = tuple((target[0]*2, target[1]*2))\n",
    "\n",
    "field = np.zeros(t, dtype=int)\n",
    "erosionLevels = np.zeros(t, dtype=int)\n",
    "\n",
    "#initialize\n",
    "for x in range(t[0]):\n",
    "    for y in range(t[1]):\n",
    "        if x == 0 and y == 0 \\\n",
    "        or x == target[0] and y == target[1]:\n",
    "            geoIndex = 0\n",
    "        if y == 0:\n",
    "            geoIndex = x*16807\n",
    "        elif x == 0:\n",
    "            geoIndex = y* 48271\n",
    "        else:\n",
    "            geoIndex = erosionLevels[x-1, y] * erosionLevels[x,y-1]\n",
    "        erosionLevel = (geoIndex + depth) % 20183\n",
    "        typ = erosionLevel % 3\n",
    "        erosionLevels[x,y] = erosionLevel\n",
    "        field[x,y] = typ\n",
    "        #if x < 2 and y < 2:\n",
    "        #    print(x, y, \"geoindex\", geoIndex, \"erosion\", erosionLevel, \"type\", typ)\n",
    "\n",
    "# The region at 0,0 (the mouth of the cave) has a geologic index of 0.\n",
    "# The region at the coordinates of the target has a geologic index of 0.\n",
    "field[0,0] = 0\n",
    "field[target] = 0\n",
    "\n",
    "np.sum(field[:target[0]+1, :target[1]+1])"
   ]
  },
  {
   "cell_type": "code",
   "execution_count": 97,
   "metadata": {},
   "outputs": [
    {
     "name": "stdout",
     "output_type": "stream",
     "text": [
      "shortest path length is 1015\n"
     ]
    }
   ],
   "source": [
    "g = nx.Graph()\n",
    "\n",
    "def compatible(styp, dtyp, tool):\n",
    "    # In rocky regions, you can use the climbing gear or the torch. You cannot use neither (you'll likely slip and fall).\n",
    "    # In wet regions, you can use the climbing gear or neither tool. You cannot use the torch (if it gets wet, you won't have a light source).\n",
    "    # In narrow regions, you can use the torch or neither tool. You cannot use the climbing gear (it's too bulky to fit).\n",
    "    if tool == NEITHER and ROCK in [dtyp, styp] \\\n",
    "    or tool == TORCH and WET in [dtyp, styp] \\\n",
    "    or tool == CLIMB and NARROW in [dtyp, styp]:\n",
    "        return False\n",
    "    else:\n",
    "        return True\n",
    "\n",
    "# test compatiblity\n",
    "assert(not compatible(WET, ROCK, TORCH))\n",
    "assert(compatible(ROCK, NARROW, TORCH))\n",
    "\n",
    "# bidirectional graph, so we only need down + right transitions\n",
    "# and tool a->b transtitions, and we get left + up and b-> a for free\n",
    "for x in range(t[0]):\n",
    "    for y in range(t[1]):\n",
    "        # add tool transitions (bidirectional)\n",
    "        g.add_edge((x,y,0),(x,y,1), weight=7)\n",
    "        g.add_edge((x,y,1),(x,y,2), weight=7)\n",
    "        g.add_edge((x,y,2),(x,y,0), weight=7)\n",
    "        \n",
    "        for xdir, ydir in [(0,1), (1,0)]:\n",
    "            for tool in range(3):\n",
    "                xtar, ytar = x+xdir, y+ydir\n",
    "                if xtar < t[0] and ytar < t[1]:\n",
    "                    styp, dtyp = field[(x,y)], field[(xtar, ytar)]\n",
    "                    if compatible(styp, dtyp, tool):\n",
    "                        srcField = (x, y, tool)\n",
    "                        targetField = (xtar, ytar, tool)\n",
    "                        g.add_edge(srcField, targetField, weight=1)\n",
    "\n",
    "sfield = (0,0,TORCH)\n",
    "tfield = (target[0], target[1], TORCH)\n",
    "shortest = nx.shortest_path_length(g, sfield, tfield, weight=\"weight\")\n",
    "print(\"shortest path length is\",shortest)"
   ]
  }
 ],
 "metadata": {
  "kernelspec": {
   "display_name": "Python 3",
   "language": "python",
   "name": "python3"
  },
  "language_info": {
   "codemirror_mode": {
    "name": "ipython",
    "version": 3
   },
   "file_extension": ".py",
   "mimetype": "text/x-python",
   "name": "python",
   "nbconvert_exporter": "python",
   "pygments_lexer": "ipython3",
   "version": "3.7.1"
  }
 },
 "nbformat": 4,
 "nbformat_minor": 2
}
