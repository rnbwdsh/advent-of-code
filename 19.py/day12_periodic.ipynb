{
 "cells": [
  {
   "cell_type": "code",
   "execution_count": 1,
   "metadata": {},
   "outputs": [],
   "source": [
    "import aocd\n",
    "import re\n",
    "import numpy as np\n",
    "from time import sleep\n",
    "from collections import defaultdict\n",
    "from itertools import permutations, product\n",
    "import matplotlib.pyplot as plt\n",
    "\n",
    "def parse(d):\n",
    "    out = []\n",
    "    for line in d.split(\"\\n\"):\n",
    "        a = re.split(\"=|>|,\", line)\n",
    "        out.append([int(a[1]), int(a[3]), int(a[5])])\n",
    "    return np.array(out)\n",
    "\n",
    "data = aocd.get_data(day=12)"
   ]
  },
  {
   "cell_type": "code",
   "execution_count": 2,
   "metadata": {},
   "outputs": [],
   "source": [
    "def simulate(pos, vel, t):\n",
    "    uni_states = [set(), set(), set()]\n",
    "    divisors = [0,0,0]\n",
    "    for t in range(t):\n",
    "        for dim in range(3): # check for repetitions in x,y,z-dimm, return lcm(x,y,z)\n",
    "            if not divisors[dim]:  # only do divisor-seach for not-yet-found\n",
    "                dhash = hash(str(pos[:,dim])+str(vel[:,dim]))\n",
    "                if dhash in uni_states[dim]:\n",
    "                    uni_states[dim] = set()\n",
    "                    divisors[dim] = t\n",
    "                    if all(divisors):\n",
    "                        return np.lcm.reduce(divisors)\n",
    "            uni_states[dim].add(dhash)\n",
    "        \n",
    "        for i in range(1+len(pos)): # actual calculation\n",
    "            shifted = np.concatenate((pos[i:], pos[:i]))  # add last i columns to top, then substract\n",
    "            vel += np.clip(shifted - pos, -1, 1)  # sub(a-b) + clip => -1 if a<b, +1 if a>b\n",
    "        pos += vel\n",
    "    \n",
    "def calculate(pos, vel):  # sum of abs of vel and pos\n",
    "    return sum(np.sum(np.abs(pos[i])) * np.sum(np.abs(vel[i])) \n",
    "        for i in range(len(pos)))\n",
    "\n",
    "def run(data, sim_num, calc=True):\n",
    "    tpos = parse(data)\n",
    "    vel = np.zeros_like(tpos)\n",
    "    sim = simulate(tpos, vel, sim_num) \n",
    "    if not calc: return sim\n",
    "    else:        return calculate(tpos, vel)\n",
    "    \n",
    "assert run(\"\"\"<x=-1, y=0, z=2>\\n<x=2, y=-10, z=-7>\\n<x=4, y=-8, z=8>\\n<x=3, y=5, z=-1>\"\"\", 10) == 179\n",
    "assert run(\"\"\"<x=-8, y=-10, z=0>\\n<x=5, y=5, z=10>\\n<x=2, y=-7, z=3>\\n<x=9, y=-8, z=-3>\"\"\", 100) == 1940\n",
    "assert run(\"\"\"<x=-1, y=0, z=2>\\n<x=2, y=-10, z=-7>\\n<x=4, y=-8, z=8>\\n<x=3, y=5, z=-1>\"\"\", 10000000, calc=False) == 2772"
   ]
  },
  {
   "cell_type": "code",
   "execution_count": 3,
   "metadata": {},
   "outputs": [
    {
     "name": "stderr",
     "output_type": "stream",
     "text": [
      "answer a: 12053\n",
      "submitting for part b (part a is already completed)\n",
      "posting 12053 to https://adventofcode.com/2019/day/12/answer (part b) token=...2749\n"
     ]
    },
    {
     "name": "stdout",
     "output_type": "stream",
     "text": [
      "\u001b[33mYou don't seem to be solving the right level.  Did you already complete it? [Return to Day 12]\u001b[0m\n"
     ]
    },
    {
     "data": {
      "text/plain": [
       "<Response [200]>"
      ]
     },
     "execution_count": 3,
     "metadata": {},
     "output_type": "execute_result"
    }
   ],
   "source": [
    "aocd.submit(day=12, answer=run(data, 1000))"
   ]
  },
  {
   "cell_type": "code",
   "execution_count": 4,
   "metadata": {},
   "outputs": [
    {
     "name": "stderr",
     "output_type": "stream",
     "text": [
      "answer a: 12053\n",
      "submitting for part b (part a is already completed)\n",
      "posting 320380285873116 to https://adventofcode.com/2019/day/12/answer (part b) token=...2749\n"
     ]
    },
    {
     "name": "stdout",
     "output_type": "stream",
     "text": [
      "\u001b[33mYou don't seem to be solving the right level.  Did you already complete it? [Return to Day 12]\u001b[0m\n"
     ]
    },
    {
     "data": {
      "text/plain": [
       "<Response [200]>"
      ]
     },
     "execution_count": 4,
     "metadata": {},
     "output_type": "execute_result"
    }
   ],
   "source": [
    "aocd.submit(day=12, answer=run(data, 10000000, calc=False))"
   ]
  }
 ],
 "metadata": {
  "kernelspec": {
   "display_name": "Python 3",
   "language": "python",
   "name": "python3"
  },
  "language_info": {
   "codemirror_mode": {
    "name": "ipython",
    "version": 3
   },
   "file_extension": ".py",
   "mimetype": "text/x-python",
   "name": "python",
   "nbconvert_exporter": "python",
   "pygments_lexer": "ipython3",
   "version": "3.8.0"
  }
 },
 "nbformat": 4,
 "nbformat_minor": 4
}
