{
 "cells": [
  {
   "cell_type": "code",
   "execution_count": 95,
   "metadata": {},
   "outputs": [
    {
     "name": "stderr",
     "output_type": "stream",
     "text": [
      "answer a: 6520863\n",
      "submitting for part b (part a is already completed)\n"
     ]
    },
    {
     "name": "stdout",
     "output_type": "stream",
     "text": [
      "aocd will not submit that answer again. You've previously guessed 6520863 and the server responded:\n",
      "\u001b[31mThat's not the right answer; your answer is too high.  If you're stuck, make sure you're using the full input data; there are also some general tips on the about page, or you can ask for hints on the subreddit.  Please wait one minute before trying again. (You guessed 6520863.) [Return to Day 24]\u001b[0m\n"
     ]
    }
   ],
   "source": [
    "import numpy as np\n",
    "import aocd\n",
    "\n",
    "def step(world):\n",
    "    w = np.zeros_like((world))\n",
    "    xmax, ymax = world.shape\n",
    "    score = 0\n",
    "    \n",
    "    for idx, ((x,y), val) in enumerate(np.ndenumerate(world)):\n",
    "        nsum = sum([world[xp, yp]  # calculate score for 4 neighbors\n",
    "                    for (xp, yp) in [[x,y-1], [x,y+1], [x-1,y], [x+1,y]]        # calculate neighbors\n",
    "                    if xp in range(xmax) and yp in range(ymax)])                # bounds check\n",
    "        w[x,y] = (val and nsum == 1) or (not val and nsum in [1,2])  # calculate next step field\n",
    "        score += val * 2**idx  # increment total score if bug exists by 2^index\n",
    "    return w, score\n",
    "\n",
    "def solve(data):\n",
    "    world = np.array([list(d) for d in data.split()]) == \"#\"  # boolean field that's true if \"#\"\n",
    "    patterns = set()\n",
    "    for i in range(100):\n",
    "        world, score = step(world)\n",
    "        if score in patterns: return score\n",
    "        else:                 patterns.add(score)\n",
    "            \n",
    "assert solve(\"\"\"....#\n",
    "#..#.\n",
    "#..##\n",
    "..#..\n",
    "#....\"\"\") == 2129920\n",
    "\n",
    "aocd.submit(solve(aocd.get_data(day=24)), day=24)"
   ]
  },
  {
   "cell_type": "code",
   "execution_count": 110,
   "metadata": {},
   "outputs": [
    {
     "name": "stderr",
     "output_type": "stream",
     "text": [
      "answer a: 6520863\n",
      "submitting for part b (part a is already completed)\n",
      "posting 1970 to https://adventofcode.com/2019/day/24/answer (part b) token=...2749\n"
     ]
    },
    {
     "name": "stdout",
     "output_type": "stream",
     "text": [
      "\u001b[33mYou don't seem to be solving the right level.  Did you already complete it? [Return to Day 24]\u001b[0m\n"
     ]
    },
    {
     "data": {
      "text/plain": [
       "<Response [200]>"
      ]
     },
     "execution_count": 110,
     "metadata": {},
     "output_type": "execute_result"
    }
   ],
   "source": [
    "from copy import copy\n",
    "from collections import defaultdict\n",
    "CENTER = (2,2)\n",
    "SIZE = 5\n",
    "RS = range(SIZE)\n",
    "CREATE_EMTPY = lambda: np.zeros((SIZE, SIZE))\n",
    "\n",
    "def step(worlds):\n",
    "    w = defaultdict(CREATE_EMTPY)\n",
    "    xmax, ymax = worlds[0].shape\n",
    "    \n",
    "    for wi, world in copy(worlds).items():\n",
    "        w[wi] = np.zeros_like(world, dtype=bool)\n",
    "        for (x,y), val in np.ndenumerate(world):\n",
    "            if (x,y) == CENTER: continue # skip center\n",
    "            nsum = 0  # accumulate number of neighbors into this\n",
    "            for (xm, ym) in [[0,-1], [0,+1], [-1,0], [+1,0]]: # set neighbor-directions\n",
    "                xp, yp = x+xm, y+ym  # set neighbors\n",
    "                if (xp, yp) == CENTER:\n",
    "                    # if right/left neighbor, take left/right row otherwise top/bot row of recursion depth -1\n",
    "                    if   xm==1:  idx = ( 0, RS)\n",
    "                    elif xm==-1: idx = (-1, RS)\n",
    "                    elif ym==1:  idx = (RS,  0)\n",
    "                    elif ym==-1: idx = (RS, -1)\n",
    "                    nsum += worlds[wi-1][idx].sum()\n",
    "                elif xp in range(xmax) and yp in range(ymax):\n",
    "                    nsum += world[xp, yp]\n",
    "                else: # outside recursion\n",
    "                    nsum += worlds[wi+1][2+xm, 2+ym]\n",
    "            # calculate next time step field\n",
    "            w[wi][x,y] = (val and nsum == 1) or (not val and (nsum == 1 or nsum == 2))\n",
    "    return w\n",
    "\n",
    "def solve(data, steps=200):\n",
    "    world = np.array([list(d) for d in data.split()]) == \"#\"  # boolean field that's true if \"#\"\n",
    "    worlds = defaultdict(CREATE_EMTPY, {0: world})\n",
    "    for i in range(steps):\n",
    "        worlds[min(worlds)-1]  # expand -1 dim\n",
    "        worlds[max(worlds)+1]  # expand +1 dim\n",
    "        worlds = step(worlds)\n",
    "        # print(*worlds.items())  # debug output\n",
    "    return sum([world.sum() for world in worlds.values()])  # sum of all values in all dim\n",
    "\n",
    "assert solve(\"\"\"....#\n",
    "#..#.\n",
    "#..##\n",
    "..#..\n",
    "#....\"\"\", 10) == 99\n",
    "\n",
    "aocd.submit(solve(aocd.get_data(day=24)), day=24)"
   ]
  }
 ],
 "metadata": {
  "kernelspec": {
   "display_name": "Python 3",
   "language": "python",
   "name": "python3"
  },
  "language_info": {
   "codemirror_mode": {
    "name": "ipython",
    "version": 3
   },
   "file_extension": ".py",
   "mimetype": "text/x-python",
   "name": "python",
   "nbconvert_exporter": "python",
   "pygments_lexer": "ipython3",
   "version": "3.8.0"
  }
 },
 "nbformat": 4,
 "nbformat_minor": 2
}
