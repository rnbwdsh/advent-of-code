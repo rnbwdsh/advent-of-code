{
 "cells": [
  {
   "cell_type": "code",
   "execution_count": 1,
   "metadata": {},
   "outputs": [],
   "source": [
    "import numpy as np\n",
    "import cmath\n",
    "from math import pi\n",
    "from collections import defaultdict\n",
    "import aocd\n",
    "\n",
    "def parse(d):\n",
    "    return np.array([list(dd) for dd in d.split(\"\\n\")]).T\n",
    "\n",
    "data = parse(aocd.get_data(day=10))"
   ]
  },
  {
   "cell_type": "code",
   "execution_count": 2,
   "metadata": {},
   "outputs": [],
   "source": [
    "small = \"\"\".#..#\n",
    ".....\n",
    "#####\n",
    "....#\n",
    "...##\"\"\"\n",
    "\n",
    "mid = \"\"\"......#.#.\n",
    "#..#.#....\n",
    "..#######.\n",
    ".#.#.###..\n",
    ".#..#.....\n",
    "..#....#.#\n",
    "#..#....#.\n",
    ".##.#..###\n",
    "##...#..#.\n",
    ".#....####\"\"\"\n",
    "\n",
    "big = \"\"\".#..##.###...#######\n",
    "##.############..##.\n",
    ".#.######.########.#\n",
    ".###.#######.####.#.\n",
    "#####.##.#.##.###.##\n",
    "..#####..#.#########\n",
    "####################\n",
    "#.####....###.#.#.##\n",
    "##.#################\n",
    "#####.##.###..####..\n",
    "..######..##.#######\n",
    "####.##.####...##..#\n",
    ".#####..#.######.###\n",
    "##...#.##########...\n",
    "#.##########.#######\n",
    ".####.#.###.###.#.##\n",
    "....##.##.###..#####\n",
    ".#.#.###########.###\n",
    "#.#.#.#####.####.###\n",
    "###.##.####.##.#..##\"\"\""
   ]
  },
  {
   "cell_type": "code",
   "execution_count": 3,
   "metadata": {},
   "outputs": [],
   "source": [
    "def raytrace(d):\n",
    "    pos_count = {}  # dict of \n",
    "    for spos, sval in np.ndenumerate(d):\n",
    "        if sval == \"#\":\n",
    "            found = set()\n",
    "            for tpos, tval in np.ndenumerate(d):\n",
    "                if tval == \"#\" and spos != tpos:\n",
    "                    diff = complex(*spos)-complex(*tpos)\n",
    "                    found.add(cmath.phase(diff))\n",
    "            pos_count[len(found)] = spos\n",
    "    return max(pos_count.items())\n",
    "\n",
    "assert (raytrace(parse(small))) == (8, (3, 4))\n",
    "assert (raytrace(parse(mid))) == (33, (5, 8))\n",
    "assert (raytrace(parse(big))) == (210, (11, 13))"
   ]
  },
  {
   "cell_type": "code",
   "execution_count": 4,
   "metadata": {},
   "outputs": [
    {
     "name": "stderr",
     "output_type": "stream",
     "text": [
      "answer a: 278\n",
      "submitting for part b (part a is already completed)\n"
     ]
    },
    {
     "name": "stdout",
     "output_type": "stream",
     "text": [
      "aocd will not submit that answer again. You've previously guessed 278 and the server responded:\n",
      "\u001b[31mThat's not the right answer; your answer is too low.  If you're stuck, make sure you're using the full input data; there are also some general tips on the about page, or you can ask for hints on the subreddit.  Please wait one minute before trying again. (You guessed 278.) [Return to Day 10]\u001b[0m\n"
     ]
    }
   ],
   "source": [
    "aocd.submit(day=10, answer=raytrace(data)[0])"
   ]
  },
  {
   "cell_type": "code",
   "execution_count": 5,
   "metadata": {},
   "outputs": [],
   "source": [
    "def pulverize(d):\n",
    "    spos = raytrace(d)[1]\n",
    "    targets = defaultdict(dict)  # dict of dicts\n",
    "    for tpos, tval in np.ndenumerate(d): # collect all targets\n",
    "        if tval == \"#\" and spos != tpos:\n",
    "            diff = complex(*spos) - complex(*tpos)\n",
    "            angle = (cmath.phase(diff)-pi/2)%(2*pi)  # rotate by -90\n",
    "            targets[angle][abs(diff)] = tpos\n",
    "            \n",
    "    cnt = 0\n",
    "    while targets:\n",
    "        for angle in sorted(targets): # rotate\n",
    "            ta = targets[angle]\n",
    "            if ta:\n",
    "                cnt+=1 # targets count from 1, not from 0, for some drunk reason\n",
    "                cta = ta.pop(min(ta))\n",
    "                if cnt==200:\n",
    "                    return cta\n",
    "    \n",
    "assert pulverize(parse(big)) == (8,2)"
   ]
  },
  {
   "cell_type": "code",
   "execution_count": 6,
   "metadata": {},
   "outputs": [
    {
     "name": "stderr",
     "output_type": "stream",
     "text": [
      "answer a: 278\n",
      "submitting for part b (part a is already completed)\n",
      "posting 1417 to https://adventofcode.com/2019/day/10/answer (part b) token=...2749\n"
     ]
    },
    {
     "name": "stdout",
     "output_type": "stream",
     "text": [
      "\u001b[33mYou don't seem to be solving the right level.  Did you already complete it? [Return to Day 10]\u001b[0m\n"
     ]
    },
    {
     "data": {
      "text/plain": [
       "<Response [200]>"
      ]
     },
     "execution_count": 6,
     "metadata": {},
     "output_type": "execute_result"
    }
   ],
   "source": [
    "score = lambda a: a[0]*100+a[1]\n",
    "aocd.submit(day=10, answer=score(pulverize(data)))"
   ]
  }
 ],
 "metadata": {
  "kernelspec": {
   "display_name": "Python 3",
   "language": "python",
   "name": "python3"
  },
  "language_info": {
   "codemirror_mode": {
    "name": "ipython",
    "version": 3
   },
   "file_extension": ".py",
   "mimetype": "text/x-python",
   "name": "python",
   "nbconvert_exporter": "python",
   "pygments_lexer": "ipython3",
   "version": "3.8.0"
  }
 },
 "nbformat": 4,
 "nbformat_minor": 4
}
