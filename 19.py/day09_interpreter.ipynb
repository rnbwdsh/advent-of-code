{
 "cells": [
  {
   "cell_type": "code",
   "execution_count": 1,
   "metadata": {},
   "outputs": [
    {
     "name": "stdout",
     "output_type": "stream",
     "text": [
      "[1102, 34463338, 34463338, 63, 1007, 63, 34463338, 63, 1005, 63, 53, 1101, 3, 0, 1000, 109, 988, 209, 12, 9, 1000, 209, 6, 209, 3, 203, 0, 1008, 1000, 1, 63, 1005, 63, 65, 1008, 1000, 2, 63, 1005, 63, 904, 1008, 1000, 0, 63, 1005, 63, 58, 4, 25, 104, 0, 99, 4, 0, 104, 0, 99, 4, 17, 104, 0, 99, 0, 0, 1101, 27, 0, 1014, 1101, 286, 0, 1023, 1102, 1, 35, 1018, 1102, 20, 1, 1000, 1101, 26, 0, 1010, 1101, 0, 289, 1022, 1102, 1, 30, 1019, 1102, 734, 1, 1025, 1102, 1, 31, 1012, 1101, 25, 0, 1001, 1102, 1, 1, 1021, 1101, 0, 36, 1002, 1101, 0, 527, 1028, 1101, 895, 0, 1026, 1102, 1, 23, 1016, 1101, 21, 0, 1003, 1102, 22, 1, 1011, 1102, 1, 522, 1029, 1102, 1, 892, 1027, 1102, 1, 0, 1020, 1102, 1, 28, 1015, 1102, 38, 1, 1006, 1101, 0, 32, 1008, 1101, 743, 0, 1024, 1101, 0, 37, 1007, 1102, 1, 24, 1013, 1102, 1, 33, 1009, 1102, 39, 1, 1004, 1102, 1, 34, 1005, 1102, 1, 29, 1017, 109, 19, 21102, 40, 1, -3, 1008, 1016, 40, 63, 1005, 63, 203, 4, 187, 1106, 0, 207, 1001, 64, 1, 64, 1002, 64, 2, 64, 109, -7, 2101, 0, -7, 63, 1008, 63, 32, 63, 1005, 63, 227, 1106, 0, 233, 4, 213, 1001, 64, 1, 64, 1002, 64, 2, 64, 109, -3, 2108, 37, -2, 63, 1005, 63, 255, 4, 239, 1001, 64, 1, 64, 1105, 1, 255, 1002, 64, 2, 64, 109, 11, 21108, 41, 40, -6, 1005, 1014, 275, 1001, 64, 1, 64, 1106, 0, 277, 4, 261, 1002, 64, 2, 64, 109, 10, 2105, 1, -7, 1105, 1, 295, 4, 283, 1001, 64, 1, 64, 1002, 64, 2, 64, 109, -27, 1201, -2, 0, 63, 1008, 63, 25, 63, 1005, 63, 321, 4, 301, 1001, 64, 1, 64, 1105, 1, 321, 1002, 64, 2, 64, 109, 15, 21107, 42, 41, 0, 1005, 1018, 341, 1001, 64, 1, 64, 1106, 0, 343, 4, 327, 1002, 64, 2, 64, 109, -25, 2108, 20, 10, 63, 1005, 63, 359, 1105, 1, 365, 4, 349, 1001, 64, 1, 64, 1002, 64, 2, 64, 109, 12, 2107, 35, 0, 63, 1005, 63, 385, 1001, 64, 1, 64, 1106, 0, 387, 4, 371, 1002, 64, 2, 64, 109, 4, 21101, 43, 0, 6, 1008, 1015, 43, 63, 1005, 63, 409, 4, 393, 1106, 0, 413, 1001, 64, 1, 64, 1002, 64, 2, 64, 109, 9, 21101, 44, 0, -8, 1008, 1010, 46, 63, 1005, 63, 437, 1001, 64, 1, 64, 1106, 0, 439, 4, 419, 1002, 64, 2, 64, 109, 5, 21108, 45, 45, -4, 1005, 1019, 457, 4, 445, 1106, 0, 461, 1001, 64, 1, 64, 1002, 64, 2, 64, 109, -22, 2102, 1, 7, 63, 1008, 63, 33, 63, 1005, 63, 481, 1106, 0, 487, 4, 467, 1001, 64, 1, 64, 1002, 64, 2, 64, 109, 14, 21102, 46, 1, -1, 1008, 1014, 43, 63, 1005, 63, 507, 1106, 0, 513, 4, 493, 1001, 64, 1, 64, 1002, 64, 2, 64, 109, 12, 2106, 0, 1, 4, 519, 1106, 0, 531, 1001, 64, 1, 64, 1002, 64, 2, 64, 109, -17, 1205, 10, 547, 1001, 64, 1, 64, 1106, 0, 549, 4, 537, 1002, 64, 2, 64, 109, -8, 1202, -2, 1, 63, 1008, 63, 17, 63, 1005, 63, 569, 1105, 1, 575, 4, 555, 1001, 64, 1, 64, 1002, 64, 2, 64, 109, 23, 1206, -5, 593, 4, 581, 1001, 64, 1, 64, 1105, 1, 593, 1002, 64, 2, 64, 109, -14, 1208, -8, 24, 63, 1005, 63, 613, 1001, 64, 1, 64, 1105, 1, 615, 4, 599, 1002, 64, 2, 64, 109, -2, 1207, -1, 33, 63, 1005, 63, 633, 4, 621, 1105, 1, 637, 1001, 64, 1, 64, 1002, 64, 2, 64, 109, 2, 21107, 47, 48, 5, 1005, 1016, 659, 4, 643, 1001, 64, 1, 64, 1105, 1, 659, 1002, 64, 2, 64, 109, -11, 1208, 8, 32, 63, 1005, 63, 681, 4, 665, 1001, 64, 1, 64, 1106, 0, 681, 1002, 64, 2, 64, 109, 2, 2101, 0, 0, 63, 1008, 63, 36, 63, 1005, 63, 703, 4, 687, 1106, 0, 707, 1001, 64, 1, 64, 1002, 64, 2, 64, 109, 12, 1206, 7, 719, 1106, 0, 725, 4, 713, 1001, 64, 1, 64, 1002, 64, 2, 64, 109, 2, 2105, 1, 8, 4, 731, 1001, 64, 1, 64, 1106, 0, 743, 1002, 64, 2, 64, 109, -21, 2102, 1, 9, 63, 1008, 63, 39, 63, 1005, 63, 769, 4, 749, 1001, 64, 1, 64, 1105, 1, 769, 1002, 64, 2, 64, 109, 11, 1201, -3, 0, 63, 1008, 63, 24, 63, 1005, 63, 793, 1001, 64, 1, 64, 1105, 1, 795, 4, 775, 1002, 64, 2, 64, 109, 20, 1205, -5, 809, 4, 801, 1105, 1, 813, 1001, 64, 1, 64, 1002, 64, 2, 64, 109, -23, 1207, 4, 36, 63, 1005, 63, 833, 1001, 64, 1, 64, 1105, 1, 835, 4, 819, 1002, 64, 2, 64, 109, -3, 2107, 33, 5, 63, 1005, 63, 853, 4, 841, 1106, 0, 857, 1001, 64, 1, 64, 1002, 64, 2, 64, 109, 16, 1202, -9, 1, 63, 1008, 63, 37, 63, 1005, 63, 879, 4, 863, 1105, 1, 883, 1001, 64, 1, 64, 1002, 64, 2, 64, 109, 12, 2106, 0, -1, 1105, 1, 901, 4, 889, 1001, 64, 1, 64, 4, 64, 99, 21101, 0, 27, 1, 21101, 0, 915, 0, 1106, 0, 922, 21201, 1, 48476, 1, 204, 1, 99, 109, 3, 1207, -2, 3, 63, 1005, 63, 964, 21201, -2, -1, 1, 21101, 0, 942, 0, 1105, 1, 922, 21202, 1, 1, -1, 21201, -2, -3, 1, 21101, 0, 957, 0, 1105, 1, 922, 22201, 1, -1, -2, 1106, 0, 968, 21202, -2, 1, -2, 109, -3, 2106, 0, 0]\n"
     ]
    }
   ],
   "source": [
    "import aocd\n",
    "from itertools import permutations\n",
    "data = list([int(d) for d in aocd.get_data(day=9).split(\",\")])\n",
    "print(data)"
   ]
  },
  {
   "cell_type": "code",
   "execution_count": 15,
   "metadata": {},
   "outputs": [],
   "source": [
    "IN_SIZE = {1: 4, 2: 4, 3: 2, 4: 2, 5: 3, 6: 3, 7: 4, 8: 4, 9: 2, 99: 1}\n",
    "IN_NAME =  {1: \"add\", 2: \"mul\", 3: \"rd\", 4: \"prnt\", 5: \"jnz\", 6: \"jz\", \n",
    "            7: \"lt\", 8: \"eq\", 9: \"bas\", 99: \"ret\"}\n",
    "EXT_MEM = 1000\n",
    "\n",
    "class Process():  # wrapper for generator\n",
    "    def __init__(self, data, inp=[], dbg=False): \n",
    "        self.d = data[:]+[0]*EXT_MEM  # copy + extend memory\n",
    "        self.done = False\n",
    "        self.pg = self.process_gen(dbg=dbg)\n",
    "        self.inp = inp\n",
    "        self.base = 0\n",
    "        \n",
    "    def process(self, inp=[]):\n",
    "        self.inp = inp\n",
    "        return next(self.pg)\n",
    "    \n",
    "    def proc_data(self, inp): \n",
    "        self.process(inp)\n",
    "        return self.d[:-EXT_MEM]\n",
    "    \n",
    "    def parse_ins(self, ptr, dbg):\n",
    "        param = [0, 0, 0]\n",
    "        ins = self.d[ptr]%100\n",
    "        modes = [self.d[ptr]//10**e%10 for e in range(2,5)]\n",
    "        for i, mode in enumerate(modes):\n",
    "            size = IN_SIZE[ins]-1\n",
    "            if i < size:\n",
    "                p = ptr+1+i\n",
    "                if mode == 0:  param[i] = self.d[p]          # position\n",
    "                if mode == 1:  param[i] = p                  # intermediate\n",
    "                if mode == 2:  param[i] = self.base+self.d[p]# relative\n",
    "        if dbg: print(ptr, IN_NAME[ins], param[:size], \n",
    "                      self.d[ptr:ptr+4], sep = \"\\t\")# debug print\n",
    "        return [ins] + param\n",
    "\n",
    "    def process_gen(self, dbg): \n",
    "        out = []; ptr = 0; d = self.d  # initializations\n",
    "        parse = lambda i: [i%100] + [i//10**e%10 for e in range(2,5)]\n",
    "        while ptr < len(d):                                     # stop on EOF\n",
    "            ins, p1, p2, p3 = self.parse_ins(ptr, dbg=dbg)\n",
    "            # if dbg:print(ptr, d)                              # debug print\n",
    "            if   ins == 1: d[p3] = d[p1] + d[p2]                # add\n",
    "            elif ins == 2: d[p3] = d[p1] * d[p2]                # mul\n",
    "            elif ins == 3:                                      # read\n",
    "                if not self.inp: yield out; out = []            # wait/flush\n",
    "                d[p1] = self.inp.pop(0)                         # read\n",
    "            elif ins == 4: out.append(d[p1])                    # print\n",
    "            elif ins == 5: ptr = d[p2]-3 if     d[p1] else ptr  # jnz\n",
    "            elif ins == 6: ptr = d[p2]-3 if not d[p1] else ptr  # jz\n",
    "            elif ins == 7: d[p3] = int(d[p1] < d[p2])           # lt\n",
    "            elif ins == 8: d[p3] = int(d[p1] == d[p2])          # eq\n",
    "            elif ins == 9: self.base += d[p1]                   # base\n",
    "            elif ins ==99: self.done=True; yield out            # ret\n",
    "            else: print(f\"invalid opcode {ins} @ {ptr}\")        # err\n",
    "            ptr += IN_SIZE[ins] # jmp is compensated with -3    # move ptr\n",
    "        \n",
    "\n",
    "def chain_process(prog, inl, out=[0], dbg=False):\n",
    "    proc = [Process(prog, dbg=dbg) for inp in inl]\n",
    "    for epoch in range(100000):\n",
    "        for i, inp in enumerate(inl):\n",
    "            out = proc[i].process(([inp] if epoch == 0 else [])+out)\n",
    "            if proc[i].done and i == len(inl)-1:  # if the last is done, get out\n",
    "                return out[0]\n",
    "\n",
    "\n",
    "assert Process([1,9,10,3,2,3,11,0,99,30,40,50]).proc_data([]) == [3500,9,10,70,2,3,11,0,99,30,40,50]\n",
    "assert Process([1002,4,3,4,33]).proc_data([]) == [1002,4,3,4,99]\n",
    "assert chain_process([3,15,3,16,1002,16,10,16,1,16,15,15,4,15,99,0,0], [4,3,2,1,0]) == 43210\n",
    "assert chain_process([3,23,3,24,1002,24,10,24,1002,23,-1,23,\n",
    "                      101,5,23,23,1,24,23,23,4,23,99,0,0], [0,1,2,3,4]) == 54321\n",
    "assert chain_process([3,31,3,32,1002,32,10,32,1001,31,-2,31,1007,31,0,33,\n",
    "                      1002,33,7,33,1,33,31,31,1,32,31,31,4,31,99,0,0,0], [1,0,4,3,2]) == 65210\n",
    "assert chain_process([3,26,1001,26,-4,26,3,27,1002,27,2,27,1,27,26,\n",
    "                      27,4,27,1001,28,-1,28,1005,28,6,99,0,0,5], [9,8,7,6,5]) == 139629729\n",
    "assert chain_process([3,52,1001,52,-5,52,3,53,1,52,56,54,1007,54,5,55,1005,55,26,1001,54,\n",
    "                      -5,54,1105,1,12,1,53,54,53,1008,54,0,55,1001,55,1,55,2,53,55,53,4,\n",
    "                      53,1001,56,-1,56,1005,56,6,99,0,0,0,0,10], [9,7,8,5,6]) == 18216\n",
    "sp = [109,1,204,-1,1001,100,1,100,1008,100,16,101,1006,101,0,99]\n",
    "assert Process(sp).process() == sp\n",
    "assert Process([1102,34915192,34915192,7,4,7,99,0]).process() == [1219070632396864]"
   ]
  },
  {
   "cell_type": "code",
   "execution_count": null,
   "metadata": {},
   "outputs": [],
   "source": [
    "def chain_process_loop(prog, ran=range(5), dbg=False):  # search all permutations\n",
    "    best = {chain_process(prog, inp, dbg=dbg): inp for inp in permutations(ran)}\n",
    "    best_k = max(best.keys())\n",
    "    return best_k, list(best[best_k])  # return (best score, best permutation)\n",
    "\n",
    "assert chain_process_loop([3,15,3,16,1002,16,10,16,1,16,15,15,4,15,99,0,0]) [0] == 43210\n",
    "assert chain_process_loop([3,26,1001,26,-4,26,3,27,1002,27,2,27,1,27,26,\n",
    "                      27,4,27,1001,28,-1,28,1005,28,6,99,0,0,5], range(5,10)) == (139629729, [9,8,7,6,5])\n",
    "assert chain_process_loop([3,52,1001,52,-5,52,3,53,1,52,56,54,1007,54,5,55,1005,55,26,1001,54,\n",
    "                      -5,54,1105,1,12,1,53,54,53,1008,54,0,55,1001,55,1,55,2,53,55,53,4,\n",
    "                      53,1001,56,-1,56,1005,56,6,99,0,0,0,0,10], range(5,10)) == (18216, [9,7,8,5,6])\n",
    "# assert chain_process_loop(data) == (79723, [2,3,1,0,4])                   # lvl7 checks\n",
    "# assert chain_process_loop(data, range(5,10)) == (70602018 , [6,9,7,8,5])"
   ]
  },
  {
   "cell_type": "code",
   "execution_count": 16,
   "metadata": {},
   "outputs": [
    {
     "name": "stderr",
     "output_type": "stream",
     "text": [
      "answer a: 2465411646\n",
      "submitting for part b (part a is already completed)\n",
      "posting 2465411646 to https://adventofcode.com/2019/day/9/answer (part b) token=...2749\n",
      "wrong answer: 2465411646\n"
     ]
    },
    {
     "name": "stdout",
     "output_type": "stream",
     "text": [
      "\u001b[31mThat's not the right answer; your answer is too high.  If you're stuck, make sure you're using the full input data; there are also some general tips on the about page, or you can ask for hints on the subreddit.  Please wait one minute before trying again. (You guessed 2465411646.) [Return to Day 9]\u001b[0m\n"
     ]
    },
    {
     "data": {
      "text/plain": [
       "<Response [200]>"
      ]
     },
     "execution_count": 16,
     "metadata": {},
     "output_type": "execute_result"
    }
   ],
   "source": [
    "aocd.submit(day=9, answer=Process(data).process([1])[0])"
   ]
  }
 ],
 "metadata": {
  "kernelspec": {
   "display_name": "Python 3",
   "language": "python",
   "name": "python3"
  },
  "language_info": {
   "codemirror_mode": {
    "name": "ipython",
    "version": 3
   },
   "file_extension": ".py",
   "mimetype": "text/x-python",
   "name": "python",
   "nbconvert_exporter": "python",
   "pygments_lexer": "ipython3",
   "version": "3.8.0"
  }
 },
 "nbformat": 4,
 "nbformat_minor": 4
}
