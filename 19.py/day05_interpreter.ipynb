{
 "cells": [
  {
   "cell_type": "code",
   "execution_count": 1,
   "metadata": {},
   "outputs": [],
   "source": [
    "import aocd\n",
    "from copy import copy\n",
    "OUT = []\n",
    "data = [int(d) for d in aocd.get_data(day=5).split(\",\")]"
   ]
  },
  {
   "cell_type": "code",
   "execution_count": 5,
   "metadata": {},
   "outputs": [],
   "source": [
    "INS_SIZE = {1: 4, 2: 4, 3: 2, 4: 2, 5: 0, 6: 0, 7: 4, 8: 4, 99: 0}\n",
    "def process(d, inp=[], out=OUT, ptr=0, debug=False): \n",
    "    d = copy(d)             # don't modify original, return modified copy\n",
    "    parse = lambda i: [i%100] + [i//10**e%10 for e in range(2,5)]\n",
    "    while ptr < len(d):                                     # stop on EOF\n",
    "        ins, p1m, p2m, p3m = parse(d[ptr])                  # parse cmd\n",
    "        if ins!=99:                                         # don't overread\n",
    "            p1 = ptr+1 if p1m else d[ptr+1]\n",
    "            p2 = ptr+2 if p2m else d[ptr+2]\n",
    "            p3 = ptr+3 if p3m else d[ptr+3]\n",
    "        if   debug:    print(ptr, d[ptr:ptr+4])             # debug\n",
    "        if   ins == 1: d[p3] = d[p1] + d[p2]                # add\n",
    "        elif ins == 2: d[p3] = d[p1] * d[p2]                # mul\n",
    "        elif ins == 3: d[p1] = inp[0]                       # read\n",
    "        elif ins == 4: out.append(d[p1])                    # print\n",
    "        elif ins == 5: ptr = d[p2] if     d[p1] else ptr+3  # je\n",
    "        elif ins == 6: ptr = d[p2] if not d[p1] else ptr+3  # jne\n",
    "        elif ins == 7: d[p3] = int(d[p1] < d[p2])           # lt\n",
    "        elif ins == 8: d[p3] = int(d[p1] == d[p2])          # eq\n",
    "        elif ins == 99:return d                             # ret\n",
    "        else: print(f\"invalid opcode {ins} @ {ptr}\")        # err\n",
    "        ptr += INS_SIZE[ins]                                # move ptr\n",
    "\n",
    "assert process([1,9,10,3,2,3,11,0,99,30,40,50]) == [3500,9,10,70,2,3,11,0,99,30,40,50]\n",
    "assert process([2,3,0,3,99]) == [2,3,0,6,99]\n",
    "assert process([1002,4,3,4,33]) == [1002,4,3,4,99]"
   ]
  },
  {
   "cell_type": "code",
   "execution_count": 6,
   "metadata": {},
   "outputs": [
    {
     "name": "stderr",
     "output_type": "stream",
     "text": [
      "answer a: 15314507\n",
      "submitting for part b (part a is already completed)\n"
     ]
    },
    {
     "name": "stdout",
     "output_type": "stream",
     "text": [
      "aocd will not submit that answer again. You've previously guessed 15314507 and the server responded:\n",
      "\u001b[31mThat's not the right answer; your answer is too high.  If you're stuck, make sure you're using the full input data; there are also some general tips on the about page, or you can ask for hints on the subreddit.  Please wait one minute before trying again. (You guessed 15314507.) [Return to Day 5]\u001b[0m\n"
     ]
    }
   ],
   "source": [
    "process(data, [1])\n",
    "aocd.submit(day=5, answer=OUT[-1])  # manually picked"
   ]
  },
  {
   "cell_type": "code",
   "execution_count": 7,
   "metadata": {},
   "outputs": [
    {
     "name": "stderr",
     "output_type": "stream",
     "text": [
      "answer a: 15314507\n",
      "submitting for part b (part a is already completed)\n",
      "posting 652726 to https://adventofcode.com/2019/day/5/answer (part b) token=...2749\n"
     ]
    },
    {
     "name": "stdout",
     "output_type": "stream",
     "text": [
      "\u001b[33mYou don't seem to be solving the right level.  Did you already complete it? [Return to Day 5]\u001b[0m\n"
     ]
    },
    {
     "data": {
      "text/plain": [
       "<Response [200]>"
      ]
     },
     "execution_count": 7,
     "metadata": {},
     "output_type": "execute_result"
    }
   ],
   "source": [
    "process(data, [5])\n",
    "aocd.submit(day=5, answer=OUT[-1])"
   ]
  }
 ],
 "metadata": {
  "kernelspec": {
   "display_name": "Python 3",
   "language": "python",
   "name": "python3"
  },
  "language_info": {
   "codemirror_mode": {
    "name": "ipython",
    "version": 3
   },
   "file_extension": ".py",
   "mimetype": "text/x-python",
   "name": "python",
   "nbconvert_exporter": "python",
   "pygments_lexer": "ipython3",
   "version": "3.8.0"
  }
 },
 "nbformat": 4,
 "nbformat_minor": 2
}
