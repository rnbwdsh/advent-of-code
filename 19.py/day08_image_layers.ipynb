{
 "cells": [
  {
   "cell_type": "code",
   "execution_count": 11,
   "metadata": {},
   "outputs": [],
   "source": [
    "import aocd\n",
    "import numpy as np\n",
    "import matplotlib.pyplot as plt\n",
    "import functools\n",
    "data = np.array([int(d) for d in list(aocd.get_data(day=8))]).reshape((-1,6,25))"
   ]
  },
  {
   "cell_type": "code",
   "execution_count": 12,
   "metadata": {},
   "outputs": [
    {
     "name": "stderr",
     "output_type": "stream",
     "text": [
      "answer a: 828\n",
      "submitting for part b (part a is already completed)\n"
     ]
    },
    {
     "name": "stdout",
     "output_type": "stream",
     "text": [
      "aocd will not submit that answer again. You've previously guessed 828 and the server responded:\n",
      "\u001b[31mThat's not the right answer.  If you're stuck, make sure you're using the full input data; there are also some general tips on the about page, or you can ask for hints on the subreddit.  Please wait one minute before trying again. (You guessed 828.) [Return to Day 8]\u001b[0m\n"
     ]
    }
   ],
   "source": [
    "def compute(data):\n",
    "    layer = min(data, key=lambda layer: (layer==0).sum())\n",
    "    return (layer==1).sum()*(layer==2).sum()\n",
    "\n",
    "assert compute(np.array([int(i) for i in \"123456789012\"]).reshape(-1,2,3)) == 1\n",
    "aocd.submit(day=8, answer=compute(data))"
   ]
  },
  {
   "cell_type": "code",
   "execution_count": 13,
   "metadata": {},
   "outputs": [
    {
     "name": "stderr",
     "output_type": "stream",
     "text": [
      "answer a: 828\n",
      "submitting for part b (part a is already completed)\n",
      "posting 'ZLBJF' to https://adventofcode.com/2019/day/8/answer (part b) token=...2749\n"
     ]
    },
    {
     "name": "stdout",
     "output_type": "stream",
     "text": [
      "\u001b[33mYou don't seem to be solving the right level.  Did you already complete it? [Return to Day 8]\u001b[0m\n"
     ]
    },
    {
     "data": {
      "text/plain": [
       "<Response [200]>"
      ]
     },
     "execution_count": 13,
     "metadata": {},
     "output_type": "execute_result"
    },
    {
     "data": {
      "image/png": "[encoded data removed]",
      "text/plain": [
       "<Figure size 432x288 with 1 Axes>"
      ]
     },
     "metadata": {
      "needs_background": "light"
     },
     "output_type": "display_data"
    }
   ],
   "source": [
    "draw = lambda img: functools.reduce(lambda a, b: np.where(a != 2, a, b), img)\n",
    "\n",
    "tmp = np.array([int(i) for i in \"0222112222120000\"]).reshape(-1,2,2)\n",
    "assert np.array_equal(draw(tmp), np.array([[0,1],[1,0]]))\n",
    "plt.imshow(draw(data))\n",
    "aocd.submit(\"ZLBJF\", day=8)"
   ]
  }
 ],
 "metadata": {
  "kernelspec": {
   "display_name": "Python 3",
   "language": "python",
   "name": "python3"
  },
  "language_info": {
   "codemirror_mode": {
    "name": "ipython",
    "version": 3
   },
   "file_extension": ".py",
   "mimetype": "text/x-python",
   "name": "python",
   "nbconvert_exporter": "python",
   "pygments_lexer": "ipython3",
   "version": "3.8.0"
  }
 },
 "nbformat": 4,
 "nbformat_minor": 2
}
