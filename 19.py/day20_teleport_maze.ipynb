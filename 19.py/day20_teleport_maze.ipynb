{
 "cells": [
  {
   "cell_type": "code",
   "execution_count": 1,
   "metadata": {},
   "outputs": [
    {
     "name": "stderr",
     "output_type": "stream",
     "text": [
      "answer a: 714\n",
      "submitting for part b (part a is already completed)\n"
     ]
    },
    {
     "name": "stdout",
     "output_type": "stream",
     "text": [
      "aocd will not submit that answer again. You've previously guessed 714 and the server responded:\n",
      "\u001b[31mThat's not the right answer; your answer is too low.  If you're stuck, make sure you're using the full input data; there are also some general tips on the about page, or you can ask for hints on the subreddit.  Please wait one minute before trying again. (You guessed 714.) [Return to Day 20]\u001b[0m\n"
     ]
    }
   ],
   "source": [
    "import numpy as np\n",
    "import networkx as nx\n",
    "import aocd\n",
    "from string import ascii_uppercase as tp\n",
    "from collections import defaultdict\n",
    "\n",
    "def create(data: str) -> nx.Graph:\n",
    "    d = np.array(list(map(list,data.split(\"\\n\"))))\n",
    "    g = nx.Graph()\n",
    "    portals = {}\n",
    "    for spos, src in np.ndenumerate(d):\n",
    "        for p in [[1,0], [0, 1]]:\n",
    "            dpos = tuple(np.array(spos)+p)\n",
    "            if dpos[0] in range(d.shape[0]) and dpos[1] in range(d.shape[1]):\n",
    "                dest = d[dpos]\n",
    "                if src not in \"# \" and dest not in \"# \":\n",
    "                    if src in tp and dest in tp:\n",
    "                        name = src+dest\n",
    "                        g.add_edge(spos, dpos, weight=0)\n",
    "                        g.nodes[spos][\"name\"] = name\n",
    "                        if name in portals:\n",
    "                            g.add_edge(spos, portals[name], teleport=True)\n",
    "                        else:\n",
    "                            portals[name] = spos\n",
    "                    else:\n",
    "                        entering_tp = src in tp or dest in tp\n",
    "                        g.add_edge(spos, dpos, weight=not entering_tp)\n",
    "                    \n",
    "                    g.nodes[spos][\"typ\"] = \"tp\" if src in tp else src\n",
    "    \n",
    "    return g\n",
    "\n",
    "def portal(g, name):\n",
    "    return min([pos for pos, posname in nx.get_node_attributes(g, \"name\").items() if name == posname])\n",
    "        \n",
    "def expand(g, height, width, rec_dep=2):\n",
    "    inner = []\n",
    "    outer = []\n",
    "    for node in nx.get_node_attributes(g, \"name\"):\n",
    "        if 2 < node[0] < width-2 and 2 < node[1] < height-2:\n",
    "            inner.append(node)\n",
    "        else:\n",
    "            outer.append(node)\n",
    "    print(\"inner/outer\", len(inner), len(outer))\n",
    "    \n",
    "    g.remove_edges_from(nx.get_edge_attributes(g, \"teleport\"))\n",
    "    gc = nx.Graph()\n",
    "    for i in range(rec_dep):\n",
    "        for n1 in nx.get_node_attributes(g, \"name\"):\n",
    "            for n2 in nx.get_node_attributes(g, \"name\"):\n",
    "                if n1 != n2 and nx.has_path(g, n1, n2) and n1 < n2:\n",
    "                    startnode = \"AA\" not in [g.nodes[n1][\"name\"], g.nodes[n2][\"name\"]]\n",
    "                    l = nx.shortest_path_length(g, n1, n2, weight=\"weight\") + startnode\n",
    "                    #print(g.nodes[n1][\"name\"], g.nodes[n2][\"name\"], l)\n",
    "                    if n1 in outer and n2 in outer or n1 in inner and n2 in inner:\n",
    "                        gc.add_edge(g.nodes[n1][\"name\"]+str(i), g.nodes[n2][\"name\"]+str(i), weight=l)\n",
    "                    elif n1 in outer and n2 in inner:\n",
    "                        gc.add_edge(g.nodes[n1][\"name\"]+str(i), g.nodes[n2][\"name\"]+str(i+1), weight=l)\n",
    "                    else:\n",
    "                        gc.add_edge(g.nodes[n1][\"name\"]+str(i+1), g.nodes[n2][\"name\"]+str(i), weight=l)\n",
    "                        \n",
    "    \n",
    "    return gc\n",
    "\n",
    "def solve(data, start=\"AA\", end=\"ZZ\", exp=0, dbg=False):\n",
    "    g = create(data)\n",
    "    if exp: \n",
    "        g = expand(g, len(data.split(\"\\n\")[0]), len(data.split(\"\\n\")), exp)\n",
    "    if dbg: \n",
    "        print(*g.edges, sep=\"\\n\")\n",
    "    \n",
    "    if exp:\n",
    "        start, end = \"AA0\", \"ZZ0\"\n",
    "    else:\n",
    "        start, end = portal(g, start), portal(g, end)\n",
    "    \n",
    "    if dbg:\n",
    "        for node in nx.shortest_path(g, start, end, weight=\"weight\"):\n",
    "            print(node)\n",
    "    \n",
    "    return nx.shortest_path_length(g, start, end, weight=\"weight\")\n",
    "\n",
    "\n",
    "aocd.submit(solve(aocd.get_data(day=20)), day=20)"
   ]
  },
  {
   "cell_type": "code",
   "execution_count": 2,
   "metadata": {},
   "outputs": [
    {
     "name": "stdout",
     "output_type": "stream",
     "text": [
      "inner/outer 27 29\n"
     ]
    },
    {
     "name": "stderr",
     "output_type": "stream",
     "text": [
      "answer a: 714\n",
      "submitting for part b (part a is already completed)\n",
      "posting 7876 to https://adventofcode.com/2019/day/20/answer (part b) token=...2749\n"
     ]
    },
    {
     "name": "stdout",
     "output_type": "stream",
     "text": [
      "\u001b[33mYou don't seem to be solving the right level.  Did you already complete it? [Return to Day 20]\u001b[0m\n"
     ]
    },
    {
     "data": {
      "text/plain": [
       "<Response [200]>"
      ]
     },
     "execution_count": 2,
     "metadata": {},
     "output_type": "execute_result"
    }
   ],
   "source": [
    "aocd.submit(solve(aocd.get_data(day=20), exp=50), day=20)"
   ]
  },
  {
   "cell_type": "code",
   "execution_count": 3,
   "metadata": {},
   "outputs": [],
   "source": [
    "assert solve(\"\"\"         A           \n",
    "         A           \n",
    "  #######.#########  \n",
    "  #######.........#  \n",
    "  #######.#######.#  \n",
    "  #######.#######.#  \n",
    "  #######.#######.#  \n",
    "  #####  B    ###.#  \n",
    "BC...##  C    ###.#  \n",
    "  ##.##       ###.#  \n",
    "  ##...DE  F  ###.#  \n",
    "  #####    G  ###.#  \n",
    "  #########.#####.#  \n",
    "DE..#######...###.#  \n",
    "  #.#########.###.#  \n",
    "FG..#########.....#  \n",
    "  ###########.#####  \n",
    "             Z       \n",
    "             Z       \"\"\") == 23"
   ]
  },
  {
   "cell_type": "code",
   "execution_count": 4,
   "metadata": {},
   "outputs": [],
   "source": [
    "assert solve(\"\"\"                   A               \n",
    "                   A               \n",
    "  #################.#############  \n",
    "  #.#...#...................#.#.#  \n",
    "  #.#.#.###.###.###.#########.#.#  \n",
    "  #.#.#.......#...#.....#.#.#...#  \n",
    "  #.#########.###.#####.#.#.###.#  \n",
    "  #.............#.#.....#.......#  \n",
    "  ###.###########.###.#####.#.#.#  \n",
    "  #.....#        A   C    #.#.#.#  \n",
    "  #######        S   P    #####.#  \n",
    "  #.#...#                 #......VT\n",
    "  #.#.#.#                 #.#####  \n",
    "  #...#.#               YN....#.#  \n",
    "  #.###.#                 #####.#  \n",
    "DI....#.#                 #.....#  \n",
    "  #####.#                 #.###.#  \n",
    "ZZ......#               QG....#..AS\n",
    "  ###.###                 #######  \n",
    "JO..#.#.#                 #.....#  \n",
    "  #.#.#.#                 ###.#.#  \n",
    "  #...#..DI             BU....#..LF\n",
    "  #####.#                 #.#####  \n",
    "YN......#               VT..#....QG\n",
    "  #.###.#                 #.###.#  \n",
    "  #.#...#                 #.....#  \n",
    "  ###.###    J L     J    #.#.###  \n",
    "  #.....#    O F     P    #.#...#  \n",
    "  #.###.#####.#.#####.#####.###.#  \n",
    "  #...#.#.#...#.....#.....#.#...#  \n",
    "  #.#####.###.###.#.#.#########.#  \n",
    "  #...#.#.....#...#.#.#.#.....#.#  \n",
    "  #.###.#####.###.###.#.#.#######  \n",
    "  #.#.........#...#.............#  \n",
    "  #########.###.###.#############  \n",
    "           B   J   C               \n",
    "           U   P   P               \"\"\") == 58"
   ]
  },
  {
   "cell_type": "code",
   "execution_count": 5,
   "metadata": {},
   "outputs": [
    {
     "name": "stdout",
     "output_type": "stream",
     "text": [
      "inner/outer 13 15\n"
     ]
    }
   ],
   "source": [
    "assert solve(\"\"\"             Z L X W       C                 \n",
    "             Z P Q B       K                 \n",
    "  ###########.#.#.#.#######.###############  \n",
    "  #...#.......#.#.......#.#.......#.#.#...#  \n",
    "  ###.#.#.#.#.#.#.#.###.#.#.#######.#.#.###  \n",
    "  #.#...#.#.#...#.#.#...#...#...#.#.......#  \n",
    "  #.###.#######.###.###.#.###.###.#.#######  \n",
    "  #...#.......#.#...#...#.............#...#  \n",
    "  #.#########.#######.#.#######.#######.###  \n",
    "  #...#.#    F       R I       Z    #.#.#.#  \n",
    "  #.###.#    D       E C       H    #.#.#.#  \n",
    "  #.#...#                           #...#.#  \n",
    "  #.###.#                           #.###.#  \n",
    "  #.#....OA                       WB..#.#..ZH\n",
    "  #.###.#                           #.#.#.#  \n",
    "CJ......#                           #.....#  \n",
    "  #######                           #######  \n",
    "  #.#....CK                         #......IC\n",
    "  #.###.#                           #.###.#  \n",
    "  #.....#                           #...#.#  \n",
    "  ###.###                           #.#.#.#  \n",
    "XF....#.#                         RF..#.#.#  \n",
    "  #####.#                           #######  \n",
    "  #......CJ                       NM..#...#  \n",
    "  ###.#.#                           #.###.#  \n",
    "RE....#.#                           #......RF\n",
    "  ###.###        X   X       L      #.#.#.#  \n",
    "  #.....#        F   Q       P      #.#.#.#  \n",
    "  ###.###########.###.#######.#########.###  \n",
    "  #.....#...#.....#.......#...#.....#.#...#  \n",
    "  #####.#.###.#######.#######.###.###.#.#.#  \n",
    "  #.......#.......#.#.#.#.#...#...#...#.#.#  \n",
    "  #####.###.#####.#.#.#.#.###.###.#.###.###  \n",
    "  #.......#.....#.#...#...............#...#  \n",
    "  #############.#.#.###.###################  \n",
    "               A O F   N                     \n",
    "               A A D   M                     \"\"\", exp=20) == 396"
   ]
  }
 ],
 "metadata": {
  "kernelspec": {
   "display_name": "Python 3",
   "language": "python",
   "name": "python3"
  },
  "language_info": {
   "codemirror_mode": {
    "name": "ipython",
    "version": 3
   },
   "file_extension": ".py",
   "mimetype": "text/x-python",
   "name": "python",
   "nbconvert_exporter": "python",
   "pygments_lexer": "ipython3",
   "version": "3.8.0"
  }
 },
 "nbformat": 4,
 "nbformat_minor": 2
}
