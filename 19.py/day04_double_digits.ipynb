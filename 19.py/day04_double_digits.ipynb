{
 "cells": [
  {
   "cell_type": "code",
   "execution_count": 1,
   "metadata": {},
   "outputs": [
    {
     "name": "stdout",
     "output_type": "stream",
     "text": [
      "range(357253, 892942)\n"
     ]
    }
   ],
   "source": [
    "import aocd\n",
    "\n",
    "ran = range(*map(int, aocd.get_data(day=4).split(\"-\")))\n",
    "print(ran)"
   ]
  },
  {
   "cell_type": "code",
   "execution_count": 2,
   "metadata": {},
   "outputs": [
    {
     "name": "stderr",
     "output_type": "stream",
     "text": [
      "answer a: 530\n",
      "submitting for part b (part a is already completed)\n",
      "posting 530 to https://adventofcode.com/2019/day/4/answer (part b) token=...2749\n"
     ]
    },
    {
     "name": "stdout",
     "output_type": "stream",
     "text": [
      "\u001b[33mYou don't seem to be solving the right level.  Did you already complete it? [Return to Day 4]\u001b[0m\n"
     ]
    },
    {
     "data": {
      "text/plain": [
       "<Response [200]>"
      ]
     },
     "execution_count": 2,
     "metadata": {},
     "output_type": "execute_result"
    }
   ],
   "source": [
    "check2  = lambda n: any([str(i)*2 in n for i in range(10)])\n",
    "ordered = lambda n: n == \"\".join(sorted(n))\n",
    "test    = lambda n: ordered(n) and check2(n)\n",
    "\n",
    "assert test(\"111111\")\n",
    "assert not test(\"223450\")\n",
    "assert test(\"111122\")\n",
    "assert test(\"366666\")\n",
    "\n",
    "res = sum([test(str(r)) for r in ran])\n",
    "aocd.submit(res, day=4)"
   ]
  },
  {
   "cell_type": "code",
   "execution_count": 3,
   "metadata": {},
   "outputs": [
    {
     "name": "stderr",
     "output_type": "stream",
     "text": [
      "answer a: 530\n",
      "submitting for part b (part a is already completed)\n",
      "posting 324 to https://adventofcode.com/2019/day/4/answer (part b) token=...2749\n"
     ]
    },
    {
     "name": "stdout",
     "output_type": "stream",
     "text": [
      "\u001b[33mYou don't seem to be solving the right level.  Did you already complete it? [Return to Day 4]\u001b[0m\n"
     ]
    },
    {
     "data": {
      "text/plain": [
       "<Response [200]>"
      ]
     },
     "execution_count": 3,
     "metadata": {},
     "output_type": "execute_result"
    }
   ],
   "source": [
    "check2not3 = lambda n: any([str(i)*2 in n and not str(i)*3 in n for i in range(10)])\n",
    "test2      = lambda n: ordered(n) and check2not3(n)\n",
    "\n",
    "assert test2(\"112233\")\n",
    "assert not test2(\"123444\")\n",
    "assert test2(\"111122\")\n",
    "\n",
    "res = sum([test2(str(r)) for r in ran])\n",
    "aocd.submit(res, day=4)"
   ]
  }
 ],
 "metadata": {
  "kernelspec": {
   "display_name": "Python 3",
   "language": "python",
   "name": "python3"
  },
  "language_info": {
   "codemirror_mode": {
    "name": "ipython",
    "version": 3
   },
   "file_extension": ".py",
   "mimetype": "text/x-python",
   "name": "python",
   "nbconvert_exporter": "python",
   "pygments_lexer": "ipython3",
   "version": "3.8.0"
  }
 },
 "nbformat": 4,
 "nbformat_minor": 2
}
