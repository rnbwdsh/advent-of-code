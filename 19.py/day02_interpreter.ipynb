{
 "cells": [
  {
   "cell_type": "code",
   "execution_count": 1,
   "metadata": {},
   "outputs": [
    {
     "name": "stdout",
     "output_type": "stream",
     "text": [
      "[1, 0, 0, 3, 1, 1, 2, 3, 1, 3, 4, 3, 1, 5, 0, 3, 2, 6, 1, 19, 1, 5, 19, 23, 1, 13, 23, 27, 1, 6, 27, 31, 2, 31, 13, 35, 1, 9, 35, 39, 2, 39, 13, 43, 1, 43, 10, 47, 1, 47, 13, 51, 2, 13, 51, 55, 1, 55, 9, 59, 1, 59, 5, 63, 1, 6, 63, 67, 1, 13, 67, 71, 2, 71, 10, 75, 1, 6, 75, 79, 1, 79, 10, 83, 1, 5, 83, 87, 2, 10, 87, 91, 1, 6, 91, 95, 1, 9, 95, 99, 1, 99, 9, 103, 2, 103, 10, 107, 1, 5, 107, 111, 1, 9, 111, 115, 2, 13, 115, 119, 1, 119, 10, 123, 1, 123, 10, 127, 2, 127, 10, 131, 1, 5, 131, 135, 1, 10, 135, 139, 1, 139, 2, 143, 1, 6, 143, 0, 99, 2, 14, 0, 0]\n"
     ]
    }
   ],
   "source": [
    "import numpy as np\n",
    "import aocd\n",
    "from collections import defaultdict\n",
    "data = [int(d) for d in aocd.get_data(day=2).split(\",\")]\n",
    "print(data)"
   ]
  },
  {
   "cell_type": "code",
   "execution_count": 2,
   "metadata": {},
   "outputs": [],
   "source": [
    "def process(d):\n",
    "    d=d[:]\n",
    "    for ptr in range(0,len(d),4):\n",
    "        # print(d[ptr:ptr+4]) # debug\n",
    "        if d[ptr] == 1:   d[d[ptr+3]] = d[d[ptr+1]] + d[d[ptr+2]]\n",
    "        elif d[ptr] == 2: d[d[ptr+3]] = d[d[ptr+1]] * d[d[ptr+2]]\n",
    "        elif d[ptr] == 99:return d\n",
    "        else: print(f\"invalid opcode {d[ptr]} @ {ptr}\")\n",
    "\n",
    "assert process([1,9,10,3,2,3,11,0,99,30,40,50]) == [3500,9,10,70,2,3,11,0,99,30,40,50]\n",
    "assert process([2,3,0,3,99]) == [2,3,0,6,99]"
   ]
  },
  {
   "cell_type": "code",
   "execution_count": 3,
   "metadata": {},
   "outputs": [
    {
     "name": "stderr",
     "output_type": "stream",
     "text": [
      "answer a: 5290681\n",
      "submitting for part b (part a is already completed)\n"
     ]
    },
    {
     "name": "stdout",
     "output_type": "stream",
     "text": [
      "aocd will not submit that answer again. You've previously guessed 5290681 and the server responded:\n",
      "\u001b[31mThat's not the right answer; your answer is too high.  If you're stuck, make sure you're using the full input data; there are also some general tips on the about page, or you can ask for hints on the subreddit.  Please wait one minute before trying again. (You guessed 5290681.) [Return to Day 2]\u001b[0m\n"
     ]
    }
   ],
   "source": [
    "data[1:3] = 12, 2\n",
    "out = process(data)\n",
    "\n",
    "aocd.submit(day=2, answer=out[0])"
   ]
  },
  {
   "cell_type": "code",
   "execution_count": 4,
   "metadata": {},
   "outputs": [
    {
     "name": "stderr",
     "output_type": "stream",
     "text": [
      "answer a: 5290681\n",
      "submitting for part b (part a is already completed)\n",
      "posting 5741 to https://adventofcode.com/2019/day/2/answer (part b) token=...2749\n"
     ]
    },
    {
     "name": "stdout",
     "output_type": "stream",
     "text": [
      "\u001b[33mYou don't seem to be solving the right level.  Did you already complete it? [Return to Day 2]\u001b[0m\n"
     ]
    }
   ],
   "source": [
    "for i in range(100):\n",
    "    for j in range(100):\n",
    "        d[1:3] = i, j\n",
    "        out = process(d)\n",
    "        if out[0] == 19690720:\n",
    "            aocd.submit(day=2, answer=i*100+j)"
   ]
  }
 ],
 "metadata": {
  "kernelspec": {
   "display_name": "Python 3",
   "language": "python",
   "name": "python3"
  },
  "language_info": {
   "codemirror_mode": {
    "name": "ipython",
    "version": 3
   },
   "file_extension": ".py",
   "mimetype": "text/x-python",
   "name": "python",
   "nbconvert_exporter": "python",
   "pygments_lexer": "ipython3",
   "version": "3.8.0"
  }
 },
 "nbformat": 4,
 "nbformat_minor": 2
}
