{
 "cells": [
  {
   "cell_type": "code",
   "execution_count": 1,
   "metadata": {},
   "outputs": [],
   "source": [
    "from collections import Counter\n",
    "import aocd\n",
    "import re\n",
    "from math import floor\n",
    "from scipy import optimize\n",
    "\n",
    "class Inventory(Counter):\n",
    "    def __init__(self, data, fuel):\n",
    "        self[\"FUEL\"] = -fuel\n",
    "        # create lookup table for chemical -> (needed, {traded, given})\n",
    "        lines = [list(reversed(re.split(\",? =?>? ?\", line))) for line in data.split(\"\\n\")]\n",
    "        self.lookup = {parts[0]: (int(parts[1]), Counter(\n",
    "            {parts[i]:int(parts[i+1]) for i in range(2, len(parts), 2)})) for parts in lines}\n",
    "            \n",
    "    def loop(self):\n",
    "        while True:\n",
    "            # find first negative-count-non-ore\n",
    "            for name, stored in self.items(): \n",
    "                if name!=\"ORE\" and stored < 0: break\n",
    "            else: return -self[\"ORE\"]\n",
    "            self.replace(name, stored//self.lookup[name][0])\n",
    "            \n",
    "    def replace(self, addtyp, amount):\n",
    "        if addtyp != \"ORE\":\n",
    "            addnum, typ_cnt = self.lookup[addtyp]\n",
    "            self.update({addtyp: -addnum*amount})\n",
    "            self.update(Counter({k:v*amount for k,v in typ_cnt.items()}))\n",
    "            \n",
    "assert Inventory(\"\"\"9 ORE => 2 A\\n8 ORE => 3 B\\n7 ORE => 5 C\\n3 A, 4 B => 1 AB\\n5 B, 7 C => 1 BC\\n4 C, 1 A => 1 CA\\n2 AB, 3 BC, 4 CA => 1 FUEL\"\"\", 1).loop() == 165"
   ]
  },
  {
   "cell_type": "code",
   "execution_count": 2,
   "metadata": {},
   "outputs": [
    {
     "name": "stderr",
     "output_type": "stream",
     "text": [
      "answer a: 579797\n",
      "submitting for part b (part a is already completed)\n"
     ]
    },
    {
     "name": "stdout",
     "output_type": "stream",
     "text": [
      "aocd will not submit that answer again. You've previously guessed 579797 and the server responded:\n",
      "\u001b[31mThat's not the right answer; your answer is too low.  If you're stuck, make sure you're using the full input data; there are also some general tips on the about page, or you can ask for hints on the subreddit.  Please wait one minute before trying again. (You guessed 579797.) [Return to Day 14]\u001b[0m\n"
     ]
    }
   ],
   "source": [
    "aocd.submit(day=14, answer=Inventory(aocd.get_data(), 1).loop())"
   ]
  },
  {
   "cell_type": "code",
   "execution_count": 3,
   "metadata": {},
   "outputs": [
    {
     "name": "stderr",
     "output_type": "stream",
     "text": [
      "answer a: 579797\n",
      "submitting for part b (part a is already completed)\n",
      "posting 2521844 to https://adventofcode.com/2019/day/14/answer (part b) token=...2749\n"
     ]
    },
    {
     "name": "stdout",
     "output_type": "stream",
     "text": [
      "\u001b[33mYou don't seem to be solving the right level.  Did you already complete it? [Return to Day 14]\u001b[0m\n"
     ]
    },
    {
     "data": {
      "text/plain": [
       "<Response [200]>"
      ]
     },
     "execution_count": 3,
     "metadata": {},
     "output_type": "execute_result"
    }
   ],
   "source": [
    "metric = lambda i: abs(Inventory(aocd.get_data(), i).loop()-1000000000000)\n",
    "aocd.submit(floor(optimize.minimize_scalar(metric).x), day=14)"
   ]
  }
 ],
 "metadata": {
  "kernelspec": {
   "display_name": "Python 3",
   "language": "python",
   "name": "python3"
  },
  "language_info": {
   "codemirror_mode": {
    "name": "ipython",
    "version": 3
   },
   "file_extension": ".py",
   "mimetype": "text/x-python",
   "name": "python",
   "nbconvert_exporter": "python",
   "pygments_lexer": "ipython3",
   "version": "3.8.0"
  }
 },
 "nbformat": 4,
 "nbformat_minor": 4
}
