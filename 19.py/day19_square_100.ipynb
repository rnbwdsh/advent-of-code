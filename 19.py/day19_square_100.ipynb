{
 "cells": [
  {
   "cell_type": "code",
   "execution_count": 1,
   "metadata": {},
   "outputs": [
    {
     "name": "stdout",
     "output_type": "stream",
     "text": [
      "[109, 424, 203, 1, 21102, 11, 1, 0, 1105, 1, 282, 21101, 0, 18, 0, 1105, 1, 259, 2101, 0, 1, 221, 203, 1, 21102, 1, 31, 0, 1105, 1, 282, 21102, 1, 38, 0, 1105, 1, 259, 20102, 1, 23, 2, 21201, 1, 0, 3, 21102, 1, 1, 1, 21102, 57, 1, 0, 1106, 0, 303, 2102, 1, 1, 222, 21002, 221, 1, 3, 20101, 0, 221, 2, 21101, 0, 259, 1, 21101, 0, 80, 0, 1105, 1, 225, 21101, 44, 0, 2, 21102, 91, 1, 0, 1105, 1, 303, 1202, 1, 1, 223, 21002, 222, 1, 4, 21102, 259, 1, 3, 21102, 1, 225, 2, 21102, 225, 1, 1, 21101, 118, 0, 0, 1106, 0, 225, 21002, 222, 1, 3, 21101, 163, 0, 2, 21101, 0, 133, 0, 1106, 0, 303, 21202, 1, -1, 1, 22001, 223, 1, 1, 21102, 148, 1, 0, 1106, 0, 259, 1202, 1, 1, 223, 20101, 0, 221, 4, 21001, 222, 0, 3, 21102, 1, 24, 2, 1001, 132, -2, 224, 1002, 224, 2, 224, 1001, 224, 3, 224, 1002, 132, -1, 132, 1, 224, 132, 224, 21001, 224, 1, 1, 21101, 195, 0, 0, 105, 1, 108, 20207, 1, 223, 2, 21002, 23, 1, 1, 21102, -1, 1, 3, 21102, 1, 214, 0, 1106, 0, 303, 22101, 1, 1, 1, 204, 1, 99, 0, 0, 0, 0, 109, 5, 2101, 0, -4, 249, 22102, 1, -3, 1, 22101, 0, -2, 2, 22101, 0, -1, 3, 21102, 250, 1, 0, 1106, 0, 225, 21202, 1, 1, -4, 109, -5, 2105, 1, 0, 109, 3, 22107, 0, -2, -1, 21202, -1, 2, -1, 21201, -1, -1, -1, 22202, -1, -2, -2, 109, -3, 2106, 0, 0, 109, 3, 21207, -2, 0, -1, 1206, -1, 294, 104, 0, 99, 22102, 1, -2, -2, 109, -3, 2105, 1, 0, 109, 5, 22207, -3, -4, -1, 1206, -1, 346, 22201, -4, -3, -4, 21202, -3, -1, -1, 22201, -4, -1, 2, 21202, 2, -1, -1, 22201, -4, -1, 1, 21202, -2, 1, 3, 21101, 0, 343, 0, 1106, 0, 303, 1106, 0, 415, 22207, -2, -3, -1, 1206, -1, 387, 22201, -3, -2, -3, 21202, -2, -1, -1, 22201, -3, -1, 3, 21202, 3, -1, -1, 22201, -3, -1, 2, 21201, -4, 0, 1, 21101, 384, 0, 0, 1105, 1, 303, 1105, 1, 415, 21202, -4, -1, -4, 22201, -4, -3, -4, 22202, -3, -2, -2, 22202, -2, -4, -4, 22202, -3, -2, -3, 21202, -4, -1, -2, 22201, -3, -2, 1, 21202, 1, 1, -4, 109, -5, 2105, 1, 0]\n"
     ]
    }
   ],
   "source": [
    "import aocd\n",
    "import numpy as np\n",
    "from copy import copy\n",
    "data = list([int(d) for d in aocd.get_data(day=19).split(\",\")])\n",
    "print(data)"
   ]
  },
  {
   "cell_type": "code",
   "execution_count": 2,
   "metadata": {},
   "outputs": [],
   "source": [
    "IN_SIZE = {1: 4, 2: 4, 3: 2, 4: 2, 5: 3, 6: 3, 7: 4, 8: 4, 9: 2, 99: 1}\n",
    "IN_NAME =  {1: \"add\", 2: \"mul\", 3: \"rd\", 4: \"prnt\", 5: \"jnz\", 6: \"jz\", \n",
    "            7: \"lt\", 8: \"eq\", 9: \"bas\", 99: \"ret\"}\n",
    "EXT_MEM = 100\n",
    "\n",
    "class Process():  # wrapper for generator\n",
    "    def __init__(self, data, ptr=0, dbg=False): \n",
    "        self.d = data[:]+[0]*EXT_MEM  # copy + extend memory\n",
    "        self.done = False\n",
    "        self.base = 0\n",
    "        self.ptr = ptr\n",
    "    \n",
    "    def parse_ins(self, ptr, dbg=False):\n",
    "        param = [0, 0, 0]\n",
    "        ins = self.d[ptr]%100\n",
    "        modes = [self.d[ptr]//10**e%10 for e in range(2,5)]\n",
    "        for i, mode in enumerate(modes):\n",
    "            size = IN_SIZE[ins]-1\n",
    "            if i < size:\n",
    "                p = ptr+1+i\n",
    "                if mode == 0:  param[i] = self.d[p]          # position\n",
    "                if mode == 1:  param[i] = p                  # intermediate\n",
    "                if mode == 2:  param[i] = self.base+self.d[p]# relative\n",
    "        if dbg: print(ptr, IN_NAME[ins], param[:size], \n",
    "                      self.d[ptr:ptr+4], sep = \"\\t\")# debug print\n",
    "        return [ins] + param\n",
    "\n",
    "    def process(self, inp, dbg=False): \n",
    "        out = []; ptr = self.ptr; d = self.d  # initializations\n",
    "        parse = lambda i: [i%100] + [i//10**e%10 for e in range(2,5)]\n",
    "        while ptr < len(d):                                     # stop on EOF\n",
    "            ins, p1, p2, p3 = self.parse_ins(ptr, dbg=dbg)\n",
    "            # if dbg:print(ptr, d)                              # debug print\n",
    "            if   ins == 1: d[p3] = d[p1] + d[p2]                # add\n",
    "            elif ins == 2: d[p3] = d[p1] * d[p2]                # mul\n",
    "            elif ins == 3:                                      # read\n",
    "                if not inp: self.ptr = ptr; return out;         # wait/flush\n",
    "                d[p1] = inp.pop(0)                              # read\n",
    "            elif ins == 4: out.append(d[p1])                    # print\n",
    "            elif ins == 5: ptr = d[p2]-3 if     d[p1] else ptr  # jnz\n",
    "            elif ins == 6: ptr = d[p2]-3 if not d[p1] else ptr  # jz\n",
    "            elif ins == 7: d[p3] = int(d[p1] < d[p2])           # lt\n",
    "            elif ins == 8: d[p3] = int(d[p1] == d[p2])          # eq\n",
    "            elif ins == 9: self.base += d[p1]                   # base\n",
    "            elif ins ==99: self.done=True; return out           # ret\n",
    "            else: print(f\"invalid opcode {ins} @ {ptr}\")        # err\n",
    "            ptr += IN_SIZE[ins] # jmp is compensated with -3    # move ptr\n",
    "\n",
    "# tests in other files"
   ]
  },
  {
   "cell_type": "code",
   "execution_count": 3,
   "metadata": {},
   "outputs": [
    {
     "name": "stderr",
     "output_type": "stream",
     "text": [
      "answer a: 179\n",
      "submitting for part b (part a is already completed)\n"
     ]
    },
    {
     "name": "stdout",
     "output_type": "stream",
     "text": [
      "aocd will not submit that answer again. You've previously guessed 179 and the server responded:\n",
      "\u001b[31mThat's not the right answer; your answer is too low.  If you're stuck, make sure you're using the full input data; there are also some general tips on the about page, or you can ask for hints on the subreddit.  Please wait one minute before trying again. (You guessed 179.) [Return to Day 19]\u001b[0m\n"
     ]
    }
   ],
   "source": [
    "def init(x, y):\n",
    "    a = np.zeros((x,y), dtype=int)\n",
    "    for pos, val in np.ndenumerate(a):\n",
    "        a[pos]=Process(data).process(list(pos))[0]\n",
    "    return a\n",
    "\n",
    "aocd.submit(np.sum(init(50,50)), day=19)"
   ]
  },
  {
   "cell_type": "code",
   "execution_count": 4,
   "metadata": {},
   "outputs": [
    {
     "name": "stderr",
     "output_type": "stream",
     "text": [
      "answer a: 179\n",
      "submitting for part b (part a is already completed)\n",
      "posting 9760485 to https://adventofcode.com/2019/day/19/answer (part b) token=...2749\n"
     ]
    },
    {
     "name": "stdout",
     "output_type": "stream",
     "text": [
      "\u001b[33mYou don't seem to be solving the right level.  Did you already complete it? [Return to Day 19]\u001b[0m\n"
     ]
    },
    {
     "data": {
      "text/plain": [
       "<Response [200]>"
      ]
     },
     "execution_count": 4,
     "metadata": {},
     "output_type": "execute_result"
    }
   ],
   "source": [
    "score = lambda p: p[0]*10000+p[1]\n",
    "def find_square(a, size):\n",
    "    a = a.copy()  # do not modify the original!\n",
    "    res = [(x,y) for (x,y), _ in np.ndenumerate(a) if np.sum(a[x:x+size, y:y+size]) == size*size]\n",
    "    return min(res) if res else []\n",
    "\n",
    "a = init(1100, 600)  # 10/10 works with 110/60 so we use x10 here\n",
    "aocd.submit(score(find_square(a, 100)), day=19)"
   ]
  }
 ],
 "metadata": {
  "kernelspec": {
   "display_name": "Python 3",
   "language": "python",
   "name": "python3"
  },
  "language_info": {
   "codemirror_mode": {
    "name": "ipython",
    "version": 3
   },
   "file_extension": ".py",
   "mimetype": "text/x-python",
   "name": "python",
   "nbconvert_exporter": "python",
   "pygments_lexer": "ipython3",
   "version": "3.8.0"
  }
 },
 "nbformat": 4,
 "nbformat_minor": 4
}
