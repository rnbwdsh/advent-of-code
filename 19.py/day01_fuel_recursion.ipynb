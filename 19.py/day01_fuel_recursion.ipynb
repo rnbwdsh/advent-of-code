{
 "cells": [
  {
   "cell_type": "code",
   "execution_count": 1,
   "metadata": {},
   "outputs": [
    {
     "name": "stdout",
     "output_type": "stream",
     "text": [
      "[130541, 69856, 104618, 149406, 64500, 128553, 94958, 104788, 87642, 60597, 142981, 132940, 64860, 122199, 131528, 84879, 144729, 139907, 147856, 66258, 95890, 115399, 106239, 126841, 59689, 146878, 105262, 137079, 145130, 114767, 94900, 64349, 105456, 59491, 79265, 89321, 62254, 106996, 107612, 71451, 138032, 137610, 52157, 68712, 134770, 111493, 50370, 91088, 149756, 51638, 110641, 60113, 54732, 86907, 73037, 111831, 116378, 93493, 55956, 111018, 99771, 65224, 149852, 97464, 148596, 140102, 81222, 106843, 61575, 112180, 124277, 59315, 101347, 141260, 90253, 87946, 55455, 115978, 51255, 149617, 77484, 133499, 128627, 75777, 135748, 87630, 86834, 145664, 86360, 139511, 60064, 106100, 123539, 115732, 107666, 89177, 82419, 98712, 148947, 50931]\n"
     ]
    }
   ],
   "source": [
    "import numpy as np\n",
    "import aocd\n",
    "data = [int(i) for i in aocd.get_data(day=1).split(\"\\n\")]\n",
    "print(data)"
   ]
  },
  {
   "cell_type": "code",
   "execution_count": 2,
   "metadata": {},
   "outputs": [
    {
     "name": "stderr",
     "output_type": "stream",
     "text": [
      "answer a: 3382284\n",
      "submitting for part b (part a is already completed)\n",
      "posting 3382284 to https://adventofcode.com/2019/day/1/answer (part b) token=...2749\n",
      "answer a: 3382284\n",
      "submitting for part b (part a is already completed)\n",
      "posting 5070541 to https://adventofcode.com/2019/day/1/answer (part b) token=...2749\n"
     ]
    },
    {
     "name": "stdout",
     "output_type": "stream",
     "text": [
      "\u001b[33mYou don't seem to be solving the right level.  Did you already complete it? [Return to Day 1]\u001b[0m\n",
      "\u001b[33mYou don't seem to be solving the right level.  Did you already complete it? [Return to Day 1]\u001b[0m\n"
     ]
    },
    {
     "data": {
      "text/plain": [
       "<Response [200]>"
      ]
     },
     "execution_count": 2,
     "metadata": {},
     "output_type": "execute_result"
    }
   ],
   "source": [
    "def req_0(mass):\n",
    "    return mass//3-2\n",
    "\n",
    "def req(mass: int):\n",
    "    fl = [req_0(mass)]\n",
    "    while req_0(fl[-1]) > 0:\n",
    "        fl.append(req_0(fl[-1]))\n",
    "    return sum(fl)\n",
    "\n",
    "assert req(12) == 2\n",
    "assert req(100756) == 50346\n",
    "\n",
    "aocd.submit(day=1, answer=sum(map(req_0, data)))\n",
    "aocd.submit(day=1, answer=sum(map(req  , data)))"
   ]
  }
 ],
 "metadata": {
  "kernelspec": {
   "display_name": "Python 3",
   "language": "python",
   "name": "python3"
  },
  "language_info": {
   "codemirror_mode": {
    "name": "ipython",
    "version": 3
   },
   "file_extension": ".py",
   "mimetype": "text/x-python",
   "name": "python",
   "nbconvert_exporter": "python",
   "pygments_lexer": "ipython3",
   "version": "3.8.0"
  }
 },
 "nbformat": 4,
 "nbformat_minor": 2
}
