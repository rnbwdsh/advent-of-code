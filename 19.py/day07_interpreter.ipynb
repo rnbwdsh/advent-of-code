{
 "cells": [
  {
   "cell_type": "code",
   "execution_count": 1,
   "metadata": {},
   "outputs": [
    {
     "name": "stdout",
     "output_type": "stream",
     "text": [
      "[3, 8, 1001, 8, 10, 8, 105, 1, 0, 0, 21, 42, 67, 84, 97, 118, 199, 280, 361, 442, 99999, 3, 9, 101, 4, 9, 9, 102, 5, 9, 9, 101, 2, 9, 9, 1002, 9, 2, 9, 4, 9, 99, 3, 9, 101, 5, 9, 9, 102, 5, 9, 9, 1001, 9, 5, 9, 102, 3, 9, 9, 1001, 9, 2, 9, 4, 9, 99, 3, 9, 1001, 9, 5, 9, 1002, 9, 2, 9, 1001, 9, 5, 9, 4, 9, 99, 3, 9, 1001, 9, 5, 9, 1002, 9, 3, 9, 4, 9, 99, 3, 9, 102, 4, 9, 9, 101, 4, 9, 9, 102, 2, 9, 9, 101, 3, 9, 9, 4, 9, 99, 3, 9, 102, 2, 9, 9, 4, 9, 3, 9, 1002, 9, 2, 9, 4, 9, 3, 9, 1001, 9, 2, 9, 4, 9, 3, 9, 102, 2, 9, 9, 4, 9, 3, 9, 102, 2, 9, 9, 4, 9, 3, 9, 1001, 9, 2, 9, 4, 9, 3, 9, 1002, 9, 2, 9, 4, 9, 3, 9, 102, 2, 9, 9, 4, 9, 3, 9, 1001, 9, 2, 9, 4, 9, 3, 9, 101, 2, 9, 9, 4, 9, 99, 3, 9, 1001, 9, 1, 9, 4, 9, 3, 9, 101, 2, 9, 9, 4, 9, 3, 9, 1001, 9, 2, 9, 4, 9, 3, 9, 1002, 9, 2, 9, 4, 9, 3, 9, 101, 2, 9, 9, 4, 9, 3, 9, 1002, 9, 2, 9, 4, 9, 3, 9, 102, 2, 9, 9, 4, 9, 3, 9, 1002, 9, 2, 9, 4, 9, 3, 9, 101, 1, 9, 9, 4, 9, 3, 9, 101, 2, 9, 9, 4, 9, 99, 3, 9, 101, 1, 9, 9, 4, 9, 3, 9, 1001, 9, 1, 9, 4, 9, 3, 9, 1002, 9, 2, 9, 4, 9, 3, 9, 1002, 9, 2, 9, 4, 9, 3, 9, 1002, 9, 2, 9, 4, 9, 3, 9, 1001, 9, 2, 9, 4, 9, 3, 9, 102, 2, 9, 9, 4, 9, 3, 9, 102, 2, 9, 9, 4, 9, 3, 9, 101, 2, 9, 9, 4, 9, 3, 9, 1001, 9, 2, 9, 4, 9, 99, 3, 9, 102, 2, 9, 9, 4, 9, 3, 9, 102, 2, 9, 9, 4, 9, 3, 9, 1001, 9, 2, 9, 4, 9, 3, 9, 102, 2, 9, 9, 4, 9, 3, 9, 1001, 9, 2, 9, 4, 9, 3, 9, 102, 2, 9, 9, 4, 9, 3, 9, 102, 2, 9, 9, 4, 9, 3, 9, 101, 1, 9, 9, 4, 9, 3, 9, 1001, 9, 2, 9, 4, 9, 3, 9, 1002, 9, 2, 9, 4, 9, 99, 3, 9, 101, 1, 9, 9, 4, 9, 3, 9, 101, 1, 9, 9, 4, 9, 3, 9, 102, 2, 9, 9, 4, 9, 3, 9, 1001, 9, 2, 9, 4, 9, 3, 9, 1001, 9, 2, 9, 4, 9, 3, 9, 1002, 9, 2, 9, 4, 9, 3, 9, 101, 1, 9, 9, 4, 9, 3, 9, 102, 2, 9, 9, 4, 9, 3, 9, 1001, 9, 1, 9, 4, 9, 3, 9, 1001, 9, 2, 9, 4, 9, 99]\n"
     ]
    }
   ],
   "source": [
    "import aocd\n",
    "from itertools import permutations\n",
    "data = list([int(d) for d in aocd.get_data(day=7).split(\",\")])\n",
    "print(data)"
   ]
  },
  {
   "cell_type": "code",
   "execution_count": 2,
   "metadata": {},
   "outputs": [],
   "source": [
    "class Process():  # wrapper for generator\n",
    "    def __init__(self, data, inp=[]): \n",
    "        self.d = data[:]  # copy\n",
    "        self.done = False\n",
    "        self.pg = self.process_gen()\n",
    "        self.inp = inp\n",
    "        \n",
    "    def process(self, inp, dbg=False):\n",
    "        self.inp = inp\n",
    "        return next(self.pg)\n",
    "    \n",
    "    def proc_data(self, inp): \n",
    "        self.process(inp)\n",
    "        return self.d\n",
    "\n",
    "    def process_gen(self, dbg=False): \n",
    "        out = []; ptr = 0; d = self.d  # initializations\n",
    "        in_size = {1: 4, 2: 4, 3: 2, 4: 2, 5: 3, 6: 3, 7: 4, 8: 4, 99: 0}\n",
    "        in_name =  {1: \"add\", 2: \"mul\", 3: \"read\", 4: \"print\", \n",
    "                   5: \"jnz\", 6: \"jz\", 7: \"lt\", 8: \"eq\", 99: \"ret\"}\n",
    "        parse = lambda i: [i%100] + [i//10**e%10 for e in range(2,5)]\n",
    "        while ptr < len(d):                                     # stop on EOF\n",
    "            ins, m1, m2, m3 = parse(d[ptr])                     # parse instr.\n",
    "            if in_size[ins] > 0: p1 = ptr+1 if m1 else d[ptr+1] # load p1-p3\n",
    "            if in_size[ins] > 1: p2 = ptr+2 if m2 else d[ptr+2] # if used\n",
    "            if in_size[ins] > 2: p3 = ptr+3 if m3 else d[ptr+3] # \n",
    "            if dbg:print(ptr, data)                             # debug print\n",
    "            if dbg:print(in_name[ins], d[ptr:ptr+in_size[ins]]) # debug print\n",
    "            if   ins == 1: d[p3] = d[p1] + d[p2]                # add\n",
    "            elif ins == 2: d[p3] = d[p1] * d[p2]                # mul\n",
    "            elif ins == 3:                                      # read\n",
    "                if not self.inp: yield out; out = []            # wait/flush\n",
    "                d[p1] = self.inp.pop(0)                         # read\n",
    "            elif ins == 4: out.append(d[p1])                    # print\n",
    "            elif ins == 5: ptr = d[p2]-3 if     d[p1] else ptr  # jnz\n",
    "            elif ins == 6: ptr = d[p2]-3 if not d[p1] else ptr  # jz\n",
    "            elif ins == 7: d[p3] = int(d[p1] < d[p2])           # lt\n",
    "            elif ins == 8: d[p3] = int(d[p1] == d[p2])          # eq\n",
    "            elif ins ==99: self.done=True; yield out            # ret\n",
    "            else: print(f\"invalid opcode {ins} @ {ptr}\")        # err\n",
    "            ptr += in_size[ins] # jmp is compensated with -3    # move ptr\n",
    "        \n",
    "\n",
    "def chain_process(prog, inl, out=[0], dbg=False):\n",
    "    proc = [Process(prog) for inp in inl]\n",
    "    for epoch in range(100000):\n",
    "        for i, inp in enumerate(inl):\n",
    "            out = proc[i].process(([inp] if epoch == 0 else [])+out, dbg=dbg)\n",
    "            if proc[i].done and i == len(inl)-1:  # if the last is done, get out\n",
    "                return out[0]\n",
    "\n",
    "\n",
    "assert Process([1,9,10,3,2,3,11,0,99,30,40,50]).proc_data([]) == [3500,9,10,70,2,3,11,0,99,30,40,50]\n",
    "assert Process([1002,4,3,4,33]).proc_data([]) == [1002,4,3,4,99]\n",
    "assert chain_process([3,15,3,16,1002,16,10,16,1,16,15,15,4,15,99,0,0], [4,3,2,1,0]) == 43210\n",
    "assert chain_process([3,23,3,24,1002,24,10,24,1002,23,-1,23,\n",
    "                      101,5,23,23,1,24,23,23,4,23,99,0,0], [0,1,2,3,4]) == 54321\n",
    "assert chain_process([3,31,3,32,1002,32,10,32,1001,31,-2,31,1007,31,0,33,\n",
    "                      1002,33,7,33,1,33,31,31,1,32,31,31,4,31,99,0,0,0], [1,0,4,3,2]) == 65210\n",
    "assert chain_process([3,26,1001,26,-4,26,3,27,1002,27,2,27,1,27,26,\n",
    "                      27,4,27,1001,28,-1,28,1005,28,6,99,0,0,5], [9,8,7,6,5]) == 139629729\n",
    "assert chain_process([3,52,1001,52,-5,52,3,53,1,52,56,54,1007,54,5,55,1005,55,26,1001,54,\n",
    "                      -5,54,1105,1,12,1,53,54,53,1008,54,0,55,1001,55,1,55,2,53,55,53,4,\n",
    "                      53,1001,56,-1,56,1005,56,6,99,0,0,0,0,10], [9,7,8,5,6]) == 18216"
   ]
  },
  {
   "cell_type": "code",
   "execution_count": 3,
   "metadata": {},
   "outputs": [],
   "source": [
    "def chain_process_loop(prog, ran=range(5), dbg=False):  # search all permutations\n",
    "    best = {chain_process(prog, inp, dbg=dbg): inp for inp in permutations(ran)}\n",
    "    best_k = max(best.keys())\n",
    "    return best_k, list(best[best_k])  # return (best score, best permutation)\n",
    "\n",
    "assert chain_process_loop([3,15,3,16,1002,16,10,16,1,16,15,15,4,15,99,0,0]) [0] == 43210\n",
    "assert chain_process_loop([3,26,1001,26,-4,26,3,27,1002,27,2,27,1,27,26,\n",
    "                      27,4,27,1001,28,-1,28,1005,28,6,99,0,0,5], range(5,10)) == (139629729, [9,8,7,6,5])\n",
    "assert chain_process_loop([3,52,1001,52,-5,52,3,53,1,52,56,54,1007,54,5,55,1005,55,26,1001,54,\n",
    "                      -5,54,1105,1,12,1,53,54,53,1008,54,0,55,1001,55,1,55,2,53,55,53,4,\n",
    "                      53,1001,56,-1,56,1005,56,6,99,0,0,0,0,10], range(5,10)) == (18216, [9,7,8,5,6])\n",
    "assert chain_process_loop(data) == (79723, [2,3,1,0,4])\n",
    "assert chain_process_loop(data, range(5,10)) == (70602018 , [6,9,7,8,5])"
   ]
  },
  {
   "cell_type": "code",
   "execution_count": 4,
   "metadata": {},
   "outputs": [
    {
     "name": "stderr",
     "output_type": "stream",
     "text": [
      "answer a: 79723\n",
      "submitting for part b (part a is already completed)\n"
     ]
    },
    {
     "name": "stdout",
     "output_type": "stream",
     "text": [
      "aocd will not submit that answer again. You've previously guessed 79723 and the server responded:\n",
      "\u001b[31mThat's not the right answer; your answer is too low.  If you're stuck, make sure you're using the full input data; there are also some general tips on the about page, or you can ask for hints on the subreddit.  Please wait one minute before trying again. (You guessed 79723.) [Return to Day 7]\u001b[0m\n"
     ]
    }
   ],
   "source": [
    "# print(list(itertools.permutations(range(5))))\n",
    "aocd.submit(day=7, answer=chain_process_loop(data)[0])"
   ]
  },
  {
   "cell_type": "code",
   "execution_count": 5,
   "metadata": {},
   "outputs": [
    {
     "name": "stderr",
     "output_type": "stream",
     "text": [
      "answer a: 79723\n",
      "submitting for part b (part a is already completed)\n",
      "posting 70602018 to https://adventofcode.com/2019/day/7/answer (part b) token=...2749\n"
     ]
    },
    {
     "name": "stdout",
     "output_type": "stream",
     "text": [
      "\u001b[33mYou don't seem to be solving the right level.  Did you already complete it? [Return to Day 7]\u001b[0m\n"
     ]
    },
    {
     "data": {
      "text/plain": [
       "<Response [200]>"
      ]
     },
     "execution_count": 5,
     "metadata": {},
     "output_type": "execute_result"
    }
   ],
   "source": [
    "# print(list(itertools.permutations(range(5, 10))))\n",
    "aocd.submit(day=7, answer=chain_process_loop(data, range(5,10), False)[0])"
   ]
  }
 ],
 "metadata": {
  "kernelspec": {
   "display_name": "Python 3",
   "language": "python",
   "name": "python3"
  },
  "language_info": {
   "codemirror_mode": {
    "name": "ipython",
    "version": 3
   },
   "file_extension": ".py",
   "mimetype": "text/x-python",
   "name": "python",
   "nbconvert_exporter": "python",
   "pygments_lexer": "ipython3",
   "version": "3.8.0"
  }
 },
 "nbformat": 4,
 "nbformat_minor": 4
}
