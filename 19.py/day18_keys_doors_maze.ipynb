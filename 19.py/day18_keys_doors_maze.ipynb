{
 "cells": [
  {
   "cell_type": "code",
   "execution_count": 1,
   "metadata": {},
   "outputs": [
    {
     "name": "stderr",
     "output_type": "stream",
     "text": [
      "answer a: 5402\n",
      "submitting for part b (part a is already completed)\n"
     ]
    },
    {
     "name": "stdout",
     "output_type": "stream",
     "text": [
      "aocd will not submit that answer again. You've previously guessed 5402 and the server responded:\n",
      "\u001b[31mThat's not the right answer; your answer is too high.  If you're stuck, make sure you're using the full input data; there are also some general tips on the about page, or you can ask for hints on the subreddit.  Please wait one minute before trying again. (You guessed 5402.) [Return to Day 18]\u001b[0m\n"
     ]
    }
   ],
   "source": [
    "import numpy as np\n",
    "import networkx as nx\n",
    "import aocd\n",
    "from copy import copy\n",
    "from string import ascii_lowercase as keys\n",
    "from string import ascii_uppercase as doors\n",
    "from collections import defaultdict\n",
    "\n",
    "def create(d) -> nx.Graph:\n",
    "    if type(d) == str:  # support string and numpy input\n",
    "        d = np.array(list(map(list,d.split(\"\\n\"))))\n",
    "    g = nx.Graph()\n",
    "    for spos, src in np.ndenumerate(d):\n",
    "        for p in [[1,0], [-1,0], [0, 1], [0, -1]]:\n",
    "            dpos = tuple(np.array(spos)+p)\n",
    "            if dpos[0] in range(d.shape[0]) and dpos[1] in range(d.shape[1]):\n",
    "                dest = d[dpos]\n",
    "                if src != \"#\" and dest != \"#\":\n",
    "                    g.add_edge(spos, dpos, weight=1)\n",
    "                    if src in keys:    g.nodes[spos][\"key\"] = src\n",
    "                    elif src in doors: g.nodes[spos][\"door\"] = src.lower()\n",
    "                    g.nodes[spos][\"typ\"] = src\n",
    "    \n",
    "    # trim graph\n",
    "    for node in g.copy().nodes:\n",
    "        neigh = list(g.neighbors(node))\n",
    "        if len(neigh)==2 and g.nodes[node][\"typ\"] == \".\":\n",
    "            weight = sum([g.edges[(node, n)][\"weight\"] for n in neigh])\n",
    "            g.remove_node(node)\n",
    "            g.add_edge(*neigh, weight=weight)\n",
    "    \n",
    "    return g\n",
    "\n",
    "def bfs(data):\n",
    "    # init data\n",
    "    g = create(data)\n",
    "    startpos = [pos for pos, typ in nx.get_node_attributes(g, \"typ\").items() if typ==\"@\"][0]\n",
    "    pos_door = nx.get_node_attributes(g, \"door\")\n",
    "    pos_key =  nx.get_node_attributes(g, \"key\")\n",
    "    \n",
    "    # build dict (src) -> (dest, doors_in_way, keys_in_way)\n",
    "    key_dist = defaultdict(list)\n",
    "    for p1, k1 in list(pos_key.items())+[[startpos, \"@\"]]:\n",
    "        for p2, k2 in pos_key.items():\n",
    "            if k1 != k2:\n",
    "                # calculate shortest path between any points and if any any keys/doors are on the way\n",
    "                sp = nx.shortest_path(g, p1, p2, weight=\"weight\")\n",
    "                blocked_by = set(sp) & (set(pos_door))\n",
    "                blocked_by = set([pos_door[bb] for bb in blocked_by])\n",
    "                \n",
    "                blocking = set(sp) & set(pos_key) - set([p1,p2])\n",
    "                blocking = set([pos_key[bb] for bb in blocking])\n",
    "                \n",
    "                dist = nx.shortest_path_length(g, p1, p2, weight=\"weight\")\n",
    "                key_dist[k1].append([k2, dist, blocked_by, blocking])\n",
    "    \n",
    "    # assumption: we can't \"walk around doors\"\n",
    "    # and the shortest_path(shortest_path(keys)) is shorter \n",
    "    jobs = {(0, \"@\", frozenset())}\n",
    "    for _ in range(len(pos_key)):  # iterate bfs for number of keys, as we need that many steps\n",
    "        jobs = list(set(  # unique\n",
    "            [(steps+dist, target, keys_hold|set([target]))  # add new dist-target-visited tuples\n",
    "                for steps, start, keys_hold in jobs         # for all current start-tuples\n",
    "                    for target, dist, blocked_by, blocking in key_dist[start]  # for all target-tuples\n",
    "                        if target not in keys_hold          # if target is not already reached\n",
    "                        and not blocked_by - keys_hold      # not blocked by a door without a key\n",
    "                        and not blocking - keys_hold]))     # and not blocked by a key on the \n",
    "    return min([j[0] for j in jobs])\n",
    "\n",
    "assert bfs(\"\"\"#########\n",
    "#b.A.@.a#\n",
    "#########\"\"\")\n",
    "\n",
    "assert bfs(\"\"\"########################\n",
    "#@..............ac.GI.b#\n",
    "###d#e#f################\n",
    "###A#B#C################\n",
    "###g#h#i################\n",
    "########################\"\"\") == 81\n",
    "\n",
    "# part 1\n",
    "aocd.submit(bfs(aocd.get_data(day=18)), day=18)"
   ]
  },
  {
   "cell_type": "code",
   "execution_count": 2,
   "metadata": {},
   "outputs": [
    {
     "name": "stderr",
     "output_type": "stream",
     "text": [
      "answer a: 5402\n",
      "submitting for part b (part a is already completed)\n"
     ]
    },
    {
     "name": "stdout",
     "output_type": "stream",
     "text": [
      "aocd will not submit that answer again. You've previously guessed 5402 and the server responded:\n",
      "\u001b[31mThat's not the right answer; your answer is too high.  If you're stuck, make sure you're using the full input data; there are also some general tips on the about page, or you can ask for hints on the subreddit.  Please wait one minute before trying again. (You guessed 5402.) [Return to Day 18]\u001b[0m\n",
      "CPU times: user 8.53 s, sys: 66.5 ms, total: 8.6 s\n",
      "Wall time: 8.61 s\n"
     ]
    }
   ],
   "source": [
    "%%time\n",
    "# optimized variant with bitmasks and encoding that's 10x faster\n",
    "def encode(a):  # \"a\" = 2^0, @=2^27\n",
    "    if a == \"@\":       return 0\n",
    "    if type(a) == str: return 2**(ord(a)-ord(\"a\"))\n",
    "    else:              return sum([encode(aa) for aa in a])\n",
    "\n",
    "def bfs(data):\n",
    "    # init data\n",
    "    g = create(data)\n",
    "    startpos = [pos for pos, typ in nx.get_node_attributes(g, \"typ\").items() if typ==\"@\"][0]\n",
    "    pos_door = nx.get_node_attributes(g, \"door\")\n",
    "    pos_key =  nx.get_node_attributes(g, \"key\")\n",
    "    \n",
    "    # needed for part 2: just ignore doors that don't have keys in this sub-maze. doesn't affect part 1\n",
    "    for p, d in list(pos_door.items()):\n",
    "        if d not in pos_key.values():\n",
    "            pos_door.pop(p)\n",
    "    \n",
    "    # build dict (src) -> (dest, doors_in_way, keys_in_way)\n",
    "    key_dist = defaultdict(list)\n",
    "    for p1, k1 in list(pos_key.items())+[[startpos, \"@\"]]:\n",
    "        for p2, k2 in pos_key.items():\n",
    "            if k1 != k2:\n",
    "                # calculate shortest path between any points and if any any keys/doors are on the way\n",
    "                sp = nx.shortest_path(g, p1, p2, weight=\"weight\")\n",
    "                blocked_by = set(sp) & (set(pos_door))\n",
    "                blocked_by = set([pos_door[bb] for bb in blocked_by])\n",
    "                \n",
    "                blocking = set(sp) & set(pos_key) - set([p1,p2])\n",
    "                blocking = set([pos_key[bb] for bb in blocking])\n",
    "                \n",
    "                dist = nx.shortest_path_length(g, p1, p2, weight=\"weight\")\n",
    "                key_dist[encode(k1)].append([encode(k2), dist, encode(blocked_by), encode(blocking)])\n",
    "    \n",
    "    # assumption: we can't \"walk around doors\"\n",
    "    # and the shortest_path(shortest_path(keys)) is shorter \n",
    "    jobs = {(0, encode(\"@\"), 0)}\n",
    "    for _ in range(len(pos_key)):  # iterate bfs for number of keys, as we need that many steps\n",
    "        jobs = list(set(  # unique, deduplicate for performance\n",
    "            [(steps+dist, target, keys_hold|target)            # add new dist-target-visited tuples\n",
    "                for steps, start, keys_hold in jobs            # for all current start-tuples\n",
    "                    for target, dist, blocked_by, blocking in key_dist[start]  # for all target-tuples\n",
    "                        if  not target     &  keys_hold        # if target is not already reached\n",
    "                        and not blocked_by & ~keys_hold        # not blocked by a door without a key\n",
    "                        and not blocking   & ~keys_hold]))     # and not blocked by a key on the \n",
    "    return min([j[0] for j in jobs])\n",
    "\n",
    "assert bfs(\"\"\"#########\n",
    "#b.A.@.a#\n",
    "#########\"\"\")\n",
    "\n",
    "assert bfs(\"\"\"########################\n",
    "#@..............ac.GI.b#\n",
    "###d#e#f################\n",
    "###A#B#C################\n",
    "###g#h#i################\n",
    "########################\"\"\") == 81\n",
    "\n",
    "# part 1\n",
    "aocd.submit(bfs(aocd.get_data(day=18)), day=18)"
   ]
  },
  {
   "cell_type": "code",
   "execution_count": 3,
   "metadata": {},
   "outputs": [
    {
     "name": "stderr",
     "output_type": "stream",
     "text": [
      "answer a: 5402\n",
      "submitting for part b (part a is already completed)\n",
      "posting 2138 to https://adventofcode.com/2019/day/18/answer (part b) token=...2749\n"
     ]
    },
    {
     "name": "stdout",
     "output_type": "stream",
     "text": [
      "\u001b[33mYou don't seem to be solving the right level.  Did you already complete it? [Return to Day 18]\u001b[0m\n"
     ]
    },
    {
     "data": {
      "text/plain": [
       "<Response [200]>"
      ]
     },
     "execution_count": 3,
     "metadata": {},
     "output_type": "execute_result"
    }
   ],
   "source": [
    "# part 2 assumption: we can act as if all doors that don't have keys in this maze don't exist\n",
    "# as we can just use another robot and wait in this maze, as we can only move one at a time anyways\n",
    "data = aocd.get_data(day=18)\n",
    "d = np.array(list(map(list,data.split(\"\\n\"))))  # parse data\n",
    "center=np.where(d==\"@\")[0][0]  # square maze -> only the x-coord is enough\n",
    "# set the center to @#@ ### @#@\n",
    "d[center-1:center+2, center-1:center+2] = np.array([[\"@\", \"#\", \"@\"], [\"#\", \"#\", \"#\"], [\"@\", \"#\", \"@\"]])\n",
    "\n",
    "# create the 4 sub-mazes\n",
    "d1 = d[:center+1,:center+1]\n",
    "d2 = d[center:,:center+1]\n",
    "d3 = d[:center+1,center:]\n",
    "d4 = d[center:,center:]\n",
    "\n",
    "# sum of sub-mazes = sum of steps\n",
    "res = sum(map(bfs, [d1,d2,d3,d4]))\n",
    "aocd.submit(res, day=18)"
   ]
  }
 ],
 "metadata": {
  "kernelspec": {
   "display_name": "Python 3",
   "language": "python",
   "name": "python3"
  },
  "language_info": {
   "codemirror_mode": {
    "name": "ipython",
    "version": 3
   },
   "file_extension": ".py",
   "mimetype": "text/x-python",
   "name": "python",
   "nbconvert_exporter": "python",
   "pygments_lexer": "ipython3",
   "version": "3.8.0"
  }
 },
 "nbformat": 4,
 "nbformat_minor": 2
}
