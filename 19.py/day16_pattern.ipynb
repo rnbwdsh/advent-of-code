{
 "cells": [
  {
   "cell_type": "code",
   "execution_count": 1,
   "metadata": {},
   "outputs": [
    {
     "data": {
      "text/html": [
       "<div>\n",
       "<style scoped>\n",
       "    .dataframe tbody tr th:only-of-type {\n",
       "        vertical-align: middle;\n",
       "    }\n",
       "\n",
       "    .dataframe tbody tr th {\n",
       "        vertical-align: top;\n",
       "    }\n",
       "\n",
       "    .dataframe thead th {\n",
       "        text-align: right;\n",
       "    }\n",
       "</style>\n",
       "<table border=\"1\" class=\"dataframe\">\n",
       "  <thead>\n",
       "    <tr style=\"text-align: right;\">\n",
       "      <th></th>\n",
       "      <th>0</th>\n",
       "      <th>1</th>\n",
       "      <th>2</th>\n",
       "      <th>3</th>\n",
       "      <th>4</th>\n",
       "      <th>5</th>\n",
       "      <th>6</th>\n",
       "      <th>7</th>\n",
       "      <th>8</th>\n",
       "      <th>9</th>\n",
       "      <th>...</th>\n",
       "      <th>640</th>\n",
       "      <th>641</th>\n",
       "      <th>642</th>\n",
       "      <th>643</th>\n",
       "      <th>644</th>\n",
       "      <th>645</th>\n",
       "      <th>646</th>\n",
       "      <th>647</th>\n",
       "      <th>648</th>\n",
       "      <th>649</th>\n",
       "    </tr>\n",
       "  </thead>\n",
       "  <tbody>\n",
       "    <tr>\n",
       "      <th>0</th>\n",
       "      <td>5</td>\n",
       "      <td>9</td>\n",
       "      <td>7</td>\n",
       "      <td>2</td>\n",
       "      <td>3</td>\n",
       "      <td>5</td>\n",
       "      <td>1</td>\n",
       "      <td>7</td>\n",
       "      <td>8</td>\n",
       "      <td>9</td>\n",
       "      <td>...</td>\n",
       "      <td>3</td>\n",
       "      <td>0</td>\n",
       "      <td>8</td>\n",
       "      <td>5</td>\n",
       "      <td>6</td>\n",
       "      <td>3</td>\n",
       "      <td>4</td>\n",
       "      <td>0</td>\n",
       "      <td>8</td>\n",
       "      <td>4</td>\n",
       "    </tr>\n",
       "  </tbody>\n",
       "</table>\n",
       "<p>1 rows × 650 columns</p>\n",
       "</div>"
      ],
      "text/plain": [
       "   0    1    2    3    4    5    6    7    8    9    ...  640  641  642  643  \\\n",
       "0    5    9    7    2    3    5    1    7    8    9  ...    3    0    8    5   \n",
       "\n",
       "   644  645  646  647  648  649  \n",
       "0    6    3    4    0    8    4  \n",
       "\n",
       "[1 rows x 650 columns]"
      ]
     },
     "execution_count": 1,
     "metadata": {},
     "output_type": "execute_result"
    }
   ],
   "source": [
    "import aocd\n",
    "import pandas as pd\n",
    "import numpy as np\n",
    "\n",
    "parse = lambda data: [int(i) for i in data]\n",
    "data = parse(aocd.get_data(day=16))\n",
    "pd.DataFrame(data).T # debug statement"
   ]
  },
  {
   "cell_type": "code",
   "execution_count": 2,
   "metadata": {},
   "outputs": [
    {
     "name": "stderr",
     "output_type": "stream",
     "text": [
      "answer a: 17978331\n",
      "submitting for part b (part a is already completed)\n"
     ]
    },
    {
     "name": "stdout",
     "output_type": "stream",
     "text": [
      "aocd will not submit that answer again. You've previously guessed 17978331 and the server responded:\n",
      "\u001b[31mThat's not the right answer; your answer is too low.  If you're stuck, make sure you're using the full input data; there are also some general tips on the about page, or you can ask for hints on the subreddit.  Please wait one minute before trying again. (You guessed 17978331.) [Return to Day 16]\u001b[0m\n"
     ]
    }
   ],
   "source": [
    "def prepare_mul(n):\n",
    "    mul = np.zeros((n, n), dtype=int)\n",
    "    for i in range(n):\n",
    "        row = np.repeat([0,1,0,-1], i+1)  # repeat each number i times\n",
    "        row = np.tile(row, 1+n//len(row)) # then repeat the row until len(row) >= len(data)\n",
    "        mul[i] = row[1:n+1]               # take offset 1, then trim to same length\n",
    "    return mul\n",
    "\n",
    "def process(data, phase=100):\n",
    "    mul = prepare_mul(len(data)) # prepare multiplication matrix\n",
    "    for _ in range(phase):       # run loop\n",
    "        data = abs(mul@data)%10  # multiply every row of data with every row of mul, then take each sum as a row\n",
    "    return \"\".join([str(i) for i in data[:8]])  # take first 8 as str\n",
    "    \n",
    "assert process(parse(\"12345678\"), phase=4) == \"01029498\"\n",
    "assert process(parse(\"80871224585914546619083218645595\")) == \"24176176\"\n",
    "aocd.submit(day=16, answer=process(parse(data)))"
   ]
  },
  {
   "cell_type": "code",
   "execution_count": 3,
   "metadata": {},
   "outputs": [
    {
     "name": "stderr",
     "output_type": "stream",
     "text": [
      "answer a: 17978331\n",
      "submitting for part b (part a is already completed)\n",
      "posting '19422575' to https://adventofcode.com/2019/day/16/answer (part b) token=...2749\n"
     ]
    },
    {
     "name": "stdout",
     "output_type": "stream",
     "text": [
      "\u001b[33mYou don't seem to be solving the right level.  Did you already complete it? [Return to Day 16]\u001b[0m\n"
     ]
    },
    {
     "data": {
      "text/plain": [
       "<Response [200]>"
      ]
     },
     "execution_count": 3,
     "metadata": {},
     "output_type": "execute_result"
    }
   ],
   "source": [
    "def process(data, phase=100):\n",
    "    data = np.array(data*10000, dtype=int)\n",
    "    offset = int(\"\".join([str(i) for i in data[:7]])) % len(data)\n",
    "    for i in range(100):\n",
    "        data = data[::-1].cumsum()[::-1] % 10      # calculate cumsum from back to front\n",
    "    # this works because newdata[-1] = data[-1]; data[-2] = data[-2]+newdata[-1]\n",
    "    # because repeat(0,1,0,-1) for high i produces a diagonal matrix\n",
    "    return \"\".join(data[offset:offset+8].astype(str))  # take 8 at offset as str\n",
    "\n",
    "assert process(parse(\"03036732577212944063491565474664\")) == \"84462026\"\n",
    "aocd.submit(day=16, answer=process(parse(data)))"
   ]
  }
 ],
 "metadata": {
  "kernelspec": {
   "display_name": "Python 3",
   "language": "python",
   "name": "python3"
  },
  "language_info": {
   "codemirror_mode": {
    "name": "ipython",
    "version": 3
   },
   "file_extension": ".py",
   "mimetype": "text/x-python",
   "name": "python",
   "nbconvert_exporter": "python",
   "pygments_lexer": "ipython3",
   "version": "3.8.0"
  }
 },
 "nbformat": 4,
 "nbformat_minor": 2
}
