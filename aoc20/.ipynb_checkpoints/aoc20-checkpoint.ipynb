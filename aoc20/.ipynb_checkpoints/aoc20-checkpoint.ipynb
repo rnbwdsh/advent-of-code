{
 "cells": [
  {
   "cell_type": "code",
   "execution_count": 1,
   "metadata": {},
   "outputs": [],
   "source": [
    "import itertools\n",
    "import re\n",
    "import math\n",
    "\n",
    "from functools import lru_cache\n",
    "from collections import Counter, defaultdict\n",
    "\n",
    "import numpy as np\n",
    "import networkx as nx\n",
    "\n",
    "from aocd import submit, get_data\n",
    "\n",
    "def str2intList(s, sep=\"\\n\"):  # str2intList(\"2\\n3\") -> [2,3]\n",
    "    return [int(x) if x.isdigit() else None\n",
    "            for x in s.strip().split(sep)]\n",
    "\n",
    "def imag2tup(i: complex) -> tuple: # 1+2j -> (1, 2)\n",
    "    return (int(i.real), int(i.imag))\n",
    "\n",
    "def tup2imag(t: tuple) -> complex:\n",
    "    return t[0] + t[1] * 1j\n",
    "\n",
    "def level(method):\n",
    "    def annotation(day, quiet=True, print_res=True, do_example=True):\n",
    "        def solver(solve):\n",
    "            part = 'ab'[method]\n",
    "            if(testdata[day] and do_example):\n",
    "                if type(testdata[day]) == list:\n",
    "                    esol = solve(testdata[day][method], method=method)\n",
    "                else:\n",
    "                    esol = solve(testdata[day], method=method)\n",
    "                if print_res:\n",
    "                    print(f\"Ex. {day}{part}\", esol, sep=\"\\t\")\n",
    "            sol = solve(get_data(day=day), method=method)\n",
    "            if print_res:\n",
    "                print(f\"Lvl {day}{part}\", sol, sep=\"\\t\")\n",
    "            submit(sol, part, day=day, quiet=quiet)\n",
    "            return solve # return the original function, so you can put another annotation on it\n",
    "        return solver\n",
    "    return annotation\n",
    "\n",
    "level_a, level_b = level(0), level(1)\n",
    "def level_ab(lvl):\n",
    "    def solver(solve):\n",
    "        level_a(lvl)(solve)\n",
    "        level_b(lvl)(solve)\n",
    "    return solver\n",
    "\n",
    "testdata = ['',\n",
    "'1721\\n979\\n366\\n299\\n675\\n1456',\n",
    "'1-3 a: abcde\\n1-3 b: cdefg\\n2-9 c: ccccccccc',\n",
    "'..##.......\\n#...#...#..\\n.#....#..#.\\n..#.#...#.#\\n.#...##..#.\\n..#.##.....\\n.#.#.#....#\\n.#........#\\n#.##...#...\\n#...##....#\\n.#..#...#.#',\n",
    "'ecl:gry pid:860033327 eyr:2020 hcl:#fffffd\\nbyr:1937 iyr:2017 cid:147 hgt:183cm\\n\\niyr:2013 ecl:amb cid:350 eyr:2023 pid:028048884\\nhcl:#cfa07d byr:1929\\n\\nhcl:#ae17e1 iyr:2013\\neyr:2024\\necl:brn pid:760753108 byr:1931\\nhgt:179cm\\n\\nhcl:#cfa07d eyr:2025 pid:166559648\\niyr:2011 ecl:brn hgt:59in\\neyr:1972 cid:100\\nhcl:#18171d ecl:amb hgt:170 pid:186cm iyr:2018 byr:1926\\n\\niyr:2019\\nhcl:#602927 eyr:1967 hgt:170cm\\necl:grn pid:012533040 byr:1946\\n\\nhcl:dab227 iyr:2012\\necl:brn hgt:182cm pid:021572410 eyr:2020 byr:1992 cid:277\\n\\nhgt:59cm ecl:zzz\\neyr:2038 hcl:74454a iyr:2023\\npid:3556412378 byr:2007\\npid:087499704 hgt:74in ecl:grn iyr:2012 eyr:2030 byr:1980\\nhcl:#623a2f\\n\\neyr:2029 ecl:blu cid:129 byr:1989\\niyr:2014 pid:896056539 hcl:#a97842 hgt:165cm\\n\\nhcl:#888785\\nhgt:164cm byr:2001 iyr:2015 cid:88\\npid:545766238 ecl:hzl\\neyr:2022\\n\\niyr:2010 hgt:158cm hcl:#b6652a ecl:blu byr:1944 eyr:2021 pid:093154719',\n",
    "'FBFBBFFRLR',\n",
    "'abc\\n\\na\\nb\\nc\\n\\nab\\nac\\n\\na\\na\\na\\na\\n\\nb',\n",
    "'light red bags contain 1 bright white bag, 2 muted yellow bags.\\ndark orange bags contain 3 bright white bags, 4 muted yellow bags.\\nbright white bags contain 1 shiny gold bag.\\nmuted yellow bags contain 2 shiny gold bags, 9 faded blue bags.\\nshiny gold bags contain 1 dark olive bag, 2 vibrant plum bags.\\ndark olive bags contain 3 faded blue bags, 4 dotted black bags.\\nvibrant plum bags contain 5 faded blue bags, 6 dotted black bags.\\nfaded blue bags contain no other bags.\\ndotted black bags contain no other bags.',\n",
    "'nop +0\\nacc +1\\njmp +4\\nacc +3\\njmp -3\\nacc -99\\nacc +1\\njmp -4\\nacc +6',\n",
    "'35\\n20\\n15\\n25\\n47\\n40\\n62\\n55\\n65\\n95\\n102\\n117\\n150\\n182\\n127\\n219\\n299\\n277\\n309\\n576',\n",
    "'16\\n10\\n15\\n5\\n1\\n11\\n7\\n19\\n6\\n12\\n4', \n",
    "'L.LL.LL.LL\\nLLLLLLL.LL\\nL.L.L..L..\\nLLLL.LL.LL\\nL.LL.LL.LL\\nL.LLLLL.LL\\n..L.L.....\\nLLLLLLLLLL\\nL.LLLLLL.L\\nL.LLLLL.LL',\n",
    "'F10\\nN3\\nF7\\nR90\\nF11', \n",
    "'939\\n7,13,x,x,59,x,31,19',\n",
    "['mask = XXXXXXXXXXXXXXXXXXXXXXXXXXXXX1XXXX0X\\nmem[8] = 11\\nmem[7] = 101\\nmem[8] = 0',\n",
    "'mask = 000000000000000000000000000000X1001X\\nmem[42] = 100\\nmask = 00000000000000000000000000000000X0XX\\nmem[26] = 1'], \n",
    "'0,3,6',\n",
    "['class: 1-3 or 5-7\\nrow: 6-11 or 33-44\\nseat: 13-40 or 45-50\\n\\nyour ticket:\\n7,1,14\\n\\nnearby tickets:\\n7,3,47\\n40,4,50\\n55,2,20\\n38,6,12',\n",
    "'class: 0-1 or 4-19\\nrow: 0-5 or 8-19\\nseat: 0-13 or 16-19\\n\\nyour ticket:\\n11,12,13\\n\\nnearby tickets:\\n3,9,18\\n15,1,5\\n5,14,9'],\n",
    "'.#.\\n..#\\n###', \n",
    "'1 + 2 * 3 + 4 * 5 + 6', \n",
    "['0: 4 1 5\\n1: 2 3 | 3 2\\n2: 4 4 | 5 5\\n3: 4 5 | 5 4\\n4: \"a\"\\n5: \"b\"\\n\\nababbb\\nbababa\\nabbbab\\naaabbb\\naaaabbb',\n",
    " '42: 9 14 | 10 1\\n9: 14 27 | 1 26\\n10: 23 14 | 28 1\\n1: \"a\"\\n11: 42 31\\n5: 1 14 | 15 1\\n19: 14 1 | 14 14\\n12: 24 14 | 19 1\\n16: 15 1 | 14 14\\n31: 14 17 | 1 13\\n6: 14 14 | 1 14\\n2: 1 24 | 14 4\\n0: 8 11\\n13: 14 3 | 1 12\\n15: 1 | 14\\n17: 14 2 | 1 7\\n23: 25 1 | 22 14\\n28: 16 1\\n4: 1 1\\n20: 14 14 | 1 15\\n3: 5 14 | 16 1\\n27: 1 6 | 14 18\\n14: \"b\"\\n21: 14 1 | 1 14\\n25: 1 1 | 1 14\\n22: 14 14\\n8: 42\\n26: 14 22 | 1 20\\n18: 15 15\\n7: 14 5 | 1 21\\n24: 14 1\\n\\nabbbbbabbbaaaababbaabbbbabababbbabbbbbbabaaaa\\nbbabbbbaabaabba\\nbabbbbaabbbbbabbbbbbaabaaabaaa\\naaabbbbbbaaaabaababaabababbabaaabbababababaaa\\nbbbbbbbaaaabbbbaaabbabaaa\\nbbbababbbbaaaaaaaabbababaaababaabab\\nababaaaaaabaaab\\nababaaaaabbbaba\\nbaabbaaaabbaaaababbaababb\\nabbbbabbbbaaaababbbbbbaaaababb\\naaaaabbaabaaaaababaa\\naaaabbaaaabbaaa\\naaaabbaabbaaaaaaabbbabbbaaabbaabaaa\\nbabaaabbbaaabaababbaabababaaab\\naabbbbbaabbbaaaaaabbbbbababaaaaabbaaabba'],\n",
    "'Tile 2311:\\n..##.#..#.\\n##..#.....\\n#...##..#.\\n####.#...#\\n##.##.###.\\n##...#.###\\n.#.#.#..##\\n..#....#..\\n###...#.#.\\n..###..###\\n\\nTile 1951:\\n#.##...##.\\n#.####...#\\n.....#..##\\n#...######\\n.##.#....#\\n.###.#####\\n###.##.##.\\n.###....#.\\n..#.#..#.#\\n#...##.#..\\n\\nTile 1171:\\n####...##.\\n#..##.#..#\\n##.#..#.#.\\n.###.####.\\n..###.####\\n.##....##.\\n.#...####.\\n#.##.####.\\n####..#...\\n.....##...\\n\\nTile 1427:\\n###.##.#..\\n.#..#.##..\\n.#.##.#..#\\n#.#.#.##.#\\n....#...##\\n...##..##.\\n...#.#####\\n.#.####.#.\\n..#..###.#\\n..##.#..#.\\n\\nTile 1489:\\n##.#.#....\\n..##...#..\\n.##..##...\\n..#...#...\\n#####...#.\\n#..#.#.#.#\\n...#.#.#..\\n##.#...##.\\n..##.##.##\\n###.##.#..\\n\\nTile 2473:\\n#....####.\\n#..#.##...\\n#.##..#...\\n######.#.#\\n.#...#.#.#\\n.#########\\n.###.#..#.\\n########.#\\n##...##.#.\\n..###.#.#.\\n\\nTile 2971:\\n..#.#....#\\n#...###...\\n#.#.###...\\n##.##..#..\\n.#####..##\\n.#..####.#\\n#..#.#..#.\\n..####.###\\n..#.#.###.\\n...#.#.#.#\\n\\nTile 2729:\\n...#.#.#.#\\n####.#....\\n..#.#.....\\n....#..#.#\\n.##..##.#.\\n.#.####...\\n####.#.#..\\n##.####...\\n##..#.##..\\n#.##...##.\\n\\nTile 3079:\\n#.#.#####.\\n.#..######\\n..#.......\\n######....\\n####.#..#.\\n.#...#.##.\\n#.#####.##\\n..#.###...\\n..#.......\\n..#.###...', \n",
    "'mxmxvkd kfcds sqjhc nhms (contains dairy, fish)\\ntrh fvjkl sbzzf mxmxvkd (contains dairy)\\nsqjhc fvjkl (contains soy)\\nsqjhc mxmxvkd sbzzf (contains fish)',\n",
    "'Player 1:\\n9\\n2\\n6\\n3\\n1\\n\\nPlayer 2:\\n5\\n8\\n4\\n7\\n10', \n",
    "'389125467', \n",
    "'sesenwnenenewseeswwswswwnenewsewsw\\nneeenesenwnwwswnenewnwwsewnenwseswesw\\nseswneswswsenwwnwse\\nnwnwneseeswswnenewneswwnewseswneseene\\nswweswneswnenwsewnwneneseenw\\neesenwseswswnenwswnwnwsewwnwsene\\nsewnenenenesenwsewnenwwwse\\nwenwwweseeeweswwwnwwe\\nwsweesenenewnwwnwsenewsenwwsesesenwne\\nneeswseenwwswnwswswnw\\nnenwswwsewswnenenewsenwsenwnesesenew\\nenewnwewneswsewnwswenweswnenwsenwsw\\nsweneswneswneneenwnewenewwneswswnese\\nswwesenesewenwneswnwwneseswwne\\nenesenwswwswneneswsenwnewswseenwsese\\nwnwnesenesenenwwnenwsewesewsesesew\\nnenewswnwewswnenesenwnesewesw\\neneswnwswnwsenenwnwnwwseeswneewsenese\\nneswnwewnwnwseenwseesewsenwsweewe\\nwseweeenwnesenwwwswnew', \n",
    "'', '', '', '', '', '', '', '', '', '', '', '', '', '', '', '', '', '', '', '', '', '', '', '', '', '', ];"
   ]
  },
  {
   "cell_type": "code",
   "execution_count": 2,
   "metadata": {},
   "outputs": [
    {
     "name": "stdout",
     "output_type": "stream",
     "text": [
      "Ex. 1a\t514579\n",
      "Lvl 1a\t996996\n",
      "Ex. 1b\t241861950\n",
      "Lvl 1b\t9210402\n"
     ]
    }
   ],
   "source": [
    "@level_ab(1)\n",
    "def solve(data, method=0):\n",
    "    data = sorted(str2intList(data))\n",
    "    for line in itertools.product(data, repeat=method+2):\n",
    "        if np.sum(line) == 2020:\n",
    "            return np.prod(line)"
   ]
  },
  {
   "cell_type": "code",
   "execution_count": 3,
   "metadata": {},
   "outputs": [
    {
     "name": "stdout",
     "output_type": "stream",
     "text": [
      "Ex. 2a\t2\n",
      "Lvl 2a\t519\n",
      "Ex. 2b\t1\n",
      "Lvl 2b\t708\n"
     ]
    }
   ],
   "source": [
    "@level_ab(2)\n",
    "def solve(data, method):\n",
    "    cnt = 0\n",
    "    for line in data.split(\"\\n\"):\n",
    "        nr, letter, pw = line.split(\" \")\n",
    "        letter = letter[0]\n",
    "        start, end = map(int, nr.split(\"-\"))\n",
    "        if method == 0: cnt += pw.count(letter[0]) in range(int(start), int(end)+1)\n",
    "        else:           cnt += (pw[start-1]+pw[end-1]).count(letter) == 1\n",
    "    return cnt"
   ]
  },
  {
   "cell_type": "code",
   "execution_count": 4,
   "metadata": {},
   "outputs": [
    {
     "name": "stdout",
     "output_type": "stream",
     "text": [
      "Ex. 3a\t7\n",
      "Lvl 3a\t214\n",
      "Ex. 3b\t336\n",
      "Lvl 3b\t8336352024\n"
     ]
    }
   ],
   "source": [
    "@level_ab(3)\n",
    "def solve(data, method=0):\n",
    "    def sol(data, mov):\n",
    "        d = np.array(list(map(list, data.split(\"\\n\")))) == '#'\n",
    "        pos = cnt = x = 0\n",
    "        while True:\n",
    "            pos += mov\n",
    "            x, y = imag2tup(pos)\n",
    "            if x >= d.shape[0]:\n",
    "                return cnt\n",
    "            cnt += d[x, y % d.shape[1]]\n",
    "    \n",
    "    if method: return np.prod([sol(data, mov=mov) for mov in [1+1j, 1+3j, 1+5j, 1+7j, 2+1j]])\n",
    "    else:      return sol(data, mov=1+3j)"
   ]
  },
  {
   "cell_type": "code",
   "execution_count": 5,
   "metadata": {},
   "outputs": [
    {
     "name": "stdout",
     "output_type": "stream",
     "text": [
      "Ex. 4a\t4\n",
      "Lvl 4a\t125\n",
      "Ex. 4b\t6\n",
      "Lvl 4b\t116\n"
     ]
    }
   ],
   "source": [
    "@level_ab(4)\n",
    "def solve(data, method=0):\n",
    "    ctr = 0\n",
    "    ALLOWED_DICT = {\n",
    "    \"byr\": lambda a: int(a) in range(1920, 2003), # (Birth Year) - four digits; at least 1920 and at most 2002.\n",
    "    \"iyr\": lambda a: int(a) in range(2010, 2021), # (Issue Year) - four digits; at least 2010 and at most 2020.\n",
    "    \"eyr\": lambda a: int(a) in range(2020, 2031), # (Expiration Year) - four digits; at least 2020 and at most 2030.\n",
    "    \"hgt\": lambda a: (len(a) > 2) and (a[-2:] == \"cm\" and int(a[:-2]) in range(150, 194)) \n",
    "        or (a[-2:] == \"in\" and int(a[:-2]) in range(59, 77)), #(Height) - a number followed by either cm or in:        If cm, the number must be at least 150 and at most 193.        If in, the number must be at least 59 and at most 76.\n",
    "    \"hcl\": lambda a: len(a) == 7 and a[0] == \"#\" and set(a[1:]).issubset(set(\"0123456789abcdef\")), # (Hair Color) - a # followed by exactly six characters 0-9 or a-f.\n",
    "    \"ecl\": lambda a: a in [\"amb\", \"blu\", \"brn\", \"gry\", \"grn\", \"hzl\", \"oth\"], # (Eye Color) - exactly one of: amb blu brn gry grn hzl oth.\n",
    "    \"pid\": lambda a: len(a) == 9 and set(a).issubset(set(\"0123456789\")), # (Passport ID) - a nine-digit number, including leading zeroes.\n",
    "    }\n",
    "    for line in data.split(\"\\n\\n\"):\n",
    "        ut = dict([token.split(\":\") for token in re.split(\"[ \\n]+\", line)])\n",
    "        if method: # part b\n",
    "            stats = [k in ut and v(ut[k]) for k, v in ALLOWED_DICT.items()]\n",
    "            ctr += all(stats)\n",
    "        else: # part a\n",
    "            ctr += set(ut).issubset(set(ALLOWED_DICT))\n",
    "    return ctr"
   ]
  },
  {
   "cell_type": "code",
   "execution_count": 6,
   "metadata": {},
   "outputs": [
    {
     "name": "stdout",
     "output_type": "stream",
     "text": [
      "Ex. 5a\tNone\n",
      "Lvl 5a\t801\n",
      "Ex. 5b\tNone\n",
      "Lvl 5b\t597\n"
     ]
    }
   ],
   "source": [
    "@level_ab(5)\n",
    "def solve(data, method):\n",
    "    data = data.replace(\"F\", \"0\").replace(\"B\", \"1\").replace(\"L\", \"0\").replace(\"R\", \"1\")\n",
    "    data = [int(d, 2) for d in data.split(\"\\n\")]\n",
    "    if len(data) <= 1: return\n",
    "    elif method:       return (set(range(min(data), max(data))) - set(data)).pop()\n",
    "    else:              return max(data)"
   ]
  },
  {
   "cell_type": "code",
   "execution_count": 7,
   "metadata": {},
   "outputs": [
    {
     "name": "stdout",
     "output_type": "stream",
     "text": [
      "Ex. 6a\t11\n",
      "Lvl 6a\t6416\n",
      "Ex. 6b\t6\n",
      "Lvl 6b\t3050\n"
     ]
    }
   ],
   "source": [
    "@level_ab(6)\n",
    "def solve(data, method=0):\n",
    "    cnt = 0\n",
    "    for section in data.split(\"\\n\\n\"):\n",
    "        nr_lines = section.count(\"\\n\") + 1\n",
    "        if method: cnt += sum([lcnt == nr_lines and l != \"\\n\" for l, lcnt in Counter(section).items()])\n",
    "        else:      cnt += len(set(section).difference({\"\\n\"}))\n",
    "    return cnt"
   ]
  },
  {
   "cell_type": "code",
   "execution_count": 8,
   "metadata": {},
   "outputs": [
    {
     "name": "stdout",
     "output_type": "stream",
     "text": [
      "Ex. 7a\t4\n",
      "Lvl 7a\t252\n",
      "Ex. 7b\t32\n",
      "Lvl 7b\t35487\n"
     ]
    }
   ],
   "source": [
    "@level_ab(7)\n",
    "def solve(data, method=0):\n",
    "    def dfs(G, start, factor):\n",
    "        return sum([dfs(G, follower, factor * val[\"cnt\"]) + factor * val[\"cnt\"] \n",
    "                    for follower, val in G[start].items()])\n",
    "\n",
    "    G = nx.DiGraph()\n",
    "    for line in data.split(\"\\n\"):\n",
    "        line = re.sub(\"(bags?)\", \"\", line)\n",
    "        containing, contained = line[:-2].split(\"  contain \")\n",
    "        if not \"no other\" in contained:\n",
    "            for contain in contained.split(\" , \"):\n",
    "                cspl = contain.split(\" \")\n",
    "                cnt = int(cspl[0]) if len(cspl) == 3 else 1\n",
    "                contain = \" \".join(cspl[-2:])\n",
    "                G.add_edge(containing, contain, cnt=cnt)\n",
    "    if method: return dfs(G, \"shiny gold\", 1)\n",
    "    else:      return len(nx.algorithms.dag.ancestors(G, \"shiny gold\"))        "
   ]
  },
  {
   "cell_type": "code",
   "execution_count": 9,
   "metadata": {},
   "outputs": [
    {
     "name": "stdout",
     "output_type": "stream",
     "text": [
      "Ex. 8a\t5\n",
      "Lvl 8a\t1614\n",
      "Ex. 8b\t8\n",
      "Lvl 8b\t1260\n"
     ]
    }
   ],
   "source": [
    "@level_ab(8)\n",
    "def solve(data, method=0):\n",
    "    def interpret(lines):\n",
    "        seen = set()\n",
    "        acc = ptr = 0\n",
    "        for icnt in range(10000):\n",
    "            if (ptr in seen and method==0) or ptr >= len(lines): return acc\n",
    "            \n",
    "            instr, arg = lines[ptr]\n",
    "            if instr==\"acc\":   acc+=int(arg)\n",
    "            elif instr==\"jmp\": ptr+=int(arg)-1\n",
    "                \n",
    "            seen.add(ptr)\n",
    "            ptr+=1\n",
    "        return False\n",
    "            \n",
    "    lines = [line.split(\" \") for line in data.split(\"\\n\")]\n",
    "    if method:\n",
    "        for i in range(len(lines)):\n",
    "            lc = [l[:] for l in lines]\n",
    "            swap = {\"nop\": \"jmp\", \"jmp\": \"nop\", \"acc\": \"acc\"}\n",
    "            lc[i][0] = swap[lc[i][0]]\n",
    "            if lc[i][0] != \"acc\":\n",
    "                res = interpret(lc)\n",
    "                if res is not False:\n",
    "                    return res\n",
    "    return interpret(lines)"
   ]
  },
  {
   "cell_type": "code",
   "execution_count": 10,
   "metadata": {},
   "outputs": [
    {
     "name": "stdout",
     "output_type": "stream",
     "text": [
      "Ex. 9a\t127\n",
      "Lvl 9a\t26134589\n",
      "Ex. 9b\t62\n",
      "Lvl 9b\t3535124\n"
     ]
    }
   ],
   "source": [
    "@level_ab(9)\n",
    "def solve(data, method=0):\n",
    "    d = str2intList(data)\n",
    "    preamble_len = 5 if len(d) == 20 else 25 # if test-set, we have shorter preamble\n",
    "    for i in range(preamble_len, len(d)):\n",
    "        if d[i] not in {sum(tup) for tup in itertools.permutations(d[i-preamble_len:i], 2)}:\n",
    "            if method:\n",
    "                number_to_find = d[i]\n",
    "                break\n",
    "            return d[i] # method 0 returns here\n",
    "    for i in range(len(d)):\n",
    "        for lookback in range(i+1):\n",
    "            sub_array = d[i-lookback:i]\n",
    "            if sum(sub_array) == number_to_find:\n",
    "                return min(sub_array) + max(sub_array)"
   ]
  },
  {
   "cell_type": "code",
   "execution_count": 11,
   "metadata": {},
   "outputs": [
    {
     "name": "stdout",
     "output_type": "stream",
     "text": [
      "Ex. 10a\t35\n",
      "Lvl 10a\t2030\n",
      "Ex. 10b\t8\n",
      "Lvl 10b\t42313823813632\n"
     ]
    }
   ],
   "source": [
    "@lru_cache\n",
    "def dfs(g, u, t):\n",
    "    return u==t or sum(dfs(g, c, t) for c in range(u+1, u+4) if c in g)\n",
    "\n",
    "@level_ab(10)\n",
    "def solve(data, method=0):\n",
    "    data = [0]+sorted(str2intList(data))\n",
    "    data += [max(data)+3]\n",
    "    if method:\n",
    "        return dfs(tuple(data), 0, max(data))\n",
    "    else:\n",
    "        cd = Counter(np.diff(data))\n",
    "        return cd[1]*cd[3]"
   ]
  },
  {
   "cell_type": "code",
   "execution_count": 12,
   "metadata": {},
   "outputs": [
    {
     "name": "stdout",
     "output_type": "stream",
     "text": [
      "Ex. 11a\t37\n",
      "Lvl 11a\t2483\n",
      "Ex. 11b\t26\n",
      "Lvl 11b\t2283\n"
     ]
    }
   ],
   "source": [
    "from numba import njit\n",
    "FLOOR, EMPTY, OCCUPIED = [0, 1, 2]\n",
    "DIRECTIONS = ((-1, -1), (-1, 0), (-1, 1), (0, -1), (0, 1), (1, -1), (1, 0), (1, 1))\n",
    "\n",
    "@njit()\n",
    "def neighbors(dc, i, j, dist):\n",
    "    im, jm = dc.shape\n",
    "    cnt = 0\n",
    "    for ip, jp in DIRECTIONS:\n",
    "        for d in range(1, dist):\n",
    "            ipos, jpos = i+ ip * d, j + jp * d\n",
    "            if 0 <= ipos < im and 0 <= jpos < jm:\n",
    "                if (dcp := dc[ipos][jpos]) == EMPTY: break\n",
    "                elif dcp == OCCUPIED: cnt += 1; break\n",
    "            else: break\n",
    "    return cnt\n",
    "\n",
    "@njit()\n",
    "def solve10(data, method):\n",
    "    im, jm = data.shape\n",
    "    dc = np.zeros_like(data, dtype=data.dtype)\n",
    "    while not (dc == data).all():\n",
    "        dc, data = data, dc  # swap without extra allocations\n",
    "        for i in range(im):\n",
    "            for j in range(jm):\n",
    "                if (curr := dc[i][j]) != FLOOR:\n",
    "                    neigh = neighbors(dc, i, j, 11 if method else 2)\n",
    "                    if curr == OCCUPIED and neigh >= 4 + method: curr = EMPTY\n",
    "                    elif curr == EMPTY and not neigh:            curr = OCCUPIED\n",
    "                    data[i][j] = curr\n",
    "    return (dc == OCCUPIED).sum()\n",
    "\n",
    "@level_ab(11)\n",
    "def solve(data, method=0): # numba can't optimize parsing, so we'll do it non-jitted\n",
    "    data = np.array([[\".L#\".index(line[i]) for i in range(len(line))] for line in data.split(\"\\n\")])\n",
    "    return solve10(data, method)"
   ]
  },
  {
   "cell_type": "raw",
   "metadata": {},
   "source": [
    "%%timeit\n",
    "# to benchmark, enable this cell (same cell would include compile-time), speedup is 1s vs 17.7s\n",
    "@level_b(11, print_res=False)\n",
    "@level_a(11, print_res=False)\n",
    "def _f(data, method): return solve(data, method)"
   ]
  },
  {
   "cell_type": "code",
   "execution_count": 13,
   "metadata": {},
   "outputs": [
    {
     "name": "stdout",
     "output_type": "stream",
     "text": [
      "Ex. 12a\t25\n",
      "Lvl 12a\t845\n",
      "Ex. 12b\t286\n",
      "Lvl 12b\t27016\n"
     ]
    }
   ],
   "source": [
    "dire = {\"N\": 1, \"S\": -1, \"E\": 1j, \"W\": -1j}\n",
    "turn = {\"L\": -1j, \"R\": 1j}\n",
    "\n",
    "@level_ab(12)\n",
    "def solve(data, method=0):\n",
    "    pos, wp = 0, 1+10j if method else 1j\n",
    "    for line in data.split(\"\\n\"):\n",
    "        cmd, dist = line[0], int(line[1:])\n",
    "        if cmd in dire:\n",
    "            if method:    wp  += dist * dire[cmd]\n",
    "            else:         pos += dist * dire[cmd]\n",
    "        elif cmd == \"F\":  pos += dist * wp\n",
    "        elif cmd in turn: wp *= turn[cmd] ** (dist//90)\n",
    "        # print(\"cmd\", line, \"pos\", pos, \"facing\", facing)\n",
    "    return int(abs(pos.real)+abs(pos.imag))"
   ]
  },
  {
   "cell_type": "code",
   "execution_count": 14,
   "metadata": {},
   "outputs": [
    {
     "name": "stdout",
     "output_type": "stream",
     "text": [
      "Ex. 13a\t295\n",
      "Lvl 13a\t4782\n",
      "Ex. 13b\t1068781\n",
      "Lvl 13b\t1118684865113056\n"
     ]
    }
   ],
   "source": [
    "from sympy.ntheory.modular import crt\n",
    "\n",
    "@level_ab(13)\n",
    "def solve(data, method=0):\n",
    "    offset, times = data.split(\"\\n\")\n",
    "    offset, times = int(offset), str2intList(times, sep=\",\")\n",
    "    if method: # x % offset_i == -i\n",
    "        mod_rem = {t: -i for i, t in enumerate(times) if t}\n",
    "        return int(crt(mod_rem.keys(), mod_rem.values())[0]) # sympy.crt returns (mpz, unrelated-int)\n",
    "    else: # some t can be None. -offset % t yields a positive number\n",
    "        return np.prod(min([[-offset % t, t] for t in times if t]))"
   ]
  },
  {
   "cell_type": "code",
   "execution_count": 15,
   "metadata": {},
   "outputs": [
    {
     "name": "stdout",
     "output_type": "stream",
     "text": [
      "Ex. 14a\t165\n",
      "Lvl 14a\t6631883285184\n",
      "Ex. 14b\t208\n",
      "Lvl 14b\t3161838538691\n"
     ]
    }
   ],
   "source": [
    "@level_ab(14)\n",
    "def solve(data, method=0):\n",
    "    memory = {}\n",
    "    mask = \"X0\"[method]\n",
    "    for line in data.split(\"\\n\"):\n",
    "        if line.startswith(\"mask = \"):\n",
    "            bitmask = line[7:]\n",
    "        elif line.startswith(\"mem\"):\n",
    "            addr, val = re.findall(\"[0-9]+\", line)\n",
    "            to_use = addr if method else val\n",
    "            padded = bin(int(to_use))[2:].rjust(36, \"0\")\n",
    "            masked = [(a if b==mask else b) for a, b in zip(padded, bitmask)]\n",
    "            if method: # mask to list of lists with len(inner_list) == 0 or 1\n",
    "                for p in itertools.product(*[[\"0\", \"1\"] if letter == \"X\" else [letter] for letter in masked]):\n",
    "                    memory[int(\"\".join(p), 2)] = int(val)  # write multiple memory positions\n",
    "            else:\n",
    "                memory[int(addr)] = int(\"\".join(masked), 2)\n",
    "    return sum(memory.values())"
   ]
  },
  {
   "cell_type": "code",
   "execution_count": 16,
   "metadata": {},
   "outputs": [
    {
     "name": "stdout",
     "output_type": "stream",
     "text": [
      "Ex. 15a\t436\n",
      "Lvl 15a\t610\n",
      "Ex. 15b\t175594\n",
      "Lvl 15b\t1407\n"
     ]
    }
   ],
   "source": [
    "from numba import njit\n",
    "\n",
    "@njit()\n",
    "def solve_(spoken, method):\n",
    "    seen = dict() # can't init as a 1-liner due to numba\n",
    "    for i, nr in enumerate(spoken):\n",
    "        seen[nr] = i+1\n",
    "    number = 0\n",
    "    for i in range(len(spoken)+1, 30_000_000 if method else 2020):\n",
    "        # same time assignment: use old number to set, then set number, using old number\n",
    "        seen[number], number = i, (i - seen[number]) if number in seen else 0\n",
    "    return number\n",
    "\n",
    "@level_ab(15)\n",
    "def solve(data, method=0):\n",
    "    # numba doesn't support int(), so parsing must be done outside optimized code\n",
    "    return solve_(tuple(str2intList(data, sep=\",\")), method)"
   ]
  },
  {
   "cell_type": "code",
   "execution_count": 17,
   "metadata": {},
   "outputs": [
    {
     "name": "stdout",
     "output_type": "stream",
     "text": [
      "Ex. 16a\t71\n",
      "Lvl 16a\t23036\n",
      "Ex. 16b\t1\n",
      "Lvl 16b\t1909224687553\n"
     ]
    }
   ],
   "source": [
    "@level_ab(16)\n",
    "def solve(data, method=0):\n",
    "    allow, your, other = data.split(\"\\n\\n\") # parsing\n",
    "    your = str2intList(your.split(\"\\n\")[1], sep=\",\")\n",
    "    other = np.array([str2intList(o, sep=\",\") for o in other.split(\"\\n\")[1:]])\n",
    "    \n",
    "    allowed = defaultdict(set) # build a name: allowed set\n",
    "    for line in allow.split(\"\\n\"):\n",
    "        name, options = line.split(\": \")\n",
    "        for option in options.split(\" or \"):\n",
    "            start, end = str2intList(option, sep=\"-\")\n",
    "            allowed[name].update(range(int(start), int(end)+1))\n",
    "    all_allowed = set.union(*allowed.values())\n",
    "    \n",
    "    if method: # throw away invalid lines first\n",
    "        other = np.array([line for line in other if all_allowed.issuperset(set(line))]) \n",
    "        g = nx.Graph() # build name: colid graph, do bipartite matching for assignment problem\n",
    "        for colid, col in enumerate(other.T):\n",
    "            for name, nallowed in allowed.items():\n",
    "                if nallowed.issuperset(col):\n",
    "                    g.add_edge(name, colid)\n",
    "        matches = nx.algorithms.bipartite.matching.minimum_weight_full_matching(g).items()\n",
    "        return np.prod([your[colid] for name, colid in matches\n",
    "                            if type(name) == str and name.startswith(\"departure\")], dtype=int)\n",
    "    return sum(filter(lambda o: o not in all_allowed, other.flat)) # else not needed"
   ]
  },
  {
   "cell_type": "code",
   "execution_count": 18,
   "metadata": {},
   "outputs": [
    {
     "name": "stdout",
     "output_type": "stream",
     "text": [
      "Ex. 17a\t112\n",
      "Lvl 17a\t310\n",
      "Ex. 17b\t848\n",
      "Lvl 17b\t2056\n"
     ]
    }
   ],
   "source": [
    "from scipy.signal import convolve\n",
    "\n",
    "@level_ab(17)\n",
    "def solve(data, method=0, it=6): # run with 6 iterations by default\n",
    "    field = np.array([[list(line) for line in data.split(\"\\n\")]]) == \"#\"\n",
    "    if method: field = np.expand_dims(field, 0)\n",
    "    is_alive = np.vectorize(lambda x: x in [3, 1002, 1003])    \n",
    "    convfilt = np.ones((3,)*(method+3), dtype=int)\n",
    "    convfilt[(1,)*(method+3)] = 1000 # set center 0\n",
    "    for _ in range(it):\n",
    "        field = is_alive(convolve(field.astype(int), convfilt, \"full\"))\n",
    "    return field.sum()"
   ]
  },
  {
   "cell_type": "code",
   "execution_count": 19,
   "metadata": {},
   "outputs": [
    {
     "name": "stdout",
     "output_type": "stream",
     "text": [
      "Ex. 18a\t71\n",
      "Lvl 18a\t3348222486398\n",
      "Ex. 18b\t231\n",
      "Lvl 18b\t43423343619505\n"
     ]
    }
   ],
   "source": [
    "from more_itertools import pairwise\n",
    "P_PAR = r\"\\([ \\d+*]+\\)\" # parenthesis regex\n",
    "P_ADD = r\"\\d+ \\+ \\d+\"   # addition regex\n",
    "\n",
    "def subproblem(line, method):\n",
    "    while     (sub := re.search(P_PAR, line)):\n",
    "        line =     line.replace(sub.group(), subproblem(sub.group()[1:-1], method))\n",
    "    if method: # do add after brackets if method\n",
    "        while (sub := re.search(P_ADD, line)) and sub.group() != line:\n",
    "            line = line.replace(sub.group(), subproblem(sub.group()      , method))\n",
    "    spl = line.split(\" \")\n",
    "    acc = int(spl[0])\n",
    "    for op, num in pairwise(spl[1:]): # offset from 0th element, in 2-steps\n",
    "        if   op == \"+\": acc += int(num)\n",
    "        elif op == \"*\": acc *= int(num)\n",
    "    return str(acc)\n",
    "\n",
    "@level_ab(18)\n",
    "def solve(data, method=0): # run with 6 iterations by default\n",
    "    return sum([int(subproblem(line, method)) for line in data.split(\"\\n\")])"
   ]
  },
  {
   "cell_type": "code",
   "execution_count": 20,
   "metadata": {},
   "outputs": [
    {
     "name": "stdout",
     "output_type": "stream",
     "text": [
      "Ex. 19a\t2\n",
      "Lvl 19a\t208\n",
      "Ex. 19b\t12\n",
      "Lvl 19b\t316\n"
     ]
    }
   ],
   "source": [
    "from lark import Lark\n",
    "\n",
    "@level_ab(19)\n",
    "def solve(data, method=0):\n",
    "    rules, examples = data.split(\"\\n\\n\")\n",
    "    if method:\n",
    "        rules = re.sub(r\"\\n8:.+\", \"\\n8: 42 | 42 8\", rules)\n",
    "        rules = re.sub(r\"\\n11:.+\", \"\\n11: 42 31 | 42 11 31\", rules)\n",
    "    rules = re.sub(r\"\\d+\", lambda d: \"start\" if d.group()==\"0\" else \"w\"+d.group(), rules)\n",
    "    parser = Lark('%ignore \" \"\\n' + rules)\n",
    "    \n",
    "    cnt = 0\n",
    "    for example in examples.split(\"\\n\"):\n",
    "        try: parser.parse(example); cnt+=1\n",
    "        except: pass        \n",
    "    return cnt"
   ]
  },
  {
   "cell_type": "code",
   "execution_count": 21,
   "metadata": {},
   "outputs": [
    {
     "name": "stdout",
     "output_type": "stream",
     "text": [
      "Ex. 20a\t20899048083289\n",
      "Lvl 20a\t18449208814679\n",
      "Ex. 20b\t273\n",
      "Lvl 20b\t1559\n"
     ]
    }
   ],
   "source": [
    "def variations(img):\n",
    "    for rot in range(4):  # add connections for all\n",
    "        for _ in range(2):\n",
    "            yield img\n",
    "            img = np.fliplr(img)\n",
    "        img = np.rot90(img)\n",
    "\n",
    "\n",
    "class Image:\n",
    "    def __init__(self, img_as_txt: str):\n",
    "        name, *img = img_as_txt.split(\"\\n\")\n",
    "        self.id = int(name.replace(\"Tile \", \"\")[:-1])\n",
    "        self.img = (np.array([list(i) for i in img]) == '#').astype(int)\n",
    "        self.corners = {tuple(var[0]) for var in variations(self.img)}\n",
    "        self.neigh = set()\n",
    "        self.pos_neigh = dict()\n",
    "        self.visited = False\n",
    "\n",
    "    def edge(self, i: complex) -> np.array:\n",
    "        if   i == -1:  return self.img[0]\n",
    "        elif i == 1:   return self.img[-1]\n",
    "        elif i == -1j: return self.img[:, 0]\n",
    "        elif i == 1j:  return self.img[:, -1]\n",
    "\n",
    "    def visit(self, pos = None, must_match = None):\n",
    "        if self.pos_neigh: return  # will bet set in visiting\n",
    "        elif pos:   # rotate until we match\n",
    "            for v in variations(self.img):\n",
    "                self.img = v\n",
    "                if (self.edge(pos) == must_match).all():\n",
    "                    break \n",
    "        for pos in [1j**i for i in range(4)]:\n",
    "            for neigh in self.neigh:\n",
    "                if tuple(self.edge(pos)) in neigh.corners:\n",
    "                    self.pos_neigh[-pos] = neigh\n",
    "                    neigh.visit(-pos, must_match=self.edge(pos))\n",
    "\n",
    "    def walk(self, direction: complex):\n",
    "        yield self\n",
    "        if direction in self.pos_neigh:\n",
    "            yield from self.pos_neigh[direction].walk(direction)\n",
    "\n",
    "@level_ab(20)\n",
    "def solve(data, method=0):\n",
    "    images = [Image(img_as_txt) for img_as_txt in data.split(\"\\n\\n\")]\n",
    "    for curr, other in itertools.permutations(images, 2):\n",
    "        if set(curr.corners).intersection(other.corners):\n",
    "            curr.neigh.add(other)\n",
    "    if not method:\n",
    "        images = sorted(images, key=lambda i: len(i.neigh))\n",
    "        return np.prod([i.id for i in images[:4]])\n",
    "    center = max(images, key=lambda img: len(img.neigh))\n",
    "    center.visit()\n",
    "    top_left = list(list(center.walk(1))[-1].walk(1j))[-1]\n",
    "    field = np.vstack([np.hstack([row.img[1:-1, 1:-1] for row in col.walk(-1j)]) for col in top_left.walk(-1)])\n",
    "    monster = \"\"\"                  # \n",
    "#    ##    ##    ###\n",
    " #  #  #  #  #  #   \"\"\"\n",
    "    mask = (np.array([list(line) for line in monster.split(\"\\n\")]) == \"#\").astype(int)\n",
    "\n",
    "    for fieldv in variations(field):  # for all field-variations and mask shifts\n",
    "        fcnt = 0\n",
    "        fx, fy = field.shape\n",
    "        mx, my = mask.shape\n",
    "        for i, j in itertools.product(range(fx-mx), range(fx-my)):\n",
    "            fcnt += (fieldv[i:i+mx, j:j+my] & mask == mask).all()\n",
    "        if fcnt:\n",
    "            return fieldv.sum() - mask.sum() * fcnt"
   ]
  },
  {
   "cell_type": "code",
   "execution_count": 22,
   "metadata": {},
   "outputs": [
    {
     "name": "stdout",
     "output_type": "stream",
     "text": [
      "Ex. 21a\t5\n",
      "Lvl 21a\t2542\n",
      "Ex. 21b\tmxmxvkd,sqjhc,fvjkl\n",
      "Lvl 21b\thkflr,ctmcqjf,bfrq,srxphcm,snmxl,zvx,bd,mqvk\n"
     ]
    }
   ],
   "source": [
    "@level_ab(21)\n",
    "def solve(data, method=0):\n",
    "    g = nx.Graph()\n",
    "    all_ing_ctr = Counter()\n",
    "    for line in data.split(\"\\n\"):\n",
    "        ing, alle = line.split(\" (contains \")\n",
    "        ing = set(ing.split(\" \"))\n",
    "        alle = set(alle[:-1].split(\", \"))\n",
    "        all_ing_ctr.update(ing)\n",
    "        for a, i in itertools.product(alle, ing):\n",
    "            if g.has_edge(a,i):  # the solution isn't unique so we have to use this trick\n",
    "                g.get_edge_data(a,i)[\"weight\"] -= 1\n",
    "            else: \n",
    "                g.add_edge(a, i, weight=0)\n",
    "    \n",
    "    all_ing = set(all_ing_ctr)\n",
    "    match = nx.bipartite.minimum_weight_full_matching(g)\n",
    "    unsafe = set(match)  # dict, mapping unsafe ingredients AND compounds\n",
    "    if method: return \",\".join((sorted(all_ing & unsafe, key=lambda ing: match[ing])))\n",
    "    else:      return sum([all_ing_ctr[s] for s in all_ing - unsafe])"
   ]
  },
  {
   "cell_type": "code",
   "execution_count": 23,
   "metadata": {},
   "outputs": [
    {
     "name": "stdout",
     "output_type": "stream",
     "text": [
      "Ex. 22a\t306\n",
      "Lvl 22a\t31781\n",
      "Ex. 22b\t291\n",
      "Lvl 22b\t35154\n"
     ]
    }
   ],
   "source": [
    "def play_rec(p1, p2, rec_lvl=1):  \n",
    "    history = set() \n",
    "    while p1 and p2:\n",
    "        h = hash((tuple(p1), tuple(p2)))\n",
    "        if h in history:\n",
    "            return 1, 0\n",
    "        history.add(h)\n",
    "        \n",
    "        c1, c2 = p1.pop(0), p2.pop(0)\n",
    "        if rec_lvl and len(p1) >= c1 and len(p2) >= c2:\n",
    "            winner, _ = play_rec(p1[:c1], p2[:c2], rec_lvl+1)\n",
    "        else:      winner = c1 > c2\n",
    "        if winner: p1 += [c1, c2]\n",
    "        else:      p2 += [c2, c1]\n",
    "    return p1, p2\n",
    "\n",
    "@level_ab(22)\n",
    "def solve(data, method=0):\n",
    "    p1, p2 = [list(map(int, d.split(\"\\n\")[1:]))\n",
    "              for d in data.split(\"\\n\\n\")]\n",
    "    p1, p2 = play_rec(p1, p2, method)  # method = 0 means never recurse\n",
    "    p = reversed(p1 + p2)\n",
    "    return sum([card*(i+1) for i, card in enumerate(p)])"
   ]
  },
  {
   "cell_type": "code",
   "execution_count": 24,
   "metadata": {},
   "outputs": [
    {
     "name": "stdout",
     "output_type": "stream",
     "text": [
      "Ex. 23a\t67384529\n",
      "Lvl 23a\t52937846\n",
      "Ex. 23b\t149245887792\n",
      "Lvl 23b\t8456532414\n"
     ]
    }
   ],
   "source": [
    "from numba import njit, typed\n",
    "from typing import List\n",
    "\n",
    "@njit()  # yield follower of d in g\n",
    "def followers(g, node, nr) -> List[int]:\n",
    "    for _ in range(nr):\n",
    "        yield (node := g[node])\n",
    "\n",
    "@njit()\n",
    "def solve_(data, method):\n",
    "    g = {}\n",
    "    for i in range(len(data)-1):\n",
    "        g[data[i]] = data[i+1]\n",
    "    g[data[-1]] = data[0]\n",
    "    \n",
    "    current_cup = data[0]\n",
    "    for i in range(10_000_000 if method else 100):\n",
    "        n1, n2, n3, n4 = followers(g, current_cup, 4)\n",
    "        g[current_cup] = g[n3]  # unlink 3 selected cups\n",
    "        dst_cup = current_cup - 1  # set dst to current-1\n",
    "        while (dst_cup in [n1, n2, n3]) or (dst_cup <= 0):\n",
    "            dst_cup -= 1  # if dst_cup in picked-up, decrement\n",
    "            if dst_cup <= 0:  # cycling around negatively\n",
    "                dst_cup = len(g)\n",
    "        dst_follower = list(followers(g, dst_cup, 1))[0]\n",
    "        g[dst_cup] = n1  # link dest to first picked up\n",
    "        g[n3] = dst_follower  # link last picked up to \n",
    "        current_cup = n4\n",
    "    return followers(g, 1, 2 if method else len(g)-1)\n",
    "\n",
    "@level_ab(23)\n",
    "def solve(data, method=0):\n",
    "    data = [int(d) for d in data] \n",
    "    data += range(len(data)+1, 1_000_000+1) if method else []\n",
    "    followers = solve_(typed.List(data), method)\n",
    "    if method: return np.prod(list(followers))\n",
    "    else:      return \"\".join([str(x) for x in followers])"
   ]
  },
  {
   "cell_type": "code",
   "execution_count": 25,
   "metadata": {},
   "outputs": [
    {
     "name": "stdout",
     "output_type": "stream",
     "text": [
      "Ex. 24a\t10\n",
      "Lvl 24a\t254\n",
      "Ex. 24b\t2208\n",
      "Lvl 24b\t3697\n"
     ]
    }
   ],
   "source": [
    "DIR6 = {1+1j: \"ne\", 1-1j: \"se\", -1+1j: \"nw\", -1-1j: \"sw\", 2: \"e\", -2: \"w\"}\n",
    "\n",
    "def parse(s, tok=()):\n",
    "    if not s: return tok\n",
    "    for dv, dn in DIR6.items():\n",
    "        if s.startswith(dn):\n",
    "            # print(dn, len(dn), s[len(dn)+1:])\n",
    "            rv = parse(s[len(dn):], (*tok, dv))\n",
    "            if rv: return rv\n",
    "    else: return False\n",
    "assert sum(parse(\"nwwswee\")) == 0\n",
    "\n",
    "@level_ab(24)\n",
    "def solve(data, method=0):\n",
    "    field = defaultdict(bool)\n",
    "    for line in data.split(\"\\n\"):\n",
    "        pos = sum(parse(line))\n",
    "        field[pos] = not field[pos]\n",
    "\n",
    "    if method:  # part 2: game of life in a sparse hex field\n",
    "        for i in range(100):\n",
    "            fc = field.copy()\n",
    "            for pos, pv in field.items():\n",
    "                if pv: # only add white fields to black neighbors\n",
    "                    for nd in DIR6:\n",
    "                        fc[pos+nd] = fc[pos+nd]\n",
    "            for pos, pv in fc.items():\n",
    "                nr_neigh = sum([field[pos+nd] for nd in DIR6])\n",
    "                if (pv and (nr_neigh == 0 or nr_neigh > 2)) or (not pv and nr_neigh == 2):\n",
    "                    fc[pos] = not fc[pos] # flip\n",
    "            field = fc\n",
    "    return sum(field.values())  # sum(bool) = count of true"
   ]
  },
  {
   "cell_type": "code",
   "execution_count": 26,
   "metadata": {},
   "outputs": [
    {
     "name": "stdout",
     "output_type": "stream",
     "text": [
      "Lvl 25a\t12285001\n"
     ]
    }
   ],
   "source": [
    "MOD = 20201227\n",
    "@level_a(25)\n",
    "def solve(data=0, method=0):\n",
    "    a, b = map(int, data.split(\"\\n\"))\n",
    "    x = 1\n",
    "    for i in range(1, 10000000000):\n",
    "        x = (x * 7 % MOD)\n",
    "        if a == x:\n",
    "            break\n",
    "    return pow(b, i, MOD)"
   ]
  }
 ],
 "metadata": {
  "kernelspec": {
   "display_name": "Python 3 (ipykernel)",
   "language": "python",
   "name": "python3"
  },
  "language_info": {
   "codemirror_mode": {
    "name": "ipython",
    "version": 3
   },
   "file_extension": ".py",
   "mimetype": "text/x-python",
   "name": "python",
   "nbconvert_exporter": "python",
   "pygments_lexer": "ipython3",
   "version": "3.9.7"
  }
 },
 "nbformat": 4,
 "nbformat_minor": 4
}
