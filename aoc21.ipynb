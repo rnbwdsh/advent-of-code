{
 "cells": [
  {
   "cell_type": "code",
   "execution_count": 1,
   "metadata": {},
   "outputs": [],
   "source": [
    "import itertools\n",
    "import re\n",
    "import math\n",
    "\n",
    "import numpy as np\n",
    "import networkx as nx\n",
    "import matplotlib.pyplot as plt\n",
    "\n",
    "from functools import lru_cache\n",
    "from collections import Counter, defaultdict\n",
    "from lib import level_a, level_b, level_ab"
   ]
  },
  {
   "cell_type": "code",
   "execution_count": 2,
   "metadata": {},
   "outputs": [
    {
     "name": "stdout",
     "output_type": "stream",
     "text": [
      "Part a already solved with same answer: 1184\n",
      "Part b already solved with same answer: 1158\n"
     ]
    }
   ],
   "source": [
    "@level_ab(1, apply=int, test=(\"199\\n200\\n208\\n210\\n200\\n207\\n240\\n269\\n260\\n263\", 7, 5))\n",
    "def solve(num, level):\n",
    "    if level:\n",
    "        num = num[2:] + num[1:-1] + num[:-2]  # 3-frame-windowing\n",
    "    return ( ( num[1:] - num[:-1] ) > 0).sum()"
   ]
  },
  {
   "cell_type": "code",
   "execution_count": 3,
   "metadata": {},
   "outputs": [
    {
     "name": "stdout",
     "output_type": "stream",
     "text": [
      "Part a already solved with same answer: 1694130\n",
      "Part b already solved with same answer: 1698850445\n"
     ]
    }
   ],
   "source": [
    "@level_ab(2, test=('forward 5\\ndown 5\\nforward 8\\nup 3\\ndown 8\\nforward 2', 150, 900))\n",
    "def solve(lines, level):\n",
    "    dirs = {\"forward\": 1j, \"up\": 1, \"down\": -1}\n",
    "    pos = aim = 0\n",
    "    for line in lines:\n",
    "        dire, dist = line.split()\n",
    "        dire, dist = dirs[dire], int(dist)\n",
    "        if level:\n",
    "            if dire.real:\n",
    "                aim += dist * dire\n",
    "            else:\n",
    "                pos += dist + dist * aim * dire\n",
    "        else:\n",
    "            pos += dire * dist\n",
    "    return np.absolute([pos.real, pos.imag]).prod(dtype=int)"
   ]
  },
  {
   "cell_type": "code",
   "execution_count": 4,
   "metadata": {},
   "outputs": [
    {
     "name": "stdout",
     "output_type": "stream",
     "text": [
      "Part a already solved with same answer: 2743844\n",
      "Part b already solved with same answer: 6677951\n"
     ]
    }
   ],
   "source": [
    "def inner(arr, level):\n",
    "    for pos in range(arr.shape[1]):\n",
    "        curr = arr[:,pos].mean(axis=0) >= 0.5  # unlike np.round, round UP on 0.5\n",
    "        curr = int(curr == level)  # invert for epsilon\n",
    "        arr = arr[arr[:,pos] == curr]  # filter array at position pos\n",
    "        if len(arr) == 1:\n",
    "            return arr[0]\n",
    "\n",
    "@level_ab(3, apply=lambda line: [int(i) for i in line], test=('00100\\n11110\\n10110\\n10111\\n10101\\n01111\\n00111\\n11100\\n10000\\n11001\\n00010\\n01010', 198, 230))\n",
    "def solve(num, level):\n",
    "    bin2dec = lambda x: int(\"\".join(map(str, x)), 2)\n",
    "\n",
    "    if level:\n",
    "        return bin2dec(inner(num, 1)) * bin2dec(inner(num, 0))\n",
    "    else:\n",
    "        gamma = num.mean(axis=0).round().astype(int)\n",
    "        epsilon = 1 - gamma  # boolean invert\n",
    "        return bin2dec(gamma) * bin2dec(epsilon)"
   ]
  },
  {
   "cell_type": "code",
   "execution_count": 5,
   "metadata": {},
   "outputs": [
    {
     "name": "stdout",
     "output_type": "stream",
     "text": [
      "Part a already solved with same answer: 60368\n",
      "Part b already solved with same answer: 17435\n"
     ]
    }
   ],
   "source": [
    "@level_ab(4, sep=\"\\n\\n\", test=('7,4,9,5,11,17,23,2,0,14,21,24,10,16,13,6,15,25,12,22,18,20,8,19,3,26,1\\n\\n22 13 17 11  0\\n 8  2 23  4 24\\n21  9 14 16  7\\n 6 10  3 18  5\\n 1 12 20 15 19\\n\\n 3 15  0  2 22\\n 9 18 13 17  5\\n19  8  7 25 23\\n20 11 10 24  4\\n14 21 16 12  6\\n\\n14 21 17 24  4\\n10 16 15  9 19\\n18  8 23 26 20\\n22 11 13  6  5\\n 2  0 12  3  7', 4512, 1924))\n",
    "def solve(chunks, level):\n",
    "    numbers, *fields = chunks\n",
    "    fields = [np.genfromtxt(field.splitlines(), dtype=int) for field in fields]\n",
    "    winners = set()\n",
    "    for number in map(int, numbers.split(\",\")):\n",
    "        for i in range(len(fields)):\n",
    "            field = fields[i]\n",
    "            fields[i][field==number] = -1\n",
    "            mask = fields[i] == -1\n",
    "            if (mask.sum(axis=0) == 5).any() or (mask.sum(axis=1) == 5).any():\n",
    "                winners.add(i)\n",
    "                if not level or len(winners) == len(fields):\n",
    "                    return number * field[~mask].sum()"
   ]
  },
  {
   "cell_type": "code",
   "execution_count": 6,
   "metadata": {},
   "outputs": [
    {
     "name": "stdout",
     "output_type": "stream",
     "text": [
      "Part a already solved with same answer: 5835\n",
      "Part b already solved with same answer: 17013\n"
     ]
    }
   ],
   "source": [
    "@level_ab(5, test=('0,9 -> 5,9\\n8,0 -> 0,8\\n9,4 -> 3,4\\n2,2 -> 2,1\\n7,0 -> 7,4\\n6,4 -> 2,0\\n0,9 -> 2,9\\n3,4 -> 1,4\\n0,0 -> 8,8\\n5,5 -> 8,2', 5, 12))\n",
    "def solve(lines, level):\n",
    "    field = defaultdict(int)\n",
    "    for line in lines:\n",
    "        start, end = [complex(*[int(i) for i in part.split(\",\")]) for part in line.split(\" -> \")]\n",
    "        dist = end - start\n",
    "        dlen = int(max(abs(dist.real), abs(dist.imag)))\n",
    "        if not dist.real or not dist.imag or (level and dist.real / dist.imag % 1 == 0):\n",
    "            for d in range(dlen+1):\n",
    "                field[start + (dist/dlen) * d] += 1\n",
    "    return sum([v > 1 for v in field.values()])"
   ]
  },
  {
   "cell_type": "code",
   "execution_count": 7,
   "metadata": {},
   "outputs": [
    {
     "name": "stdout",
     "output_type": "stream",
     "text": [
      "Part a already solved with same answer: 350149\n",
      "Part b already solved with same answer: 1590327954513\n"
     ]
    }
   ],
   "source": [
    "@level_ab(6, sep=\",\", apply=int, test=(\"3,4,3,1,2\", 5934, 26984457539))\n",
    "def solve(num, level):\n",
    "    cnt = Counter(num)\n",
    "    for i in range(256 if level else 80):\n",
    "        cnt = Counter({k-1: v for k, v in cnt.items()})\n",
    "        cnt[6] += cnt.get(-1, 0)\n",
    "        cnt[8] += cnt.get(-1, 0)\n",
    "        cnt[-1] = 0\n",
    "    return sum(cnt.values())"
   ]
  },
  {
   "cell_type": "code",
   "execution_count": 8,
   "metadata": {},
   "outputs": [],
   "source": [
    "# alt solution with matrix kernel power\n",
    "def solve_np(data, days):\n",
    "    cnt = np.bincount(data, minlength=9)\n",
    "    kernel = np.pad(np.identity(8, dtype=np.int64), ((1, 0), (0, 1)))  # discrete projection: t_x -> t_(x+1) = 1 -> 0, 2 -> 1\n",
    "    kernel[0, [6,8]] = 1  # extra projection: 0 -> 6, 8\n",
    "    kernel = np.linalg.matrix_power(kernel.astype(object), days)  # astype object to use python builtin unlimited size ints, works fine with a million\n",
    "    return (cnt @ kernel).sum()\n",
    "\n",
    "# len(str(solve_np((3,4,3,1,2), 2**20)))  # 39674"
   ]
  },
  {
   "cell_type": "code",
   "execution_count": 9,
   "metadata": {},
   "outputs": [
    {
     "name": "stdout",
     "output_type": "stream",
     "text": [
      "Part a already solved with same answer: 329389\n",
      "Part b already solved with same answer: 86397080\n"
     ]
    }
   ],
   "source": [
    "@level_ab(7, sep=\",\", apply=int, test=(\"16,1,2,0,4,2,7,1,2,14\", 37, 168))\n",
    "def solve(num, level):\n",
    "    distance = lambda n: n*(n+1)//2 if level else n\n",
    "    return min([distance(np.abs(num-i)).sum()\n",
    "                for i in range(min(num), max(num))])"
   ]
  },
  {
   "cell_type": "code",
   "execution_count": 10,
   "metadata": {},
   "outputs": [
    {
     "name": "stdout",
     "output_type": "stream",
     "text": [
      "Part a already solved with same answer: 421\n",
      "Part b already solved with same answer: 986163\n"
     ]
    }
   ],
   "source": [
    "@level_ab(8, apply=lambda part: (part.split(\" \") for part in part.split(\" | \")), test=('be cfbegad cbdgef fgaecd cgeb fdcge agebfd fecdb fabcd edb | fdgacbe cefdb cefbgd gcbe\\nedbfga begcd cbg gc gcadebf fbgde acbgfd abcde gfcbed gfec | fcgedb cgb dgebacf gc\\nfgaebd cg bdaec gdafb agbcfd gdcbef bgcad gfac gcb cdgabef | cg cg fdcagb cbg\\nfbegcd cbd adcefb dageb afcb bc aefdc ecdab fgdeca fcdbega | efabcd cedba gadfec cb\\naecbfdg fbg gf bafeg dbefa fcge gcbea fcaegb dgceab fcbdga | gecf egdcabf bgf bfgea\\nfgeab ca afcebg bdacfeg cfaedg gcfdb baec bfadeg bafgc acf | gebdcfa ecba ca fadegcb\\ndbcfg fgd bdegcaf fgec aegbdf ecdfab fbedc dacgb gdcebf gf | cefg dcbef fcge gbcadfe\\nbdfegc cbegaf gecbf dfcage bdacg ed bedf ced adcbefg gebcd | ed bcgafe cdgba cbgef\\negadfb cdbfeg cegd fecab cgb gbdefca cg fgcdab egfdb bfceg | gbdfcae bgc cg cgb\\ngcafb gcf dcaebfg ecagb gf abcdeg gaef cafbge fdbac fegbdc | fgae cfgab fg bagce', 26, 61229))\n",
    "def solve(lines, level):\n",
    "    total = 0\n",
    "    len2num = {2: 1, 3: 7, 4: 4, 7: 8}\n",
    "    for inp, out in lines:\n",
    "        d = {len2num.get(len(k), k): frozenset(k) for k in set(inp + out)}  # mapping: digit to set\n",
    "        set2num = {v: (3 if d[7] < v else 5 if d[4]-d[7] < v else 2) if len(v) == 5 else    # case: len5\n",
    "                      (9 if d[4] < v else 0 if d[1]      < v else 6) if len(v) == 6 else k  # case: len6 and others\n",
    "                   for k, v in d.items()}  # set2digit\n",
    "        total += int(\"\".join(str(set2num[frozenset(letter)]) for letter in out)) if level else \\\n",
    "                 len([s for s in out if len(s) in len2num.keys()])  # digits 1, 4, 7, 8\n",
    "    return total"
   ]
  },
  {
   "cell_type": "code",
   "execution_count": 11,
   "metadata": {},
   "outputs": [
    {
     "name": "stdout",
     "output_type": "stream",
     "text": [
      "Part a already solved with same answer: 498\n",
      "Part b already solved with same answer: 1071000\n"
     ]
    }
   ],
   "source": [
    "neighbors = lambda i, j: [(i-1, j), (i+1, j), (i, j-1), (i, j+1)]\n",
    "\n",
    "def watershed_size(d, i, j):\n",
    "    d[i,j] = 9\n",
    "    return 1 + sum([watershed_size(d, *n) for n in neighbors(i,j) if d[n] != 9])\n",
    "\n",
    "@level_ab(9, test=(\"2199943210\\n3987894921\\n9856789892\\n8767896789\\n9899965678\", 15, 1134))\n",
    "def solve(lines, level):\n",
    "    data = np.pad([[int(i) for i in line] for line in lines], (1, 1), constant_values=9)  # pad corner with 9\n",
    "    h, w = data.shape\n",
    "    basins = [watershed_size(data, i, j) if level else                  # recursive watershedding size algo\n",
    "              data[i][j] + 1                                            # risk level = min peak + 1\n",
    "              for i in range(1, h-1) for j in range(1, w-1)             # exclude padding\n",
    "              if all([data[i][j] < data[n] for n in neighbors(i, j)])]  # all neighbors must be smaller\n",
    "    return np.prod(sorted(basins)[-3:]) if level else sum(basins)"
   ]
  },
  {
   "cell_type": "code",
   "execution_count": 12,
   "metadata": {},
   "outputs": [
    {
     "name": "stdout",
     "output_type": "stream",
     "text": [
      "Part a already solved with same answer: 318099\n",
      "Part b already solved with same answer: 2389738699\n"
     ]
    }
   ],
   "source": [
    "score0 = {\")\": 3, \"]\": 57, \"}\": 1197, \">\": 25137}\n",
    "score1 = {\")\": 1, \"]\": 2, \"}\": 3, \">\": 4}\n",
    "close = {\")\": \"(\", \"]\": \"[\", \"}\": \"{\", \">\": \"<\"}\n",
    "score1 = {v: score1[k] for k, v in close.items()}\n",
    "\n",
    "@level_ab(10, test=('[({(<(())[]>[[{[]{<()<>>\\n[(()[<>])]({[<{<<[]>>(\\n{([(<{}[<>[]}>{[]{[(<()>\\n(((({<>}<{<{<>}{[]{[]{}\\n[[<[([]))<([[{}[[()]]]\\n[{[{({}]{}}([{[{{{}}([]\\n{<[[]]>}<{[{[{[]{()[[[]\\n[<(<(<(<{}))><([]([]()\\n<{([([[(<>()){}]>(<<{{\\n<{([{{}}[<[[[<>{}]]]>[]]', 26397, 288957))\n",
    "def solve(lines, level):\n",
    "    total = 0\n",
    "    scores = []\n",
    "    for line in lines:\n",
    "        opened = []\n",
    "        for char in line:\n",
    "            if char in close:\n",
    "                if opened and opened[-1] == close[char]:\n",
    "                    opened.pop(-1)\n",
    "                else:  # error case: no closing tag on stack\n",
    "                    total += score0[char]\n",
    "                    break\n",
    "            else:\n",
    "                opened += char\n",
    "        else:  # if no break was taken\n",
    "            subtotal = 0\n",
    "            for c in reversed(opened):\n",
    "                subtotal = subtotal * 5 + score1[c]\n",
    "            scores.append(subtotal)\n",
    "    return sorted(scores)[len(scores)//2] if level else total    "
   ]
  },
  {
   "cell_type": "code",
   "execution_count": 13,
   "metadata": {},
   "outputs": [
    {
     "name": "stdout",
     "output_type": "stream",
     "text": [
      "Part a already solved with same answer: 1640\n",
      "Part b already solved with same answer: 312\n"
     ]
    }
   ],
   "source": [
    "@level_ab(11, test=('5483143223\\n2745854711\\n5264556173\\n6141336146\\n6357385478\\n4167524645\\n2176841721\\n6882881134\\n4846848554\\n5283751526', 1656, 195))\n",
    "def solve(lines, level):\n",
    "    data = np.pad([[int(i) for i in line] for line in lines], (1, 1), constant_values=-99999)\n",
    "    total = 0\n",
    "\n",
    "    for step in range(99999 if level else 100):\n",
    "        data += 1  # increase every field value by 1\n",
    "        flashed_this_step = set()\n",
    "        while data[data > 9].any():  # inner step has to be redone to propagate it\n",
    "            for x, y in zip(*np.where(data > 9)):  # for all values > 9\n",
    "                data[x-1:x+2, y-1:y+2] += 1  # increase adjacent values +1\n",
    "                flashed_this_step.add((x,y))\n",
    "            for x, y in flashed_this_step:  # reset after every sub-step, so it can't re-flash as the max number of neigh is 9\n",
    "                data[x,y] = 0\n",
    "        total += len(flashed_this_step)\n",
    "        if level and len(flashed_this_step) == 100:\n",
    "            return step+1\n",
    "    return total"
   ]
  },
  {
   "cell_type": "code",
   "execution_count": 14,
   "metadata": {},
   "outputs": [
    {
     "name": "stdout",
     "output_type": "stream",
     "text": [
      "Part a already solved with same answer: 3292\n",
      "Part b already solved with same answer: 89592\n"
     ]
    }
   ],
   "source": [
    "def all_paths(g, curr, visited, all_visited, can_twice=True):\n",
    "    visited += tuple([curr])\n",
    "    if curr == \"end\":\n",
    "        all_visited.add(visited)\n",
    "        return\n",
    "    for n in nx.neighbors(g, curr):\n",
    "        if n.isupper() or n not in visited:\n",
    "            all_paths(g, n, visited, all_visited, can_twice)\n",
    "        elif can_twice and n != \"start\":\n",
    "            all_paths(g, n, visited, all_visited, False)\n",
    "    return all_visited\n",
    "\n",
    "@level_ab(12, test=('start-A\\nstart-b\\nA-c\\nA-b\\nb-d\\nA-end\\nb-end', 10, 36))\n",
    "def solve(lines, level):\n",
    "    g = nx.Graph([line.split(\"-\") for line in lines])\n",
    "    res = all_paths(g, \"start\", tuple(), set(), can_twice=level)\n",
    "    return len(res)"
   ]
  },
  {
   "cell_type": "code",
   "execution_count": 15,
   "metadata": {},
   "outputs": [
    {
     "name": "stdout",
     "output_type": "stream",
     "text": [
      "Part a already solved with same answer: 827\n"
     ]
    },
    {
     "data": {
      "image/png": "[encoded data removed]",
      "text/plain": [
       "<Figure size 432x288 with 1 Axes>"
      ]
     },
     "metadata": {
      "needs_background": "light"
     },
     "output_type": "display_data"
    },
    {
     "data": {
      "image/png": "[encoded data removed]",
      "text/plain": [
       "<Figure size 432x288 with 1 Axes>"
      ]
     },
     "metadata": {
      "needs_background": "light"
     },
     "output_type": "display_data"
    },
    {
     "name": "stdout",
     "output_type": "stream",
     "text": [
      "Part b already solved with same answer: EAHKRECP\n"
     ]
    }
   ],
   "source": [
    "@level_ab(13, sep=\"\\n\\n\", test=('6,10\\n0,14\\n9,10\\n0,3\\n10,4\\n4,11\\n6,0\\n6,12\\n4,1\\n0,13\\n10,12\\n3,4\\n3,0\\n8,4\\n1,10\\n2,14\\n8,10\\n9,0\\n\\nfold along y=7\\nfold along x=5', 17, \"EAHKRECP\"))\n",
    "def solve(lines, level):\n",
    "    data, fold = lines\n",
    "    d = np.array([[int(i) for i in d.split(\",\")] for d in data.split(\"\\n\")])\n",
    "    field = np.zeros([np.max(d)+1]*2, dtype=bool)\n",
    "    field[tuple(d.T)] = True\n",
    "    for f in fold.split(\"\\n\"):\n",
    "        direction, dist = f.split(\"=\")\n",
    "        direction, dist = direction[-1:], int(dist)\n",
    "        \n",
    "        field = field.T if direction == \"y\" else field  # y-case: just do it mirrored\n",
    "        field = field[:dist] | field[dist+1:][:dist][::-1]  # cut field, and OR it with other field reversed\n",
    "        field = field.T if direction == \"y\" else field\n",
    "        \n",
    "        if not level: return field.sum()   # level1: return after first fold\n",
    "    plt.imshow(field.T)\n",
    "    plt.show()\n",
    "    return \"EAHKRECP\""
   ]
  },
  {
   "cell_type": "code",
   "execution_count": 16,
   "metadata": {},
   "outputs": [
    {
     "name": "stdout",
     "output_type": "stream",
     "text": [
      "Part a already solved with same answer: 3230\n",
      "Part b already solved with same answer: 3542388214529\n"
     ]
    }
   ],
   "source": [
    "def step(cp, rules):\n",
    "    nc = Counter()\n",
    "    for (a, b), cnt in cp.items():\n",
    "        m = rules.get(a+b, \"\")  # if not found, get empty -> new keys will be len(1), case for letter-count\n",
    "        nc[a + m] += cnt\n",
    "        nc[m + b] += cnt\n",
    "    return nc\n",
    "\n",
    "@level_ab(14, test=('NNCB\\n\\nCH -> B\\nHH -> N\\nCB -> H\\nNH -> C\\nHB -> C\\nHC -> B\\nHN -> C\\nNN -> C\\nBH -> H\\nNC -> B\\nNB -> B\\nBN -> B\\nBB -> N\\nBC -> B\\nCC -> N\\nCN -> C', 1588, 2188189693529))\n",
    "def solve(lines, level):\n",
    "    d = lines[0]\n",
    "    rules = dict([rule.split(\" -> \") for rule in lines[2:]])  # lookup dict: first, second -> insert\n",
    "    pair_cnt = Counter([d[i:i+2] for i in range(len(d)-1)])  # count pairs\n",
    "    for j in range(40 if level else 10):\n",
    "        pair_cnt = step(pair_cnt, rules)\n",
    "    letter_cnt = step(pair_cnt, {})\n",
    "    letter_cnt[d[0]] += 1  # corner case: first and last char stay const and appear 1x more\n",
    "    letter_cnt[d[-1]] += 1\n",
    "    return (max(letter_cnt.values()) - min(letter_cnt.values())) // 2"
   ]
  },
  {
   "cell_type": "code",
   "execution_count": null,
   "metadata": {},
   "outputs": [],
   "source": [
    "@level_ab(15, test=(\"\"\"asdf\"\"\", None, None))\n",
    "def solve(lines, level):\n",
    "    return lines[0]"
   ]
  },
  {
   "cell_type": "code",
   "execution_count": null,
   "metadata": {},
   "outputs": [],
   "source": [
    "@level_ab(16, test=(\"\"\"asdf\"\"\", None, None))\n",
    "def solve(lines, level):\n",
    "    return lines[0]"
   ]
  }
 ],
 "metadata": {
  "kernelspec": {
   "display_name": "Python 3 (ipykernel)",
   "language": "python",
   "name": "python3"
  },
  "language_info": {
   "codemirror_mode": {
    "name": "ipython",
    "version": 3
   },
   "file_extension": ".py",
   "mimetype": "text/x-python",
   "name": "python",
   "nbconvert_exporter": "python",
   "pygments_lexer": "ipython3",
   "version": "3.9.9"
  }
 },
 "nbformat": 4,
 "nbformat_minor": 4
}
