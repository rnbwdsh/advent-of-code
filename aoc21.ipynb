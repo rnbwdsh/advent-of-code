{
 "cells": [
  {
   "cell_type": "code",
   "execution_count": 1,
   "metadata": {},
   "outputs": [],
   "source": [
    "import itertools\n",
    "import re\n",
    "import math\n",
    "\n",
    "import numpy as np\n",
    "import networkx as nx\n",
    "from io import StringIO\n",
    "\n",
    "from functools import lru_cache\n",
    "from collections import Counter, defaultdict\n",
    "from lib import level_a, level_b, level_ab"
   ]
  },
  {
   "cell_type": "code",
   "execution_count": 2,
   "metadata": {},
   "outputs": [
    {
     "name": "stdout",
     "output_type": "stream",
     "text": [
      "Part a already solved with same answer: 1184\n",
      "Part b already solved with same answer: 1158\n"
     ]
    }
   ],
   "source": [
    "@level_ab(1, apply=int, test=(\"199\\n200\\n208\\n210\\n200\\n207\\n240\\n269\\n260\\n263\", 7, 5))\n",
    "def solve(num, level):\n",
    "    if level:\n",
    "        num = num[2:] + num[1:-1] + num[:-2]  # 3-frame-windowing\n",
    "    return ( ( num[1:] - num[:-1] ) > 0).sum()"
   ]
  },
  {
   "cell_type": "code",
   "execution_count": 3,
   "metadata": {},
   "outputs": [
    {
     "name": "stdout",
     "output_type": "stream",
     "text": [
      "Part a already solved with same answer: 1694130\n",
      "Part b already solved with same answer: 1698850445\n"
     ]
    }
   ],
   "source": [
    "@level_ab(2, test=('forward 5\\ndown 5\\nforward 8\\nup 3\\ndown 8\\nforward 2', 150, 900))\n",
    "def solve(lines, level):\n",
    "    DIRS = {\"forward\": 1j, \"up\": 1, \"down\": -1}\n",
    "    pos = aim = 0\n",
    "    for line in lines:\n",
    "        dir, dist = line.split()\n",
    "        dir, dist = DIRS[dir], int(dist)\n",
    "        if level:\n",
    "            if dir.real: \n",
    "                aim += dist * dir\n",
    "            else:\n",
    "                pos += dist + dist * aim * dir\n",
    "        else:\n",
    "            pos += dir * dist\n",
    "    return np.absolute([pos.real, pos.imag]).prod(dtype=int)"
   ]
  },
  {
   "cell_type": "code",
   "execution_count": 4,
   "metadata": {},
   "outputs": [
    {
     "name": "stdout",
     "output_type": "stream",
     "text": [
      "Part a already solved with same answer: 2743844\n",
      "Part b already solved with same answer: 6677951\n"
     ]
    }
   ],
   "source": [
    "def inner(arr, level):\n",
    "    for pos in range(arr.shape[1]):\n",
    "        curr = arr[:,pos].mean(axis=0) >= 0.5  # unlike np.round, round UP on 0.5\n",
    "        curr = int(curr == level)  # invert for epsilon\n",
    "        arr = arr[arr[:,pos] == curr]  # filter array at position pos\n",
    "        if len(arr) == 1:\n",
    "            return arr[0]\n",
    "\n",
    "@level_ab(3, apply=lambda line: [int(i) for i in line], test=('00100\\n11110\\n10110\\n10111\\n10101\\n01111\\n00111\\n11100\\n10000\\n11001\\n00010\\n01010', 198, 230))\n",
    "def solve(num, level):\n",
    "    bin2dec = lambda x: int(\"\".join(map(str, x)), 2)\n",
    "\n",
    "    if level:\n",
    "        return bin2dec(inner(num, 1)) * bin2dec(inner(num, 0))\n",
    "    else:\n",
    "        gamma = num.mean(axis=0).round().astype(int)\n",
    "        epsilon = 1 - gamma  # boolean invert\n",
    "        return bin2dec(gamma) * bin2dec(epsilon)"
   ]
  },
  {
   "cell_type": "code",
   "execution_count": 5,
   "metadata": {},
   "outputs": [
    {
     "name": "stdout",
     "output_type": "stream",
     "text": [
      "Part a already solved with same answer: 60368\n",
      "Part b already solved with same answer: 17435\n"
     ]
    }
   ],
   "source": [
    "@level_ab(4, sep=\"\\n\\n\", test=('7,4,9,5,11,17,23,2,0,14,21,24,10,16,13,6,15,25,12,22,18,20,8,19,3,26,1\\n\\n22 13 17 11  0\\n 8  2 23  4 24\\n21  9 14 16  7\\n 6 10  3 18  5\\n 1 12 20 15 19\\n\\n 3 15  0  2 22\\n 9 18 13 17  5\\n19  8  7 25 23\\n20 11 10 24  4\\n14 21 16 12  6\\n\\n14 21 17 24  4\\n10 16 15  9 19\\n18  8 23 26 20\\n22 11 13  6  5\\n 2  0 12  3  7', 4512, 1924))\n",
    "def solve(chunks, level):\n",
    "    numbers, *fields = chunks\n",
    "    fields = [np.genfromtxt(field.splitlines(), dtype=int) for field in fields]\n",
    "    winners = set()\n",
    "    for number in map(int, numbers.split(\",\")):\n",
    "        for i in range(len(fields)):\n",
    "            field = fields[i]\n",
    "            fields[i][field==number] = -1\n",
    "            mask = fields[i] == -1\n",
    "            if (mask.sum(axis=0) == 5).any() or (mask.sum(axis=1) == 5).any():\n",
    "                winners.add(i)\n",
    "                if not level or len(winners) == len(fields):\n",
    "                    return number * field[~mask].sum()"
   ]
  },
  {
   "cell_type": "code",
   "execution_count": 6,
   "metadata": {},
   "outputs": [
    {
     "name": "stdout",
     "output_type": "stream",
     "text": [
      "Part a already solved with same answer: 5835\n",
      "Part b already solved with same answer: 17013\n"
     ]
    }
   ],
   "source": [
    "@level_ab(5, test=('0,9 -> 5,9\\n8,0 -> 0,8\\n9,4 -> 3,4\\n2,2 -> 2,1\\n7,0 -> 7,4\\n6,4 -> 2,0\\n0,9 -> 2,9\\n3,4 -> 1,4\\n0,0 -> 8,8\\n5,5 -> 8,2', 5, 12))\n",
    "def solve(lines, level):\n",
    "    field = defaultdict(int)\n",
    "    for line in lines:\n",
    "        start, end = [complex(*[int(i) for i in part.split(\",\")]) for part in line.split(\" -> \")]\n",
    "        dist = end - start\n",
    "        dlen = int(max(abs(dist.real), abs(dist.imag)))\n",
    "        if not dist.real or not dist.imag or (level and dist.real / dist.imag % 1 == 0):\n",
    "            for d in range(dlen+1):\n",
    "                field[start + (dist/dlen) * d] += 1                \n",
    "    return sum([v > 1 for v in field.values()])"
   ]
  },
  {
   "cell_type": "code",
   "execution_count": 7,
   "metadata": {},
   "outputs": [
    {
     "name": "stdout",
     "output_type": "stream",
     "text": [
      "Part a already solved with same answer: 350149\n",
      "Part b already solved with same answer: 1590327954513\n"
     ]
    }
   ],
   "source": [
    "@level_ab(6, sep=\",\", apply=int, test=(\"3,4,3,1,2\", 5934, 26984457539))\n",
    "def solve(num, level):\n",
    "    cnt = Counter(num)\n",
    "    for i in range(256 if level else 80):\n",
    "        cnt = Counter({k-1: v for k, v in cnt.items()})\n",
    "        cnt[6] += cnt.get(-1, 0)\n",
    "        cnt[8] += cnt.get(-1, 0)\n",
    "        cnt[-1] = 0\n",
    "    return sum(cnt.values())"
   ]
  },
  {
   "cell_type": "code",
   "execution_count": 8,
   "metadata": {},
   "outputs": [],
   "source": [
    "# alt solution with matrix kernel power\n",
    "def solve_np(data, days):\n",
    "    cnt = np.bincount(data, minlength=9)\n",
    "    kernel = np.pad(np.identity(8, dtype=np.int64), ((1, 0), (0, 1)))  # discrete projection: t_x -> t_(x+1) = 1 -> 0, 2 -> 1\n",
    "    kernel[0, [6,8]] = 1  # extra projection: 0 -> 6, 8\n",
    "    kernel = np.linalg.matrix_power(kernel.astype(object), days)  # astype object to use python builtin unlimited size ints, works fine with a million\n",
    "    return (cnt @ kernel).sum()\n",
    "\n",
    "# len(str(solve_np((3,4,3,1,2), 2**20)))  # 39674"
   ]
  },
  {
   "cell_type": "code",
   "execution_count": 9,
   "metadata": {},
   "outputs": [
    {
     "name": "stdout",
     "output_type": "stream",
     "text": [
      "Part a already solved with same answer: 329389\n",
      "Part b already solved with same answer: 86397080\n"
     ]
    }
   ],
   "source": [
    "@level_ab(7, sep=\",\", apply=int, test=(\"16,1,2,0,4,2,7,1,2,14\", 37, 168))\n",
    "def solve(num, level):\n",
    "    distance = lambda n: n*(n+1)//2 if level else n\n",
    "    return min([distance(np.abs(num-i)).sum() \n",
    "                for i in range(min(num), max(num))])"
   ]
  },
  {
   "cell_type": "code",
   "execution_count": null,
   "metadata": {},
   "outputs": [],
   "source": [
    "@level_ab(8, sep=\",\", test=(\"\"\"TODO\"\"\", 0, 0))\n",
    "def solve(data, level):\n",
    "    return data"
   ]
  }
 ],
 "metadata": {
  "kernelspec": {
   "display_name": "Python 3 (ipykernel)",
   "language": "python",
   "name": "python3"
  },
  "language_info": {
   "codemirror_mode": {
    "name": "ipython",
    "version": 3
   },
   "file_extension": ".py",
   "mimetype": "text/x-python",
   "name": "python",
   "nbconvert_exporter": "python",
   "pygments_lexer": "ipython3",
   "version": "3.9.9"
  }
 },
 "nbformat": 4,
 "nbformat_minor": 4
}
