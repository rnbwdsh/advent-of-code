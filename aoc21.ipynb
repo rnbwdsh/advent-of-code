{
 "cells": [
  {
   "cell_type": "code",
   "execution_count": 1,
   "metadata": {},
   "outputs": [],
   "source": [
    "import itertools\n",
    "import re\n",
    "import math\n",
    "import json\n",
    "\n",
    "import numba\n",
    "import numpy as np\n",
    "import networkx as nx\n",
    "import matplotlib.pyplot as plt\n",
    "\n",
    "from copy import deepcopy\n",
    "from collections import Counter, defaultdict\n",
    "from more_itertools import windowed\n",
    "from scipy.signal import convolve2d\n",
    "\n",
    "from lib import level_a, level_b, level_ab  # noqa  # supress import unused warning"
   ]
  },
  {
   "cell_type": "code",
   "execution_count": 2,
   "metadata": {},
   "outputs": [
    {
     "name": "stdout",
     "output_type": "stream",
     "text": [
      "Part a already solved with same answer: 1184\n",
      "Part b already solved with same answer: 1158\n"
     ]
    }
   ],
   "source": [
    "@level_ab(1, apply=int, test=(\"199\\n200\\n208\\n210\\n200\\n207\\n240\\n269\\n260\\n263\", 7, 5))\n",
    "def solve(num, level):\n",
    "    if level:\n",
    "        num = num[2:] + num[1:-1] + num[:-2]  # 3-frame-windowing\n",
    "    return ( ( num[1:] - num[:-1] ) > 0).sum()"
   ]
  },
  {
   "cell_type": "code",
   "execution_count": 3,
   "metadata": {},
   "outputs": [
    {
     "name": "stdout",
     "output_type": "stream",
     "text": [
      "Part a already solved with same answer: 1694130\n",
      "Part b already solved with same answer: 1698850445\n"
     ]
    }
   ],
   "source": [
    "@level_ab(2, test=('forward 5\\ndown 5\\nforward 8\\nup 3\\ndown 8\\nforward 2', 150, 900))\n",
    "def solve(lines, level):\n",
    "    dirs = {\"forward\": 1j, \"up\": 1, \"down\": -1}\n",
    "    pos = aim = 0\n",
    "    for line in lines:\n",
    "        dire, dist = line.split()\n",
    "        dire, dist = dirs[dire], int(dist)\n",
    "        if level:\n",
    "            if dire.real:\n",
    "                aim += dist * dire\n",
    "            else:\n",
    "                pos += dist + dist * aim * dire\n",
    "        else:\n",
    "            pos += dire * dist\n",
    "    return np.absolute([pos.real, pos.imag]).prod(dtype=int)"
   ]
  },
  {
   "cell_type": "code",
   "execution_count": 4,
   "metadata": {},
   "outputs": [
    {
     "name": "stdout",
     "output_type": "stream",
     "text": [
      "Part a already solved with same answer: 2743844\n",
      "Part b already solved with same answer: 6677951\n"
     ]
    }
   ],
   "source": [
    "def inner(arr, level):\n",
    "    for pos in range(arr.shape[1]):\n",
    "        curr = arr[:,pos].mean(axis=0) >= 0.5  # unlike np.round, round UP on 0.5\n",
    "        curr = int(curr == level)  # invert for epsilon\n",
    "        arr = arr[arr[:,pos] == curr]  # filter array at position pos\n",
    "        if len(arr) == 1:\n",
    "            return arr[0]\n",
    "\n",
    "@level_ab(3, apply=lambda line: [int(i) for i in line], test=('00100\\n11110\\n10110\\n10111\\n10101\\n01111\\n00111\\n11100\\n10000\\n11001\\n00010\\n01010', 198, 230))\n",
    "def solve(num, level):\n",
    "    bin2dec = lambda x: int(\"\".join(map(str, x)), 2)\n",
    "\n",
    "    if level:\n",
    "        return bin2dec(inner(num, 1)) * bin2dec(inner(num, 0))\n",
    "    else:\n",
    "        gamma = num.mean(axis=0).round().astype(int)\n",
    "        epsilon = 1 - gamma  # boolean invert\n",
    "        return bin2dec(gamma) * bin2dec(epsilon)"
   ]
  },
  {
   "cell_type": "code",
   "execution_count": 5,
   "metadata": {},
   "outputs": [
    {
     "name": "stdout",
     "output_type": "stream",
     "text": [
      "Part a already solved with same answer: 60368\n",
      "Part b already solved with same answer: 17435\n"
     ]
    }
   ],
   "source": [
    "@level_ab(4, sep=\"\\n\\n\", test=('7,4,9,5,11,17,23,2,0,14,21,24,10,16,13,6,15,25,12,22,18,20,8,19,3,26,1\\n\\n22 13 17 11  0\\n 8  2 23  4 24\\n21  9 14 16  7\\n 6 10  3 18  5\\n 1 12 20 15 19\\n\\n 3 15  0  2 22\\n 9 18 13 17  5\\n19  8  7 25 23\\n20 11 10 24  4\\n14 21 16 12  6\\n\\n14 21 17 24  4\\n10 16 15  9 19\\n18  8 23 26 20\\n22 11 13  6  5\\n 2  0 12  3  7', 4512, 1924))\n",
    "def solve(chunks, level):\n",
    "    numbers, *fields = chunks\n",
    "    fields = [np.genfromtxt(field.splitlines(), dtype=int) for field in fields]\n",
    "    winners = set()\n",
    "    for number in map(int, numbers.split(\",\")):\n",
    "        for i in range(len(fields)):\n",
    "            field = fields[i]\n",
    "            fields[i][field==number] = -1\n",
    "            mask = fields[i] == -1\n",
    "            if (mask.sum(axis=0) == 5).any() or (mask.sum(axis=1) == 5).any():\n",
    "                winners.add(i)\n",
    "                if not level or len(winners) == len(fields):\n",
    "                    return number * field[~mask].sum()"
   ]
  },
  {
   "cell_type": "code",
   "execution_count": 6,
   "metadata": {},
   "outputs": [
    {
     "name": "stdout",
     "output_type": "stream",
     "text": [
      "Part a already solved with same answer: 5835\n",
      "Part b already solved with same answer: 17013\n"
     ]
    }
   ],
   "source": [
    "@level_ab(5, test=('0,9 -> 5,9\\n8,0 -> 0,8\\n9,4 -> 3,4\\n2,2 -> 2,1\\n7,0 -> 7,4\\n6,4 -> 2,0\\n0,9 -> 2,9\\n3,4 -> 1,4\\n0,0 -> 8,8\\n5,5 -> 8,2', 5, 12))\n",
    "def solve(lines, level):\n",
    "    field = defaultdict(int)\n",
    "    for line in lines:\n",
    "        start, end = [complex(*[int(i) for i in part.split(\",\")]) for part in line.split(\" -> \")]\n",
    "        dist = end - start\n",
    "        dlen = int(max(abs(dist.real), abs(dist.imag)))\n",
    "        if not dist.real or not dist.imag or (level and dist.real / dist.imag % 1 == 0):\n",
    "            for d in range(dlen+1):\n",
    "                field[start + (dist/dlen) * d] += 1\n",
    "    return sum([v > 1 for v in field.values()])"
   ]
  },
  {
   "cell_type": "code",
   "execution_count": 7,
   "metadata": {},
   "outputs": [
    {
     "name": "stdout",
     "output_type": "stream",
     "text": [
      "Part a already solved with same answer: 350149\n",
      "Part b already solved with same answer: 1590327954513\n"
     ]
    }
   ],
   "source": [
    "@level_ab(6, sep=\",\", apply=int, test=(\"3,4,3,1,2\", 5934, 26984457539))\n",
    "def solve(num, level):\n",
    "    cnt = Counter(num)\n",
    "    for i in range(256 if level else 80):\n",
    "        cnt = Counter({k-1: v for k, v in cnt.items()})\n",
    "        cnt[6] += cnt.get(-1, 0)\n",
    "        cnt[8] += cnt.get(-1, 0)\n",
    "        cnt[-1] = 0\n",
    "    return sum(cnt.values())"
   ]
  },
  {
   "cell_type": "code",
   "execution_count": 8,
   "metadata": {},
   "outputs": [],
   "source": [
    "# alt solution with matrix kernel power\n",
    "def solve_np(data, days):\n",
    "    cnt = np.bincount(data, minlength=9)\n",
    "    kernel = np.pad(np.identity(8, dtype=np.int64), ((1, 0), (0, 1)))  # discrete projection: t_x -> t_(x+1) = 1 -> 0, 2 -> 1\n",
    "    kernel[0, [6,8]] = 1  # extra projection: 0 -> 6, 8\n",
    "    kernel = np.linalg.matrix_power(kernel.astype(object), days)  # astype object to use python builtin unlimited size ints, works fine with a million\n",
    "    return (cnt @ kernel).sum()\n",
    "# len(str(solve_np((3,4,3,1,2), 2**20)))  # 39674"
   ]
  },
  {
   "cell_type": "code",
   "execution_count": 9,
   "metadata": {},
   "outputs": [
    {
     "name": "stdout",
     "output_type": "stream",
     "text": [
      "Part a already solved with same answer: 329389\n",
      "Part b already solved with same answer: 86397080\n"
     ]
    }
   ],
   "source": [
    "@level_ab(7, sep=\",\", apply=int, test=(\"16,1,2,0,4,2,7,1,2,14\", 37, 168))\n",
    "def solve(num, level):\n",
    "    distance = lambda n: n*(n+1)//2 if level else n\n",
    "    return min([distance(np.abs(num-i)).sum()\n",
    "                for i in range(min(num), max(num))])"
   ]
  },
  {
   "cell_type": "code",
   "execution_count": 10,
   "metadata": {},
   "outputs": [
    {
     "name": "stdout",
     "output_type": "stream",
     "text": [
      "Part a already solved with same answer: 421\n",
      "Part b already solved with same answer: 986163\n"
     ]
    }
   ],
   "source": [
    "@level_ab(8, apply=lambda part: (part.split(\" \") for part in part.split(\" | \")), test=('be cfbegad cbdgef fgaecd cgeb fdcge agebfd fecdb fabcd edb | fdgacbe cefdb cefbgd gcbe\\nedbfga begcd cbg gc gcadebf fbgde acbgfd abcde gfcbed gfec | fcgedb cgb dgebacf gc\\nfgaebd cg bdaec gdafb agbcfd gdcbef bgcad gfac gcb cdgabef | cg cg fdcagb cbg\\nfbegcd cbd adcefb dageb afcb bc aefdc ecdab fgdeca fcdbega | efabcd cedba gadfec cb\\naecbfdg fbg gf bafeg dbefa fcge gcbea fcaegb dgceab fcbdga | gecf egdcabf bgf bfgea\\nfgeab ca afcebg bdacfeg cfaedg gcfdb baec bfadeg bafgc acf | gebdcfa ecba ca fadegcb\\ndbcfg fgd bdegcaf fgec aegbdf ecdfab fbedc dacgb gdcebf gf | cefg dcbef fcge gbcadfe\\nbdfegc cbegaf gecbf dfcage bdacg ed bedf ced adcbefg gebcd | ed bcgafe cdgba cbgef\\negadfb cdbfeg cegd fecab cgb gbdefca cg fgcdab egfdb bfceg | gbdfcae bgc cg cgb\\ngcafb gcf dcaebfg ecagb gf abcdeg gaef cafbge fdbac fegbdc | fgae cfgab fg bagce', 26, 61229))\n",
    "def solve(lines, level):\n",
    "    total = 0\n",
    "    len2num = {2: 1, 3: 7, 4: 4, 7: 8}\n",
    "    for inp, out in lines:\n",
    "        d = {len2num.get(len(k), k): frozenset(k) for k in set(inp + out)}  # mapping: digit to set\n",
    "        set2num = {v: (3 if d[7] < v else 5 if d[4]-d[7] < v else 2) if len(v) == 5 else    # case: len5\n",
    "                      (9 if d[4] < v else 0 if d[1]      < v else 6) if len(v) == 6 else k  # case: len6 and others\n",
    "                   for k, v in d.items()}  # set2digit\n",
    "        total += int(\"\".join(str(set2num[frozenset(letter)]) for letter in out)) if level else \\\n",
    "                 len([s for s in out if len(s) in len2num.keys()])  # digits 1, 4, 7, 8\n",
    "    return total"
   ]
  },
  {
   "cell_type": "code",
   "execution_count": 11,
   "metadata": {},
   "outputs": [
    {
     "name": "stdout",
     "output_type": "stream",
     "text": [
      "Part a already solved with same answer: 498\n",
      "Part b already solved with same answer: 1071000\n"
     ]
    }
   ],
   "source": [
    "neighbors = lambda i, j: [(i-1, j), (i+1, j), (i, j-1), (i, j+1)]\n",
    "\n",
    "def watershed_size(d, i, j):\n",
    "    d[i,j] = 9\n",
    "    return 1 + sum([watershed_size(d, *n) for n in neighbors(i,j) if d[n] != 9])\n",
    "\n",
    "@level_ab(9, test=(\"2199943210\\n3987894921\\n9856789892\\n8767896789\\n9899965678\", 15, 1134))\n",
    "def solve(lines, level):\n",
    "    data = np.pad([[int(i) for i in line] for line in lines], (1, 1), constant_values=9)  # pad corner with 9\n",
    "    h, w = data.shape\n",
    "    basins = [watershed_size(data, i, j) if level else                  # recursive watershedding size algo\n",
    "              data[i][j] + 1                                            # risk level = min peak + 1\n",
    "              for i in range(1, h-1) for j in range(1, w-1)             # exclude padding\n",
    "              if all([data[i][j] < data[n] for n in neighbors(i, j)])]  # all neighbors must be smaller\n",
    "    return np.prod(sorted(basins)[-3:]) if level else sum(basins)"
   ]
  },
  {
   "cell_type": "code",
   "execution_count": 12,
   "metadata": {},
   "outputs": [
    {
     "name": "stdout",
     "output_type": "stream",
     "text": [
      "Part a already solved with same answer: 318099\n",
      "Part b already solved with same answer: 2389738699\n"
     ]
    }
   ],
   "source": [
    "score0 = {\")\": 3, \"]\": 57, \"}\": 1197, \">\": 25137}\n",
    "score1 = {\")\": 1, \"]\": 2, \"}\": 3, \">\": 4}\n",
    "close = {\")\": \"(\", \"]\": \"[\", \"}\": \"{\", \">\": \"<\"}\n",
    "score1 = {v: score1[k] for k, v in close.items()}\n",
    "\n",
    "@level_ab(10, test=('[({(<(())[]>[[{[]{<()<>>\\n[(()[<>])]({[<{<<[]>>(\\n{([(<{}[<>[]}>{[]{[(<()>\\n(((({<>}<{<{<>}{[]{[]{}\\n[[<[([]))<([[{}[[()]]]\\n[{[{({}]{}}([{[{{{}}([]\\n{<[[]]>}<{[{[{[]{()[[[]\\n[<(<(<(<{}))><([]([]()\\n<{([([[(<>()){}]>(<<{{\\n<{([{{}}[<[[[<>{}]]]>[]]', 26397, 288957))\n",
    "def solve(lines, level):\n",
    "    total = 0\n",
    "    scores = []\n",
    "    for line in lines:\n",
    "        opened = []\n",
    "        for char in line:\n",
    "            if char in close:\n",
    "                if opened and opened[-1] == close[char]:\n",
    "                    opened.pop(-1)\n",
    "                else:  # error case: no closing tag on stack\n",
    "                    total += score0[char]\n",
    "                    break\n",
    "            else:\n",
    "                opened += char\n",
    "        else:  # if no break was taken\n",
    "            subtotal = 0\n",
    "            for c in reversed(opened):\n",
    "                subtotal = subtotal * 5 + score1[c]\n",
    "            scores.append(subtotal)\n",
    "    return sorted(scores)[len(scores)//2] if level else total"
   ]
  },
  {
   "cell_type": "code",
   "execution_count": 13,
   "metadata": {},
   "outputs": [
    {
     "name": "stdout",
     "output_type": "stream",
     "text": [
      "Part a already solved with same answer: 1640\n",
      "Part b already solved with same answer: 312\n"
     ]
    }
   ],
   "source": [
    "@level_ab(11, test=('5483143223\\n2745854711\\n5264556173\\n6141336146\\n6357385478\\n4167524645\\n2176841721\\n6882881134\\n4846848554\\n5283751526', 1656, 195))\n",
    "def solve(lines, level):\n",
    "    data = np.pad([[int(i) for i in line] for line in lines], (1, 1), constant_values=-99999)\n",
    "    total = 0\n",
    "\n",
    "    for step in range(99999 if level else 100):\n",
    "        data += 1  # increase every field value by 1\n",
    "        flashed_this_step = set()\n",
    "        while data[data > 9].any():  # inner step has to be redone to propagate it\n",
    "            for x, y in zip(*np.where(data > 9)):  # for all values > 9\n",
    "                data[x-1:x+2, y-1:y+2] += 1  # increase adjacent values +1\n",
    "                flashed_this_step.add((x,y))\n",
    "            for x, y in flashed_this_step:  # reset after every sub-step, so it can't re-flash as the max number of neigh is 9\n",
    "                data[x,y] = 0\n",
    "        total += len(flashed_this_step)\n",
    "        if level and len(flashed_this_step) == 100:\n",
    "            return step+1\n",
    "    return total"
   ]
  },
  {
   "cell_type": "code",
   "execution_count": 14,
   "metadata": {},
   "outputs": [
    {
     "name": "stdout",
     "output_type": "stream",
     "text": [
      "Part a already solved with same answer: 3292\n",
      "Part b already solved with same answer: 89592\n"
     ]
    }
   ],
   "source": [
    "def all_paths(g, curr, visited, all_visited, can_twice=True):\n",
    "    visited += tuple([curr])\n",
    "    if curr == \"end\":\n",
    "        all_visited.add(visited)\n",
    "        return\n",
    "    for n in nx.neighbors(g, curr):\n",
    "        if n.isupper() or n not in visited:\n",
    "            all_paths(g, n, visited, all_visited, can_twice)\n",
    "        elif can_twice and n != \"start\":\n",
    "            all_paths(g, n, visited, all_visited, False)\n",
    "    return all_visited\n",
    "\n",
    "@level_ab(12, test=('start-A\\nstart-b\\nA-c\\nA-b\\nb-d\\nA-end\\nb-end', 10, 36))\n",
    "def solve(lines, level):\n",
    "    g = nx.Graph([line.split(\"-\") for line in lines])\n",
    "    res = all_paths(g, \"start\", tuple(), set(), can_twice=level)\n",
    "    return len(res)"
   ]
  },
  {
   "cell_type": "code",
   "execution_count": 15,
   "metadata": {},
   "outputs": [
    {
     "name": "stdout",
     "output_type": "stream",
     "text": [
      "Part a already solved with same answer: 827\n"
     ]
    },
    {
     "data": {
      "image/png": "[encoded data removed]",
      "text/plain": [
       "<Figure size 432x288 with 1 Axes>"
      ]
     },
     "metadata": {
      "needs_background": "light"
     },
     "output_type": "display_data"
    },
    {
     "data": {
      "image/png": "[encoded data removed]",
      "text/plain": [
       "<Figure size 432x288 with 1 Axes>"
      ]
     },
     "metadata": {
      "needs_background": "light"
     },
     "output_type": "display_data"
    },
    {
     "name": "stdout",
     "output_type": "stream",
     "text": [
      "Part b already solved with same answer: EAHKRECP\n"
     ]
    }
   ],
   "source": [
    "@level_ab(13, sep=\"\\n\\n\", test=('6,10\\n0,14\\n9,10\\n0,3\\n10,4\\n4,11\\n6,0\\n6,12\\n4,1\\n0,13\\n10,12\\n3,4\\n3,0\\n8,4\\n1,10\\n2,14\\n8,10\\n9,0\\n\\nfold along y=7\\nfold along x=5', 17, \"EAHKRECP\"))\n",
    "def solve(lines, level):\n",
    "    data, fold = lines\n",
    "    d = np.array([[int(i) for i in d.split(\",\")] for d in data.split(\"\\n\")])\n",
    "    field = np.zeros([np.max(d)+1]*2, dtype=bool)\n",
    "    field[tuple(d.T)] = True\n",
    "    for f in fold.split(\"\\n\"):\n",
    "        direction, dist = f.split(\"=\")\n",
    "        direction, dist = direction[-1:], int(dist)\n",
    "\n",
    "        field = field.T if direction == \"y\" else field  # y-case: just do it mirrored\n",
    "        field = field[:dist] | field[dist+1:][:dist][::-1]  # cut field, and OR it with other field reversed\n",
    "        field = field.T if direction == \"y\" else field\n",
    "\n",
    "        if not level: return field.sum()   # level1: return after first fold\n",
    "    plt.imshow(field.T)\n",
    "    plt.show()\n",
    "    return \"EAHKRECP\""
   ]
  },
  {
   "cell_type": "code",
   "execution_count": 16,
   "metadata": {},
   "outputs": [
    {
     "name": "stdout",
     "output_type": "stream",
     "text": [
      "Part a already solved with same answer: 3230\n",
      "Part b already solved with same answer: 3542388214529\n"
     ]
    }
   ],
   "source": [
    "def substitute_step(cp, rules):\n",
    "    nc = Counter()\n",
    "    for (a, b), cnt in cp.items():\n",
    "        m = rules.get(a+b, \"\")  # if not found, get empty -> new keys will be len(1), case for letter-count\n",
    "        nc[a + m] += cnt\n",
    "        nc[m + b] += cnt\n",
    "    return nc\n",
    "\n",
    "@level_ab(14, test=('NNCB\\n\\nCH -> B\\nHH -> N\\nCB -> H\\nNH -> C\\nHB -> C\\nHC -> B\\nHN -> C\\nNN -> C\\nBH -> H\\nNC -> B\\nNB -> B\\nBN -> B\\nBB -> N\\nBC -> B\\nCC -> N\\nCN -> C', 1588, 2188189693529))\n",
    "def solve(lines, level):\n",
    "    d = lines[0]\n",
    "    rules = dict([rule.split(\" -> \") for rule in lines[2:]])  # lookup dict: first, second -> insert\n",
    "    pair_cnt = Counter([d[i:i+2] for i in range(len(d)-1)])  # count pairs\n",
    "    for j in range(40 if level else 10):\n",
    "        pair_cnt = substitute_step(pair_cnt, rules)\n",
    "    letter_cnt = substitute_step(pair_cnt, {})\n",
    "    letter_cnt[d[0]] += 1  # corner case: first and last char stay const and appear 1x more\n",
    "    letter_cnt[d[-1]] += 1\n",
    "    return (max(letter_cnt.values()) - min(letter_cnt.values())) // 2"
   ]
  },
  {
   "cell_type": "code",
   "execution_count": 17,
   "metadata": {},
   "outputs": [
    {
     "name": "stdout",
     "output_type": "stream",
     "text": [
      "Part a already solved with same answer: 602\n",
      "Part b already solved with same answer: 2935\n"
     ]
    }
   ],
   "source": [
    "@level_ab(15, test=('1163751742\\n1381373672\\n2136511328\\n3694931569\\n7463417111\\n1319128137\\n1359912421\\n3125421639\\n1293138521\\n2311944581', 40, 315))\n",
    "def solve(lines, level):\n",
    "    data = np.array([[int(i) for i in line] for line in lines])\n",
    "    if level:\n",
    "        dx, dy = data.shape\n",
    "        data = np.tile(data, (5, 5))\n",
    "        for i, j in np.ndindex(5, 5):\n",
    "            data[i*dx:i*dx+dx, j*dy:j*dy+dy] += i + j\n",
    "        data = (data - 1 ) % 9 + 1  # 10 becomes 1\n",
    "\n",
    "    g = nx.DiGraph(((a, b), (x,y), {\"weight\": w})\n",
    "                   for (x, y), w in np.ndenumerate(data)\n",
    "                   for a, b in [(x-1, y), (x, y-1), (x+1, y), (x, y+1)]\n",
    "                   if a in range(len(data)) and b in range(len(data[0])))\n",
    "    dx, dy = data.shape\n",
    "    return nx.dijkstra_path_length(g, (0, 0), (dx-1, dy-1))"
   ]
  },
  {
   "cell_type": "code",
   "execution_count": 18,
   "metadata": {},
   "outputs": [
    {
     "name": "stdout",
     "output_type": "stream",
     "text": [
      "Part a already solved with same answer: 886\n",
      "Part b already solved with same answer: 184487454837\n"
     ]
    }
   ],
   "source": [
    "from bitstring import BitStream\n",
    "from operator import gt, lt, eq\n",
    "\n",
    "OPERATORS = {0: sum, 1: np.prod, 2: min, 3: max, 5: lambda a: gt(*a), 6: lambda a: lt(*a), 7: lambda a: eq(*a)}\n",
    "LITERAL_TYPEID = 4; CHUNK_SIZE = 4; LEN_CNT = 11; LEN_BITS = 15\n",
    "\n",
    "def parse(packet: BitStream):\n",
    "    version = packet.read(3).uint\n",
    "    typeid = packet.read(3).uint\n",
    "\n",
    "    if typeid == LITERAL_TYPEID:\n",
    "        val = 0\n",
    "        read_more = True\n",
    "        while read_more:  # read chunks of 1+4 = 5 until a chunk starts with 1\n",
    "            read_more = packet.read(1)\n",
    "            val = packet.read(CHUNK_SIZE).uint + (val << CHUNK_SIZE)\n",
    "    else:  # operator\n",
    "        val = []  # list of sub-packet-values\n",
    "        length_type = packet.read(1)  # 0 = bits, 1 = sub-packtets\n",
    "        length = packet.read(LEN_CNT if length_type else LEN_BITS).uint\n",
    "\n",
    "        while length > 0:  # > 0 to prevent over-reading in bits-mode\n",
    "            before = packet.pos\n",
    "            version_, val_ = parse(packet)\n",
    "\n",
    "            # substract 1 packet cnt if 1, length_type, else substract sub packet length\n",
    "            length -= 1 if length_type else packet.pos - before  # after - before = consumed length\n",
    "            version += version_  # sum up versions for part a\n",
    "            val.append(val_)  # collect values for part b\n",
    "        assert length == 0  # sanity check\n",
    "\n",
    "        val = int(OPERATORS[typeid](val))  # apply operator with typeid to values. int to turn bool into int\n",
    "    return version, val\n",
    "\n",
    "\n",
    "@level_ab(16)\n",
    "def solve(lines, level):\n",
    "    # manual tests, as the annotation doesn't allow multiple tests per level with different values\n",
    "    for h, e in zip([\"D2FE28\",\"38006F45291200\",\"EE00D40C823060\",\"8A004A801A8002F478\",\"620080001611562C8802118E34\",\"C0015000016115A2E0802F182340\",\"A0016C880162017C3686B18A3D4780\"],\n",
    "                    [6, 9, 14, 16, 12, 23, 31]):  # version sums\n",
    "        assert parse(BitStream(hex=h))[0] == e\n",
    "\n",
    "    for h, e in zip([\"C200B40A82\", \"04005AC33890\", \"880086C3E88112\", \"CE00C43D881120\", \"D8005AC2A8F0\", \"F600BC2D8F\", \"9C005AC2F8F0\", \"9C0141080250320F1802104A08\"],\n",
    "                    [3, 54, 7, 9, 1, 0, 0, 1]):  # expected values\n",
    "        assert parse(BitStream(hex=h))[1] == e\n",
    "    return parse(BitStream(hex=lines[0]))[level]"
   ]
  },
  {
   "cell_type": "code",
   "execution_count": 19,
   "metadata": {},
   "outputs": [
    {
     "name": "stdout",
     "output_type": "stream",
     "text": [
      "Part a already solved with same answer: 12090\n",
      "Part b already solved with same answer: 5059\n"
     ]
    }
   ],
   "source": [
    "@numba.njit()\n",
    "def simulate(x1, x2, y1, y2, limit=200):\n",
    "    res = []\n",
    "    for idx in numba.prange(1, limit):\n",
    "        for idy in range(-limit, limit):\n",
    "            dx, dy = idx, idy  # create copy, to not modify the loop var\n",
    "            x, y, y_max = 0, 0, 0\n",
    "            while x < x2 and y > y1 and not (dx == 0 and not (x1 <= x <= x2)):\n",
    "                x += dx\n",
    "                y += dy\n",
    "                y_max = max(y_max, y)\n",
    "                dx -= np.sign(dx)\n",
    "                dy -= 1\n",
    "                if x1 <= x <= x2 and y1 <= y <= y2:\n",
    "                    res.append(y_max)\n",
    "                    break\n",
    "    return res\n",
    "\n",
    "@level_ab(17, test=(\"\"\"target area: x=20..30, y=-10..-5\"\"\", 45, 112))\n",
    "def solve(lines, level):\n",
    "    high = list(simulate(*map(int, re.findall(\"-?\\\\d+\", lines[0]))))\n",
    "    return len(high) if level else max(high)"
   ]
  },
  {
   "cell_type": "code",
   "execution_count": 20,
   "metadata": {},
   "outputs": [
    {
     "name": "stdout",
     "output_type": "stream",
     "text": [
      "Part a already solved with same answer: 4641\n",
      "Part b already solved with same answer: 4624\n"
     ]
    }
   ],
   "source": [
    "def magnitude(d):\n",
    "    if type(d) == int:\n",
    "        return d\n",
    "    return magnitude(d[0]) * 3 + magnitude(d[1]) * 2\n",
    "\n",
    "\n",
    "def add(d, side, num, switch_side=True):\n",
    "    if type(d[side]) == int:\n",
    "        d[side] += num\n",
    "    else:\n",
    "        add(d[side], side != switch_side , num, switch_side=False)\n",
    "\n",
    "\n",
    "def split(parent):\n",
    "    for kid in parent:\n",
    "        if type(kid) == int and kid > 9:\n",
    "            parent[parent.index(kid)] = [math.floor(kid/2), math.ceil(kid/2)]\n",
    "            return True\n",
    "        elif type(kid) == list:\n",
    "            if split(kid): return True\n",
    "\n",
    "\n",
    "def explode(d0):\n",
    "    sublists = lambda l: [sub for sub in l if type(sub) == list]\n",
    "    for d1 in sublists(d0):\n",
    "        for d2 in sublists(d1):\n",
    "            for d3 in sublists(d2):\n",
    "                for d4 in sublists(d3):\n",
    "                    for side in [0, 1]:\n",
    "                        for parent, kid in windowed((d4, d3, d2, d1, d0), 2):\n",
    "                            if kid.index(parent) == int(not side):\n",
    "                                add(kid, side, d4[side])\n",
    "                                break\n",
    "                    d3[d3.index(d4)] = 0\n",
    "                    return True\n",
    "\n",
    "\n",
    "def run(lines):\n",
    "    lines = deepcopy(lines)\n",
    "    curr = lines[0]\n",
    "    for line in lines[1:]:\n",
    "        curr = [curr] + [line]\n",
    "        while explode(curr) or split(curr): pass\n",
    "    return magnitude(curr)\n",
    "\n",
    "\n",
    "@level_ab(18, test=('[[[0,[5,8]],[[1,7],[9,6]]],[[4,[1,2]],[[1,4],2]]]\\n[[[5,[2,8]],4],[5,[[9,9],0]]]\\n[6,[[[6,2],[5,6]],[[7,6],[4,7]]]]\\n[[[6,[0,7]],[0,9]],[4,[9,[9,0]]]]\\n[[[7,[6,4]],[3,[1,3]]],[[[5,5],1],9]]\\n[[6,[[7,3],[3,2]]],[[[3,8],[5,7]],4]]\\n[[[[5,4],[7,7]],8],[[8,3],8]]\\n[[9,3],[[9,9],[6,[4,9]]]]\\n[[2,[[7,7],7]],[[5,8],[[9,3],[0,2]]]]\\n[[[[5,2],5],[8,[3,7]]],[[5,[7,5]],[4,4]]]' , 4140, 3993))\n",
    "def solve(lines, level):\n",
    "    for method, inp, expected in [\n",
    "        [explode, [[[[[9,8],1],2],3],4], [[[[0, 9], 2], 3], 4]],\n",
    "        [explode, [7,[6,[5,[4,[3,2]]]]], [7, [6, [5, [7, 0]]]]],\n",
    "        [explode, [[6,[5,[4,[3,2]]]],1], [[6, [5, [7, 0]]], 3]],\n",
    "        [explode, [[3,[2,[1,[7,3]]]],[6,[5,[4,[3,2]]]]], [[3, [2, [8, 0]]], [9, [5, [4, [3, 2]]]]]],\n",
    "        [split, [11], [[5, 6]]],]:\n",
    "        oinp = str(inp)\n",
    "    method(inp)\n",
    "    assert inp == expected, f\"Failed for {method.__name__}({oinp})\\n{inp} !=\\n{expected}\"\n",
    "\n",
    "    assert magnitude([9,1]) == 29\n",
    "    assert magnitude([[9,1],[1,9]]) == 129\n",
    "    assert magnitude([[1,2],[[3,4],5]]) == 143\n",
    "    assert magnitude([[[[0,7],4],[[7,8],[6,0]]],[8,1]]) == 1384\n",
    "    assert magnitude([[[[1,1],[2,2]],[3,3]],[4,4]]) == 445\n",
    "    assert magnitude([[[[3,0],[5,3]],[4,4]],[5,5]]) == 791\n",
    "    assert magnitude([[[[5,0],[7,4]],[5,5]],[6,6]]) == 1137\n",
    "    assert magnitude([[[[8,7],[7,7]],[[8,6],[7,7]]],[[[0,7],[6,6]],[8,7]]]) == 3488\n",
    "\n",
    "    assert run([[[[[4,3],4],4],[7,[[8,4],9]]],[1,1]]) == 1384\n",
    "    assert run([[1,1],[2,2],[3,3],[4,4]]) == 445\n",
    "    assert run([[1,1],[2,2],[3,3],[4,4],[5,5]])  == 791\n",
    "    assert run([[1,1],[2,2],[3,3],[4,4],[5,5],[6,6]]) == 1137\n",
    "\n",
    "    lines = [json.loads(line) for line in lines]\n",
    "    return max(run([a, b]) for a, b in itertools.permutations(lines, 2)) if level else run(lines)"
   ]
  },
  {
   "cell_type": "code",
   "execution_count": 21,
   "metadata": {},
   "outputs": [
    {
     "name": "stdout",
     "output_type": "stream",
     "text": [
      "Part a already solved with same answer: 4641\n",
      "Part b already solved with same answer: 4624\n"
     ]
    }
   ],
   "source": [
    "# Alt solution: transform to pairs of number + layer\n",
    "def transform(d, layer = 0):  # pair of number + layer, so we can easily go forward / backwards\n",
    "    if type(d) == list:\n",
    "        for dd in d:\n",
    "            for tt in transform(dd, layer+1):\n",
    "                yield tt\n",
    "    else:\n",
    "        yield [d, layer]\n",
    "\n",
    "def mag(d):\n",
    "    for lay in range(5, 0, -1):\n",
    "        i = 0\n",
    "        while i < len(d):\n",
    "            val, layer = d[i]\n",
    "            if layer == lay:\n",
    "                d[i] = [val * 3 +  d[i+1][0] * 2, lay-1]\n",
    "                del d[i+1]\n",
    "            i += 1\n",
    "    return sum(dd[0] for dd in d)\n",
    "\n",
    "def compute(d, do_explode):\n",
    "    for i, (val, layer) in enumerate(d):\n",
    "        if layer == 5 and do_explode:  # optimization: run to he end, don't retry\n",
    "            if i > 0:\n",
    "                d[i-1][0] += val\n",
    "            if i+2 < len(d):\n",
    "                d[i+2][0] += d[i+1][0]\n",
    "            d[i] = [0, layer - 1]\n",
    "            del d[i+1]\n",
    "        elif val > 9 and not do_explode:  # split\n",
    "            d[i][0] = math.floor(val/2)\n",
    "            d[i][1] = layer+1\n",
    "            d.insert(i+1, [math.ceil(val/2), layer+1])\n",
    "            return True\n",
    "\n",
    "def run_(lines):\n",
    "    d = list(transform(lines[0]))\n",
    "    for line in lines[1:]:\n",
    "        d += transform(line)\n",
    "        for l in d:\n",
    "            l[1] += 1  # layer += 1\n",
    "        while compute(d, do_explode=True) or compute(d, do_explode=False):\n",
    "            pass\n",
    "    return mag(d)\n",
    "\n",
    "@level_ab(18, test=('[[[0,[5,8]],[[1,7],[9,6]]],[[4,[1,2]],[[1,4],2]]]\\n[[[5,[2,8]],4],[5,[[9,9],0]]]\\n[6,[[[6,2],[5,6]],[[7,6],[4,7]]]]\\n[[[6,[0,7]],[0,9]],[4,[9,[9,0]]]]\\n[[[7,[6,4]],[3,[1,3]]],[[[5,5],1],9]]\\n[[6,[[7,3],[3,2]]],[[[3,8],[5,7]],4]]\\n[[[[5,4],[7,7]],8],[[8,3],8]]\\n[[9,3],[[9,9],[6,[4,9]]]]\\n[[2,[[7,7],7]],[[5,8],[[9,3],[0,2]]]]\\n[[[[5,2],5],[8,[3,7]]],[[5,[7,5]],[4,4]]]' , 4140, 3993))\n",
    "def solve(lines, level):\n",
    "    lines = [json.loads(line) for line in lines]\n",
    "    return max(run_([a, b]) for a, b in itertools.permutations(lines, 2)) if level else run(lines)"
   ]
  },
  {
   "cell_type": "code",
   "execution_count": 22,
   "metadata": {},
   "outputs": [
    {
     "name": "stdout",
     "output_type": "stream",
     "text": [
      "Part a already solved with same answer: 308\n",
      "Part b already solved with same answer: 12124\n"
     ]
    }
   ],
   "source": [
    "ROTATORS = [(mul, channels) for channels in itertools.permutations([0, 1, 2]) for mul in itertools.product([1, -1], repeat=3)]\n",
    "\n",
    "class Scanner:\n",
    "    def __init__(self, lines):\n",
    "        hdr, *beacons = lines.split(\"\\n\")\n",
    "        self.id = int(hdr.split()[2])\n",
    "        self.beacons = np.array([[int(i) for i in b.split(\",\")] for b in beacons])\n",
    "        rel_lines = np.array([b - self.beacons for b in self.beacons])  # calculate relative distances between beacons in scanner range\n",
    "        self.perm = [[frozenset([tuple(list(row)) for row in line])  # create List(frozenset(tuples(positions)), to cross-check list with others\n",
    "                      for line in rel_lines[:, :, channels]*mul]\n",
    "                     for (mul, channels) in ROTATORS]  # precompute all possible rotations\n",
    "        if self.id == 0:\n",
    "            self.perm = self.perm[0]\n",
    "            self.aligned = True\n",
    "\n",
    "    pos = np.array([0, 0, 0])\n",
    "    aligned = False\n",
    "\n",
    "    def align(self, other: \"Scanner\"):\n",
    "        if self.aligned or not other.aligned: return\n",
    "        for i_other, perm_other in enumerate(other.perm):\n",
    "            for rot_id, perms in enumerate(self.perm):\n",
    "                for i, perm in enumerate(perms):\n",
    "                    if len(perm & perm_other) >= 12:  # the relative to self dist = 0 is missing\n",
    "                        mul, channels = ROTATORS[rot_id]\n",
    "                        self.beacons = self.beacons[:, channels] * mul\n",
    "                        self.pos = other.beacons[i_other] - self.beacons[i]\n",
    "                        self.perm = self.perm[rot_id]\n",
    "                        self.beacons += self.pos\n",
    "                        self.aligned = True\n",
    "                        # print(f\"Rotation {rot_id} scanner {self.id} of {other.id}\\t\\tItems: {len(o_perm & s_perm)} / {len(self.permutations[0])}\\t\\tPos {other.id}: {other.pos}\")\n",
    "                        return\n",
    "\n",
    "\n",
    "@level_ab(19, sep=\"\\n\\n\", test=('--- scanner 0 ---\\n404,-588,-901\\n528,-643,409\\n-838,591,734\\n390,-675,-793\\n-537,-823,-458\\n-485,-357,347\\n-345,-311,381\\n-661,-816,-575\\n-876,649,763\\n-618,-824,-621\\n553,345,-567\\n474,580,667\\n-447,-329,318\\n-584,868,-557\\n544,-627,-890\\n564,392,-477\\n455,729,728\\n-892,524,684\\n-689,845,-530\\n423,-701,434\\n7,-33,-71\\n630,319,-379\\n443,580,662\\n-789,900,-551\\n459,-707,401\\n\\n--- scanner 1 ---\\n686,422,578\\n605,423,415\\n515,917,-361\\n-336,658,858\\n95,138,22\\n-476,619,847\\n-340,-569,-846\\n567,-361,727\\n-460,603,-452\\n669,-402,600\\n729,430,532\\n-500,-761,534\\n-322,571,750\\n-466,-666,-811\\n-429,-592,574\\n-355,545,-477\\n703,-491,-529\\n-328,-685,520\\n413,935,-424\\n-391,539,-444\\n586,-435,557\\n-364,-763,-893\\n807,-499,-711\\n755,-354,-619\\n553,889,-390\\n\\n--- scanner 2 ---\\n649,640,665\\n682,-795,504\\n-784,533,-524\\n-644,584,-595\\n-588,-843,648\\n-30,6,44\\n-674,560,763\\n500,723,-460\\n609,671,-379\\n-555,-800,653\\n-675,-892,-343\\n697,-426,-610\\n578,704,681\\n493,664,-388\\n-671,-858,530\\n-667,343,800\\n571,-461,-707\\n-138,-166,112\\n-889,563,-600\\n646,-828,498\\n640,759,510\\n-630,509,768\\n-681,-892,-333\\n673,-379,-804\\n-742,-814,-386\\n577,-820,562\\n\\n--- scanner 3 ---\\n-589,542,597\\n605,-692,669\\n-500,565,-823\\n-660,373,557\\n-458,-679,-417\\n-488,449,543\\n-626,468,-788\\n338,-750,-386\\n528,-832,-391\\n562,-778,733\\n-938,-730,414\\n543,643,-506\\n-524,371,-870\\n407,773,750\\n-104,29,83\\n378,-903,-323\\n-778,-728,485\\n426,699,580\\n-438,-605,-362\\n-469,-447,-387\\n509,732,623\\n647,635,-688\\n-868,-804,481\\n614,-800,639\\n595,780,-596\\n\\n--- scanner 4 ---\\n727,592,562\\n-293,-554,779\\n441,611,-461\\n-714,465,-776\\n-743,427,-804\\n-660,-479,-426\\n832,-632,460\\n927,-485,-438\\n408,393,-506\\n466,436,-512\\n110,16,151\\n-258,-428,682\\n-393,719,612\\n-211,-452,876\\n808,-476,-593\\n-575,615,604\\n-485,667,467\\n-680,325,-822\\n-627,-443,-432\\n872,-547,-609\\n833,512,582\\n807,604,487\\n839,-516,451\\n891,-625,532\\n-652,-548,-490\\n30,-46,-14', 79, 3621))\n",
    "def solve(chunks, level):\n",
    "    scanners = [Scanner(chunk) for chunk in chunks]\n",
    "    while not all(s.aligned for s in scanners):\n",
    "        for a, b in itertools.permutations(scanners, 2):\n",
    "            a.align(b)            \n",
    "    return max(np.abs(a.pos - b.pos).sum() for a, b in itertools.combinations(scanners, 2)) if level else \\\n",
    "           len({tuple(pos) for s in scanners for pos in s.beacons})  # number of unique points in a set"
   ]
  },
  {
   "cell_type": "code",
   "execution_count": 23,
   "metadata": {},
   "outputs": [
    {
     "name": "stdout",
     "output_type": "stream",
     "text": [
      "Part a already solved with same answer: 5573\n",
      "Part b already solved with same answer: 20097\n"
     ]
    }
   ],
   "source": [
    "@level_ab(20, sep=\"\\n\\n\", test=('..#.#..#####.#.#.#.###.##.....###.##.#..###.####..#####..#....#..#..##..###..######.###...####..#..#####..##..#.#####...##.#.#..#.##..#.#......#.###.######.###.####...#.##.##..#..#..#####.....#.#....###..#.##......#.....#..#..#..##..#...##.######.####.####.#.#...#.......#..#.#.#...####.##.#......#..#...##.#.##..#...##.#.##..###.#......#.#.......#.#.#.####.###.##...#.....####.#..#..#.##.#....##..#.####....##...##..#...#......#.#.......#.......##..####..#...#.#.#...##..#.#..###..#####........#..####......#..#\\n\\n#..#.\\n#....\\n##..#\\n..#..\\n..###', 35, 3351))\n",
    "def solve(lines, level):\n",
    "    mapping, field = lines\n",
    "    mapping = (np.array(list(mapping)) == \"#\").astype(int)\n",
    "    field = np.pad((np.array([list(line) for line in field.split(\"\\n\")]) == \"#\").astype(int), 100 if level else 4)\n",
    "    for _ in range(50 if level else 2):\n",
    "        field = convolve2d(field, [[1,2,4], [8, 16, 32], [64, 128, 256]], mode=\"valid\")\n",
    "        for pos, val in np.ndenumerate(field): field[pos] = mapping[val]\n",
    "    return field.sum()"
   ]
  },
  {
   "cell_type": "code",
   "execution_count": null,
   "metadata": {},
   "outputs": [],
   "source": [
    "@level_a(21, test=(\"\"\"asdf\"\"\", 1, 2))\n",
    "def solve(lines, level):\n",
    "    return lines"
   ]
  },
  {
   "cell_type": "code",
   "execution_count": null,
   "metadata": {},
   "outputs": [],
   "source": [
    "@level_a(22, test=(\"\"\"asdf\"\"\", 1, 2))\n",
    "def solve(lines, level):\n",
    "    return lines"
   ]
  },
  {
   "cell_type": "code",
   "execution_count": null,
   "metadata": {},
   "outputs": [],
   "source": [
    "@level_a(23, test=(\"\"\"asdf\"\"\", 1, 2))\n",
    "def solve(lines, level):\n",
    "    return lines"
   ]
  },
  {
   "cell_type": "code",
   "execution_count": null,
   "metadata": {},
   "outputs": [],
   "source": [
    "@level_a(24, test=(\"\"\"asdf\"\"\", 1, 2))\n",
    "def solve(lines, level):\n",
    "    return lines\n"
   ]
  }
 ],
 "metadata": {
  "kernelspec": {
   "display_name": "Python 3 (ipykernel)",
   "language": "python",
   "name": "python3"
  },
  "language_info": {
   "codemirror_mode": {
    "name": "ipython",
    "version": 3
   },
   "file_extension": ".py",
   "mimetype": "text/x-python",
   "name": "python",
   "nbconvert_exporter": "python",
   "pygments_lexer": "ipython3",
   "version": "3.10.1"
  }
 },
 "nbformat": 4,
 "nbformat_minor": 4
}
