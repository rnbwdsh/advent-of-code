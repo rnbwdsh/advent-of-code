{
 "cells": [
  {
   "cell_type": "code",
   "execution_count": 1,
   "metadata": {},
   "outputs": [],
   "source": [
    "import itertools\n",
    "import re\n",
    "import math\n",
    "\n",
    "import numpy as np\n",
    "import networkx as nx\n",
    "from io import StringIO\n",
    "\n",
    "from functools import lru_cache\n",
    "from collections import Counter, defaultdict\n",
    "from lib import imag2tup, tup2imag, bin2dec, level_a, level_b, level_ab"
   ]
  },
  {
   "cell_type": "code",
   "execution_count": 2,
   "metadata": {},
   "outputs": [
    {
     "name": "stdout",
     "output_type": "stream",
     "text": [
      "Part a already solved with same answer: 1184\n",
      "Part b already solved with same answer: 1158\n"
     ]
    }
   ],
   "source": [
    "@level_ab(1, test=(\"199\\n200\\n208\\n210\\n200\\n207\\n240\\n269\\n260\\n263\", 7, 5))\n",
    "def solve(lines, method):\n",
    "    data = np.array([int(line) for line in lines])\n",
    "    if method:\n",
    "        data = data[2:] + data[1:-1] + data[:-2]  # 3-frame-windowing\n",
    "    return ( ( data[1:] - data[:-1] ) > 0).sum()"
   ]
  },
  {
   "cell_type": "code",
   "execution_count": 3,
   "metadata": {},
   "outputs": [
    {
     "name": "stdout",
     "output_type": "stream",
     "text": [
      "Part a already solved with same answer: 1694130\n",
      "Part b already solved with same answer: 1698850445\n"
     ]
    }
   ],
   "source": [
    "@level_ab(2, test=('forward 5\\ndown 5\\nforward 8\\nup 3\\ndown 8\\nforward 2', 150, 900))\n",
    "def solve(lines, method):\n",
    "    DIRS = {\"forward\": 1j, \"up\": 1, \"down\": -1}\n",
    "    pos = aim = 0\n",
    "    for line in lines:\n",
    "        dir, dist = line.split()\n",
    "        dir, dist = DIRS[dir], int(dist)\n",
    "        if method:\n",
    "            if dir.real:\n",
    "                aim += dist * dir\n",
    "            else:\n",
    "                pos += dist + dist * aim * dir\n",
    "        else:\n",
    "            pos += dir * dist\n",
    "    return np.absolute(imag2tup(pos)).prod()"
   ]
  },
  {
   "cell_type": "code",
   "execution_count": 4,
   "metadata": {},
   "outputs": [
    {
     "name": "stdout",
     "output_type": "stream",
     "text": [
      "Part a already solved with same answer: 2743844\n",
      "Part b already solved with same answer: 6677951\n"
     ]
    }
   ],
   "source": [
    "def inner(arr, method):\n",
    "    for pos in range(arr.shape[1]):\n",
    "        curr = arr[:,pos].mean(axis=0) >= 0.5  # unlike np.round, round UP on 0.5\n",
    "        curr = int(curr == method)  # invert for epsilon\n",
    "        arr = arr[arr[:,pos] == curr]  # filter array at position pos\n",
    "        if len(arr) == 1:\n",
    "            return arr[0]\n",
    "\n",
    "@level_ab(3, test=('00100\\n11110\\n10110\\n10111\\n10101\\n01111\\n00111\\n11100\\n10000\\n11001\\n00010\\n01010', 198, 230))\n",
    "def solve(lines, method):\n",
    "    arr = np.array([[int(i) for i in line] for line in lines], dtype=int)\n",
    "    \n",
    "    if method:\n",
    "        return bin2dec(inner(arr, 1)) * bin2dec(inner(arr, 0))\n",
    "    else:\n",
    "        gamma = arr.mean(axis=0).round().astype(int)\n",
    "        epsilon = 1 - gamma  # boolean invert\n",
    "        return bin2dec(gamma) * bin2dec(epsilon)"
   ]
  },
  {
   "cell_type": "code",
   "execution_count": 5,
   "metadata": {},
   "outputs": [
    {
     "name": "stdout",
     "output_type": "stream",
     "text": [
      "Part a already solved with same answer: 60368\n",
      "Part b already solved with same answer: 17435\n"
     ]
    }
   ],
   "source": [
    "@level_ab(4, sep=\"\\n\\n\", test=('7,4,9,5,11,17,23,2,0,14,21,24,10,16,13,6,15,25,12,22,18,20,8,19,3,26,1\\n\\n22 13 17 11  0\\n 8  2 23  4 24\\n21  9 14 16  7\\n 6 10  3 18  5\\n 1 12 20 15 19\\n\\n 3 15  0  2 22\\n 9 18 13 17  5\\n19  8  7 25 23\\n20 11 10 24  4\\n14 21 16 12  6\\n\\n14 21 17 24  4\\n10 16 15  9 19\\n18  8 23 26 20\\n22 11 13  6  5\\n 2  0 12  3  7', 4512, 1924))\n",
    "def solve(lines, method):\n",
    "    numbers, *fields = lines\n",
    "    fields = [np.genfromtxt(field.splitlines(), dtype=int) for field in fields]\n",
    "    winners = set()\n",
    "    for number in map(int, numbers.split(\",\")):\n",
    "        for i in range(len(fields)):\n",
    "            field = fields[i]\n",
    "            fields[i][field==number] = -1\n",
    "            mask = fields[i] == -1\n",
    "            if (mask.sum(axis=0) == 5).any() or (mask.sum(axis=1) == 5).any():\n",
    "                winners.add(i)\n",
    "                if not method or len(winners) == len(fields):\n",
    "                    return number * field[~mask].sum()"
   ]
  },
  {
   "cell_type": "code",
   "execution_count": 8,
   "metadata": {},
   "outputs": [
    {
     "ename": "PuzzleLockedError",
     "evalue": "2021/05 not available yet",
     "output_type": "error",
     "traceback": [
      "\u001b[0;31m---------------------------------------------------------------------------\u001b[0m",
      "\u001b[0;31mPuzzleLockedError\u001b[0m                         Traceback (most recent call last)",
      "\u001b[0;32m/tmp/ipykernel_22584/467461099.py\u001b[0m in \u001b[0;36m<module>\u001b[0;34m\u001b[0m\n\u001b[1;32m      1\u001b[0m \u001b[0;34m@\u001b[0m\u001b[0mlevel_ab\u001b[0m\u001b[0;34m(\u001b[0m\u001b[0;36m5\u001b[0m\u001b[0;34m,\u001b[0m \u001b[0mtest\u001b[0m\u001b[0;34m=\u001b[0m\u001b[0;34m(\u001b[0m\u001b[0;34m\"\"\"asdf\"\"\"\u001b[0m\u001b[0;34m,\u001b[0m \u001b[0;36m4512\u001b[0m\u001b[0;34m,\u001b[0m \u001b[0;36m1924\u001b[0m\u001b[0;34m)\u001b[0m\u001b[0;34m)\u001b[0m\u001b[0;34m\u001b[0m\u001b[0;34m\u001b[0m\u001b[0m\n\u001b[0;32m----> 2\u001b[0;31m \u001b[0;32mdef\u001b[0m \u001b[0msolve\u001b[0m\u001b[0;34m(\u001b[0m\u001b[0mlines\u001b[0m\u001b[0;34m,\u001b[0m \u001b[0mmethod\u001b[0m\u001b[0;34m)\u001b[0m\u001b[0;34m:\u001b[0m\u001b[0;34m\u001b[0m\u001b[0;34m\u001b[0m\u001b[0m\n\u001b[0m\u001b[1;32m      3\u001b[0m     \u001b[0;32mreturn\u001b[0m \u001b[0;36m4512\u001b[0m\u001b[0;34m\u001b[0m\u001b[0;34m\u001b[0m\u001b[0m\n",
      "\u001b[0;32m~/Desktop/advent-of-code/lib.py\u001b[0m in \u001b[0;36msolver\u001b[0;34m(solve)\u001b[0m\n\u001b[1;32m     21\u001b[0m \u001b[0;34m\u001b[0m\u001b[0m\n\u001b[1;32m     22\u001b[0m             \u001b[0;31m# solve real\u001b[0m\u001b[0;34m\u001b[0m\u001b[0;34m\u001b[0m\u001b[0m\n\u001b[0;32m---> 23\u001b[0;31m             \u001b[0msol\u001b[0m \u001b[0;34m=\u001b[0m \u001b[0msolve\u001b[0m\u001b[0;34m(\u001b[0m\u001b[0mget_data\u001b[0m\u001b[0;34m(\u001b[0m\u001b[0mday\u001b[0m\u001b[0;34m=\u001b[0m\u001b[0mday\u001b[0m\u001b[0;34m)\u001b[0m\u001b[0;34m.\u001b[0m\u001b[0msplit\u001b[0m\u001b[0;34m(\u001b[0m\u001b[0msep\u001b[0m\u001b[0;34m)\u001b[0m\u001b[0;34m,\u001b[0m \u001b[0mmethod\u001b[0m\u001b[0;34m)\u001b[0m\u001b[0;34m\u001b[0m\u001b[0;34m\u001b[0m\u001b[0m\n\u001b[0m\u001b[1;32m     24\u001b[0m             \u001b[0msubmit\u001b[0m\u001b[0;34m(\u001b[0m\u001b[0msol\u001b[0m\u001b[0;34m,\u001b[0m \u001b[0;34m'ab'\u001b[0m\u001b[0;34m[\u001b[0m\u001b[0mmethod\u001b[0m\u001b[0;34m]\u001b[0m\u001b[0;34m,\u001b[0m \u001b[0mday\u001b[0m\u001b[0;34m=\u001b[0m\u001b[0mday\u001b[0m\u001b[0;34m,\u001b[0m \u001b[0mquiet\u001b[0m\u001b[0;34m=\u001b[0m\u001b[0mquiet\u001b[0m\u001b[0;34m)\u001b[0m\u001b[0;34m\u001b[0m\u001b[0;34m\u001b[0m\u001b[0m\n\u001b[1;32m     25\u001b[0m         \u001b[0;32mreturn\u001b[0m \u001b[0msolve\u001b[0m \u001b[0;31m# return the original function, so you can put another annotation on it\u001b[0m\u001b[0;34m\u001b[0m\u001b[0;34m\u001b[0m\u001b[0m\n",
      "\u001b[0;32m~/.local/lib/python3.9/site-packages/aocd/get.py\u001b[0m in \u001b[0;36mget_data\u001b[0;34m(session, day, year, block)\u001b[0m\n\u001b[1;32m     40\u001b[0m     \u001b[0mpuzzle\u001b[0m \u001b[0;34m=\u001b[0m \u001b[0mPuzzle\u001b[0m\u001b[0;34m(\u001b[0m\u001b[0myear\u001b[0m\u001b[0;34m=\u001b[0m\u001b[0myear\u001b[0m\u001b[0;34m,\u001b[0m \u001b[0mday\u001b[0m\u001b[0;34m=\u001b[0m\u001b[0mday\u001b[0m\u001b[0;34m,\u001b[0m \u001b[0muser\u001b[0m\u001b[0;34m=\u001b[0m\u001b[0muser\u001b[0m\u001b[0;34m)\u001b[0m\u001b[0;34m\u001b[0m\u001b[0;34m\u001b[0m\u001b[0m\n\u001b[1;32m     41\u001b[0m     \u001b[0;32mtry\u001b[0m\u001b[0;34m:\u001b[0m\u001b[0;34m\u001b[0m\u001b[0;34m\u001b[0m\u001b[0m\n\u001b[0;32m---> 42\u001b[0;31m         \u001b[0;32mreturn\u001b[0m \u001b[0mpuzzle\u001b[0m\u001b[0;34m.\u001b[0m\u001b[0minput_data\u001b[0m\u001b[0;34m\u001b[0m\u001b[0;34m\u001b[0m\u001b[0m\n\u001b[0m\u001b[1;32m     43\u001b[0m     \u001b[0;32mexcept\u001b[0m \u001b[0mPuzzleLockedError\u001b[0m\u001b[0;34m:\u001b[0m\u001b[0;34m\u001b[0m\u001b[0;34m\u001b[0m\u001b[0m\n\u001b[1;32m     44\u001b[0m         \u001b[0;32mif\u001b[0m \u001b[0;32mnot\u001b[0m \u001b[0mblock\u001b[0m\u001b[0;34m:\u001b[0m\u001b[0;34m\u001b[0m\u001b[0;34m\u001b[0m\u001b[0m\n",
      "\u001b[0;32m~/.local/lib/python3.9/site-packages/aocd/models.py\u001b[0m in \u001b[0;36minput_data\u001b[0;34m(self)\u001b[0m\n\u001b[1;32m    200\u001b[0m         \u001b[0;32mif\u001b[0m \u001b[0;32mnot\u001b[0m \u001b[0mresponse\u001b[0m\u001b[0;34m.\u001b[0m\u001b[0mok\u001b[0m\u001b[0;34m:\u001b[0m\u001b[0;34m\u001b[0m\u001b[0;34m\u001b[0m\u001b[0m\n\u001b[1;32m    201\u001b[0m             \u001b[0;32mif\u001b[0m \u001b[0mresponse\u001b[0m\u001b[0;34m.\u001b[0m\u001b[0mstatus_code\u001b[0m \u001b[0;34m==\u001b[0m \u001b[0;36m404\u001b[0m\u001b[0;34m:\u001b[0m\u001b[0;34m\u001b[0m\u001b[0;34m\u001b[0m\u001b[0m\n\u001b[0;32m--> 202\u001b[0;31m                 \u001b[0;32mraise\u001b[0m \u001b[0mPuzzleLockedError\u001b[0m\u001b[0;34m(\u001b[0m\u001b[0;34m\"{}/{:02d} not available yet\"\u001b[0m\u001b[0;34m.\u001b[0m\u001b[0mformat\u001b[0m\u001b[0;34m(\u001b[0m\u001b[0mself\u001b[0m\u001b[0;34m.\u001b[0m\u001b[0myear\u001b[0m\u001b[0;34m,\u001b[0m \u001b[0mself\u001b[0m\u001b[0;34m.\u001b[0m\u001b[0mday\u001b[0m\u001b[0;34m)\u001b[0m\u001b[0;34m)\u001b[0m\u001b[0;34m\u001b[0m\u001b[0;34m\u001b[0m\u001b[0m\n\u001b[0m\u001b[1;32m    203\u001b[0m             \u001b[0mlog\u001b[0m\u001b[0;34m.\u001b[0m\u001b[0merror\u001b[0m\u001b[0;34m(\u001b[0m\u001b[0;34m\"got %s status code token=%s\"\u001b[0m\u001b[0;34m,\u001b[0m \u001b[0mresponse\u001b[0m\u001b[0;34m.\u001b[0m\u001b[0mstatus_code\u001b[0m\u001b[0;34m,\u001b[0m \u001b[0msanitized\u001b[0m\u001b[0;34m)\u001b[0m\u001b[0;34m\u001b[0m\u001b[0;34m\u001b[0m\u001b[0m\n\u001b[1;32m    204\u001b[0m             \u001b[0mlog\u001b[0m\u001b[0;34m.\u001b[0m\u001b[0merror\u001b[0m\u001b[0;34m(\u001b[0m\u001b[0mresponse\u001b[0m\u001b[0;34m.\u001b[0m\u001b[0mtext\u001b[0m\u001b[0;34m)\u001b[0m\u001b[0;34m\u001b[0m\u001b[0;34m\u001b[0m\u001b[0m\n",
      "\u001b[0;31mPuzzleLockedError\u001b[0m: 2021/05 not available yet"
     ]
    }
   ],
   "source": [
    "@level_ab(5, test=(\"\"\"asdf\"\"\", 4512, 1924))\n",
    "def solve(lines, method):\n",
    "    return 4512"
   ]
  }
 ],
 "metadata": {
  "kernelspec": {
   "display_name": "Python 3 (ipykernel)",
   "language": "python",
   "name": "python3"
  },
  "language_info": {
   "codemirror_mode": {
    "name": "ipython",
    "version": 3
   },
   "file_extension": ".py",
   "mimetype": "text/x-python",
   "name": "python",
   "nbconvert_exporter": "python",
   "pygments_lexer": "ipython3",
   "version": "3.9.9"
  }
 },
 "nbformat": 4,
 "nbformat_minor": 4
}
