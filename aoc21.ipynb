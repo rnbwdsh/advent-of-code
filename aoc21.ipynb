{
 "cells": [
  {
   "cell_type": "code",
   "execution_count": 4,
   "metadata": {},
   "outputs": [],
   "source": [
    "import itertools\n",
    "import re\n",
    "import math\n",
    "\n",
    "import numpy as np\n",
    "import networkx as nx\n",
    "\n",
    "from functools import lru_cache\n",
    "from collections import Counter, defaultdict\n",
    "from aocd.transforms import lines, numbers\n",
    "from lib import imag2tup, tup2imag, level_a, level_b, level_ab, setdata, testdata\n",
    "\n",
    "setdata([\"199\\n200\\n208\\n210\\n200\\n207\\n240\\n269\\n260\\n263\", 'forward 5\\ndown 5\\nforward 8\\nup 3\\ndown 8\\nforward 2',\n",
    "        \"\"\"asdf\"\"\"])"
   ]
  },
  {
   "cell_type": "code",
   "execution_count": 6,
   "metadata": {},
   "outputs": [
    {
     "name": "stdout",
     "output_type": "stream",
     "text": [
      "Ex. 1a\t7\n",
      "Lvl 1a\t1184\n",
      "Ex. 1b\t5\n",
      "Lvl 1b\t1158\n"
     ]
    }
   ],
   "source": [
    "@level_ab(1)\n",
    "def solve(data, method=0):\n",
    "    data = np.array(numbers(data))\n",
    "    if method:\n",
    "        data = data[2:] + data[1:-1] + data[:-2]  # 3-frame-windowing\n",
    "    return ( ( data[1:] - data[:-1] ) > 0).sum()"
   ]
  },
  {
   "cell_type": "code",
   "execution_count": 11,
   "metadata": {},
   "outputs": [
    {
     "name": "stdout",
     "output_type": "stream",
     "text": [
      "Ex. 2a\t150\n",
      "Lvl 2a\t1694130\n",
      "Ex. 2b\t900\n",
      "Lvl 2b\t1698850445\n"
     ]
    }
   ],
   "source": [
    "@level_ab(2)\n",
    "def solve(data, method=1):\n",
    "    DIRS = {\"forward\": 1j, \"up\": 1, \"down\": -1}\n",
    "    pos = aim = 0\n",
    "    for line in data.split(\"\\n\"):\n",
    "        dir, dist = line.split()\n",
    "        dir, dist = DIRS[dir], int(dist)\n",
    "        if method:\n",
    "            if dir.real:\n",
    "                aim += dist * dir\n",
    "            else:\n",
    "                pos += dist + dist * aim * dir\n",
    "        else:\n",
    "            pos += dir * dist\n",
    "    return np.absolute(imag2tup(pos)).prod()"
   ]
  },
  {
   "cell_type": "code",
   "execution_count": 8,
   "metadata": {},
   "outputs": [
    {
     "name": "stdout",
     "output_type": "stream",
     "text": [
      "Ex. 2a\t150\n",
      "Lvl 2a\t1694130\n",
      "Ex. 2b\t900\n",
      "Lvl 2b\t1698850445\n"
     ]
    }
   ],
   "source": [
    "@level_ab(3)\n",
    "def solve(data, method=1):\n",
    "    pos = aim = 0\n",
    "    for line in lines(data):\n",
    "        pos += int(line)\n",
    "    return pos"
   ]
  },
  {
   "cell_type": "code",
   "execution_count": null,
   "metadata": {},
   "outputs": [],
   "source": [
    "@level_ab(4)\n",
    "def solve(data, method=1):\n",
    "    pos = aim = 0\n",
    "    for line in lines(data):\n",
    "        pos += int(line)\n",
    "    return pos"
   ]
  }
 ],
 "metadata": {
  "kernelspec": {
   "display_name": "Python 3 (ipykernel)",
   "language": "python",
   "name": "python3"
  },
  "language_info": {
   "codemirror_mode": {
    "name": "ipython",
    "version": 3
   },
   "file_extension": ".py",
   "mimetype": "text/x-python",
   "name": "python",
   "nbconvert_exporter": "python",
   "pygments_lexer": "ipython3",
   "version": "3.9.9"
  }
 },
 "nbformat": 4,
 "nbformat_minor": 4
}
