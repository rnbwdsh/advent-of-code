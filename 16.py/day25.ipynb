{
 "cells": [
  {
   "cell_type": "code",
   "execution_count": 35,
   "metadata": {},
   "outputs": [
    {
     "name": "stdout",
     "output_type": "stream",
     "text": [
      "Number of clusters 383\n"
     ]
    }
   ],
   "source": [
    "import numpy as np\n",
    "import networkx as nx\n",
    "from scipy.spatial.distance import cityblock as manhattan\n",
    "from scipy.cluster.hierarchy import fclusterdata\n",
    "\n",
    "a = \"\"\" 0,0,0,0\n",
    " 3,0,0,0\n",
    " 0,3,0,0\n",
    " 0,0,3,0\n",
    " 0,0,0,3\n",
    " 0,0,0,6\n",
    " 9,0,0,0\n",
    "12,0,0,0\"\"\"\n",
    "\"\"\"-1,2,2,0\n",
    "0,0,2,-2\n",
    "0,0,0,-2\n",
    "-1,2,0,0\n",
    "-2,-2,-2,2\n",
    "3,0,2,-1\n",
    "-1,3,2,2\n",
    "-1,0,-1,0\n",
    "0,2,1,-2\n",
    "3,0,0,0\"\"\"\n",
    "a = open(\"day25.txt\").read().strip()\n",
    "pointgroups = [np.array(list(map(int, aa.split(\",\")))) for aa in a.split(\"\\n\")]\n",
    "#print(pointgroups)\n",
    "clu = fclusterdata(pointgroups, t=3.0, criterion='distance', metric=manhattan)\n",
    "print(\"Number of clusters\", max(clu))"
   ]
  }
 ],
 "metadata": {
  "kernelspec": {
   "display_name": "Python 3",
   "language": "python",
   "name": "python3"
  },
  "language_info": {
   "codemirror_mode": {
    "name": "ipython",
    "version": 3
   },
   "file_extension": ".py",
   "mimetype": "text/x-python",
   "name": "python",
   "nbconvert_exporter": "python",
   "pygments_lexer": "ipython3",
   "version": "3.7.1"
  }
 },
 "nbformat": 4,
 "nbformat_minor": 2
}
