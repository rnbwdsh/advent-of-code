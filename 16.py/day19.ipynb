{
 "cells": [
  {
   "cell_type": "code",
   "execution_count": 14,
   "metadata": {},
   "outputs": [
    {
     "name": "stdout",
     "output_type": "stream",
     "text": [
      "regs: [912, 911, 911, 1, 7, 1]\n"
     ]
    }
   ],
   "source": [
    "reg = [0, 0, 0, 0, 0, 0]\n",
    "a = \"\"\"seti 5 0 1\n",
    "seti 6 0 2\n",
    "addi 0 1 0\n",
    "addr 1 2 3\n",
    "setr 1 0 0\n",
    "seti 8 0 4\n",
    "seti 9 0 5\"\"\"\n",
    "IPADDR = 0\n",
    "a = \"\"\"addi 4 16 4\n",
    "seti 1 7 2\n",
    "seti 1 1 5\n",
    "mulr 2 5 3\n",
    "eqrr 3 1 3\n",
    "addr 3 4 4\n",
    "addi 4 1 4\n",
    "addr 2 0 0\n",
    "addi 5 1 5\n",
    "gtrr 5 1 3\n",
    "addr 4 3 4\n",
    "seti 2 7 4\n",
    "addi 2 1 2\n",
    "gtrr 2 1 3\n",
    "addr 3 4 4\n",
    "seti 1 3 4\n",
    "mulr 4 4 4\n",
    "addi 1 2 1\n",
    "mulr 1 1 1\n",
    "mulr 4 1 1\n",
    "muli 1 11 1\n",
    "addi 3 3 3\n",
    "mulr 3 4 3\n",
    "addi 3 9 3\n",
    "addr 1 3 1\n",
    "addr 4 0 4\n",
    "seti 0 1 4\n",
    "setr 4 9 3\n",
    "mulr 3 4 3\n",
    "addr 4 3 3\n",
    "mulr 4 3 3\n",
    "muli 3 14 3\n",
    "mulr 3 4 3\n",
    "addr 1 3 1\n",
    "seti 0 6 0\n",
    "seti 0 7 4\"\"\"\n",
    "IPADDR = 4\n",
    "instr = [\"seti\", \"setr\", \"addi\", \"addr\", \"muli\", \"mulr\", \"eqrr\", \"gtrr\"]\n",
    "a = [ aa.split() for aa in a.split(\"\\n\")]\n",
    "for i in range(len(a)):\n",
    "    a[i] = [instr.index(a[i][0])] + list(map(int,a[i][1:]))\n",
    "prog = a\n",
    "\n",
    "while reg[0] < len(prog):\n",
    "    instr, a, b, c = prog[reg[IPADDR]]\n",
    "    \n",
    "    #print(\"regs:\", reg)\n",
    "    #print(\"before\", prog[reg[IPADDR]])\n",
    "    \n",
    "    if instr == 0:\n",
    "        reg[c] = a\n",
    "    elif instr == 1:\n",
    "        reg[c] = reg[a]\n",
    "    elif instr == 2:\n",
    "        reg[c] = reg[a] + b\n",
    "    elif instr == 3:\n",
    "        reg[c] = reg[a] + reg[b]\n",
    "    elif instr == 4:\n",
    "        reg[c] = reg[a] * b\n",
    "    elif instr == 5:\n",
    "        reg[c] = reg[a] * reg[b]\n",
    "    elif instr == 6:\n",
    "        reg[c] = int(reg[a] == reg[b])\n",
    "    elif instr == 7:\n",
    "        reg[c] = int(reg[a] > reg[b])\n",
    "    else:\n",
    "        print(\"unknown instruction\", instr)\n",
    "    #if reg[1] == 10551311:\n",
    "    #    reg[1] = 10551311//100\n",
    "    \n",
    "    reg[IPADDR] += 1\n",
    "\n",
    "reg[IPADDR]-=1\n",
    "print(\"regs:\", reg)"
   ]
  },
  {
   "cell_type": "code",
   "execution_count": 16,
   "metadata": {},
   "outputs": [
    {
     "name": "stdout",
     "output_type": "stream",
     "text": [
      "{1, 35171, 3, 105513}\n",
      "140688\n"
     ]
    }
   ],
   "source": [
    "# loop counter is 10551311\n",
    "# so we hook it to set it to smth different\n",
    "\n",
    "# result with 911 (ex1): 912\n",
    "# result with //50000: 211: 212\n",
    "# result with //10000: 1055: 217\n",
    "# result with // 5000: 2100: 219\n",
    "# result with // 2000: 5275: 242\n",
    "# result with // 1500: 7034: 3520\n",
    "# result with // 1000: 10551: 3521\n",
    "# result with //  500: 21102: 3529\n",
    "# result with //  100: 105513: 140688\n",
    "# so number * 5 -> +5\n",
    "\n",
    "# toolow: 3530\n",
    "\n",
    "from functools import reduce\n",
    "\n",
    "def factors(n):    \n",
    "    return set(reduce(list.__add__, \n",
    "                ([i, n//i] for i in range(1, int(n**0.5) + 1) if n % i == 0)))\n",
    "\n",
    "print(factors(10551311))\n",
    "print(sum(factors(10551311)))"
   ]
  }
 ],
 "metadata": {
  "kernelspec": {
   "display_name": "Python 3",
   "language": "python",
   "name": "python3"
  },
  "language_info": {
   "codemirror_mode": {
    "name": "ipython",
    "version": 3
   },
   "file_extension": ".py",
   "mimetype": "text/x-python",
   "name": "python",
   "nbconvert_exporter": "python",
   "pygments_lexer": "ipython3",
   "version": "3.7.1"
  }
 },
 "nbformat": 4,
 "nbformat_minor": 2
}
