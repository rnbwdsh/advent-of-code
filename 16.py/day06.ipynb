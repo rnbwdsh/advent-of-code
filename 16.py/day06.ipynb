{
 "cells": [
  {
   "cell_type": "code",
   "execution_count": 1,
   "metadata": {},
   "outputs": [
    {
     "name": "stdout",
     "output_type": "stream",
     "text": [
      "[[47 47 47 ... 39 39 39]\n",
      " [47 47 47 ... 39 39 39]\n",
      " [47 47 47 ... 39 39 39]\n",
      " ...\n",
      " [ 6  6  6 ...  9  9  9]\n",
      " [ 6  6  6 ...  9  9  9]\n",
      " [ 6  6  6 ...  9  9  9]]\n"
     ]
    },
    {
     "data": {
      "text/plain": [
       "4589"
      ]
     },
     "execution_count": 1,
     "metadata": {},
     "output_type": "execute_result"
    }
   ],
   "source": [
    "import numpy as np\n",
    "from collections import defaultdict, Counter\n",
    "import itertools\n",
    "import re\n",
    "\n",
    "o = 400\n",
    "grid = np.zeros((o,o), dtype=int)\n",
    "d = defaultdict(list)\n",
    "a = \"\"\"305, 349\n",
    "315, 193\n",
    "154, 62\n",
    "246, 310\n",
    "145, 283\n",
    "260, 324\n",
    "342, 79\n",
    "321, 353\n",
    "40, 242\n",
    "351, 353\n",
    "337, 297\n",
    "174, 194\n",
    "251, 160\n",
    "314, 195\n",
    "114, 81\n",
    "204, 246\n",
    "203, 169\n",
    "203, 296\n",
    "60, 276\n",
    "201, 47\n",
    "206, 96\n",
    "243, 46\n",
    "295, 304\n",
    "319, 80\n",
    "213, 330\n",
    "337, 255\n",
    "40, 262\n",
    "302, 150\n",
    "147, 349\n",
    "317, 240\n",
    "96, 315\n",
    "133, 305\n",
    "320, 348\n",
    "210, 300\n",
    "266, 216\n",
    "223, 319\n",
    "207, 152\n",
    "127, 214\n",
    "312, 245\n",
    "49, 329\n",
    "211, 84\n",
    "129, 276\n",
    "247, 143\n",
    "208, 235\n",
    "271, 126\n",
    "124, 211\n",
    "144, 184\n",
    "54, 88\n",
    "354, 300\n",
    "148, 85\"\"\"\n",
    "b = a.strip().split(\"\\n\")\n",
    "c = [[int(x) for x in re.findall(\"(\\d+), (\\d+)\", bb)[0]] for bb in b]\n",
    "\n",
    "# manhattan distance\n",
    "def distance(p0,p1):\n",
    "    return abs(p0[0]-p1[0])+abs(p0[1]-p1[1])\n",
    "\n",
    "# for each field, calculate the distance\n",
    "for i in itertools.product(range(o), range(o)):\n",
    "    dist = defaultdict(list)\n",
    "    for index, line in enumerate(c):\n",
    "        x = line[0]\n",
    "        y = line[1]\n",
    "        dist[distance((x,y), i)].append(index)\n",
    "    best = dist[min(dist)]\n",
    "    if len(best) > 1:\n",
    "        grid[i] = -1\n",
    "    else:\n",
    "        grid[i] = best[0]\n",
    "\n",
    "found = Counter(grid.flatten())\n",
    "\n",
    "# sort out all the cornering ones\n",
    "for i in range(o):\n",
    "    if grid[i,0] in found:\n",
    "        found.pop(grid[i,0])\n",
    "    if grid[i,o-1] in found:\n",
    "        found.pop(grid[i,o-1])\n",
    "    if grid[0,i] in found:\n",
    "        found.pop(grid[0,i])\n",
    "    if grid[o-1,i] in found:\n",
    "        found.pop(grid[o-1,i])\n",
    "\n",
    "print(grid)\n",
    "max(found.values())"
   ]
  },
  {
   "cell_type": "code",
   "execution_count": 2,
   "metadata": {},
   "outputs": [
    {
     "data": {
      "text/plain": [
       "40252"
      ]
     },
     "execution_count": 2,
     "metadata": {},
     "output_type": "execute_result"
    }
   ],
   "source": [
    "grid = np.zeros((o,o), dtype=int)\n",
    "\n",
    "for i in itertools.product(range(o), range(o)):\n",
    "    s = 0\n",
    "    for line in c:\n",
    "        x = line[0]\n",
    "        y = line[1]\n",
    "        s += distance((x,y), i)\n",
    "    if s < 10000:\n",
    "        grid[i] = -2\n",
    "\n",
    "Counter(grid.flatten())[-2]"
   ]
  }
 ],
 "metadata": {
  "kernelspec": {
   "display_name": "Python 3",
   "language": "python",
   "name": "python3"
  },
  "language_info": {
   "codemirror_mode": {
    "name": "ipython",
    "version": 3
   },
   "file_extension": ".py",
   "mimetype": "text/x-python",
   "name": "python",
   "nbconvert_exporter": "python",
   "pygments_lexer": "ipython3",
   "version": "3.7.1"
  }
 },
 "nbformat": 4,
 "nbformat_minor": 2
}
