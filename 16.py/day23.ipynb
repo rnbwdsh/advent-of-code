{
 "cells": [
  {
   "cell_type": "code",
   "execution_count": 3,
   "metadata": {},
   "outputs": [],
   "source": [
    "# Imports and utility functions \n",
    "import re\n",
    "import numpy as np\n",
    "from itertools import product\n",
    "\n",
    "def manhattanDist(a,b): # this can be found in scipy.spatial.distance.cityblock\n",
    "    return sum(abs(np.array(a)-np.array(b)))\n",
    "\n",
    "def calc_InRange_DistTo0_metric(pos, nanobots, ranges=None):\n",
    "    dist = np.array([manhattanDist(pos, n2[\"pos\"]) for n2 in nanobots])\n",
    "    if not ranges: # if ranges is not set, calculate bot-to-pos ranges, else calculate pos-with-range-to-bots distance\n",
    "        ranges = np.array([bot[\"range\"] for bot in nanobots])\n",
    "    in_range = sum(dist <= ranges)\n",
    "    dist_to_0 = manhattanDist(pos, (0,0,0))\n",
    "    # as we try to maximize this function, the dist_to_0 (where we want a small one) should be negative\n",
    "    return in_range, - dist_to_0\n",
    "\n",
    "\n",
    "# Read and parse data\n",
    "a = open(\"day23.txt\").read()\n",
    "b = a.split(\"\\n\")\n",
    "c = [re.findall(r\"(-?\\d+)\", bb) for bb in b]\n",
    "nanobots = [{\"id\":id, \"pos\":(int(a), int(b), int(c)), \"range\":int(d)} for id, (a,b,c,d) in enumerate(c)]"
   ]
  },
  {
   "cell_type": "code",
   "execution_count": 4,
   "metadata": {},
   "outputs": [
    {
     "name": "stdout",
     "output_type": "stream",
     "text": [
      "{'id': 856, 'pos': (-752271, 77413609, 96554782), 'range': 99835052}\n",
      "(691, -174720662)\n",
      "number of drones in range of master: 691 \n",
      "\n",
      "\n"
     ]
    }
   ],
   "source": [
    "# Part 1: Find how many drones are in range of master (drone with max range)\n",
    "master = max(nanobots, key=lambda bot: bot[\"range\"])\n",
    "master_dist = calc_InRange_DistTo0_metric(master[\"pos\"], nanobots, master[\"range\"])\n",
    "print(master)\n",
    "print(master_dist)\n",
    "print(\"number of drones in range of master:\",master_dist[0],\"\\n\\n\")"
   ]
  },
  {
   "cell_type": "code",
   "execution_count": null,
   "metadata": {},
   "outputs": [
    {
     "name": "stdout",
     "output_type": "stream",
     "text": [
      "new best distance (26, 0) [0 0 0]\n",
      "new best distance (59, -134217728) [-67108864         0  67108864]\n",
      "new best distance (65, -134217728) [-67108864  67108864         0]\n",
      "new best distance (241, -201326592) [-67108864  67108864  67108864]\n",
      "new best distance (713, -134217728) [       0 67108864 67108864]\n",
      "new best distance (749, -117440512) [16777216 50331648 50331648]\n",
      "new best distance (770, -125829120) [16777216 50331648 58720256]\n",
      "new best distance (773, -125829120) [16777216 58720256 50331648]\n",
      "new best distance (817, -134217728) [16777216 58720256 58720256]\n",
      "new best distance (836, -130023424) [16777216 54525952 58720256]\n",
      "new best distance (838, -130023424) [16777216 58720256 54525952]\n",
      "new best distance (864, -130023424) [20971520 54525952 54525952]\n",
      "new best distance (872, -127926272) [20971520 52428800 54525952]\n",
      "new best distance (883, -127926272) [23068672 52428800 52428800]\n",
      "new best distance (883, -126877696) [23068672 51380224 52428800]\n",
      "new best distance (888, -126877696) [24117248 51380224 51380224]\n",
      "new best distance (888, -126615552) [23855104 51118080 51642368]\n",
      "new best distance (888, -126550016) [23789568 51183616 51576832]\n",
      "new best distance (888, -126533632) [23773184 51167232 51593216]\n",
      "new best distance (888, -126531584) [23771136 51165184 51595264]\n",
      "new best distance (889, -126530560) [23770112 51164160 51596288]\n",
      "new best distance (899, -126530048) [23769600 51163648 51596800]\n",
      "new best distance (908, -126529984) [23769536 51163584 51596864]\n",
      "new best distance (911, -126529980) [23769532 51163580 51596868]\n",
      "new best distance (912, -126529978) [23769530 51163578 51596870]\n",
      "new best distance (914, -126529978) [24818106 51163578 50548294]\n"
     ]
    }
   ],
   "source": [
    "# Part 2: Binary search the best position\n",
    "best_pos, bs = (0,0,0), (0,0)\n",
    "for _ in range(5): # start from new best_pos 5 times\n",
    "    for bexp in range(30, -1, -1):\n",
    "        for xyz in product(range(-1,2), repeat=3):\n",
    "            expo = 2**bexp\n",
    "            pos = best_pos + np.array(xyz) * expo\n",
    "            score = calc_InRange_DistTo0_metric(pos, nanobots)\n",
    "            if score > bs:\n",
    "                bs, bp = score, pos\n",
    "                print(\"new best distance\", bs, bp)\n",
    "        best_pos = bp #start searching from bp now, and repeat binary search\n",
    "print(\"manhattan distance from 0,0,0 to best pos:\",-bs[1])"
   ]
  }
 ],
 "metadata": {
  "kernelspec": {
   "display_name": "Python 3",
   "language": "python",
   "name": "python3"
  },
  "language_info": {
   "codemirror_mode": {
    "name": "ipython",
    "version": 3
   },
   "file_extension": ".py",
   "mimetype": "text/x-python",
   "name": "python",
   "nbconvert_exporter": "python",
   "pygments_lexer": "ipython3",
   "version": "3.7.1"
  }
 },
 "nbformat": 4,
 "nbformat_minor": 2
}
