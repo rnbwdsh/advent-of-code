{
 "cells": [
  {
   "cell_type": "code",
   "execution_count": 44,
   "metadata": {},
   "outputs": [
    {
     "name": "stdout",
     "output_type": "stream",
     "text": [
      "5158916779\n",
      "0124515891\n",
      "9251071085\n",
      "5941429882\n",
      "1115317115\n"
     ]
    }
   ],
   "source": [
    "def solve(until, full = False):\n",
    "    r = [3,7]\n",
    "    p1 = 0\n",
    "    p2 = 1\n",
    "    while len(r) < (until+12):\n",
    "        new_score = r[p1]+r[p2]\n",
    "        for score in list(str(new_score)):\n",
    "            r.append(int(score))\n",
    "        #print(\"moved forward\", r[p1] + 1, r[p2] + 1)\n",
    "        p1 = (p1 + r[p1] + 1) % (len(r))\n",
    "        p2 = (p2 + r[p2] + 1) % (len(r))\n",
    "        #print(p1,p2,\"\\t\",r)\n",
    "    if not full:\n",
    "        return \"\".join(str(i) for i in r[until:until+10])\n",
    "    else:\n",
    "        return \"\".join(str(i) for i in r)\n",
    "\n",
    "print(solve(9))\n",
    "print(solve(5))\n",
    "print(solve(18))\n",
    "print(solve(2018))\n",
    "print(solve(327901))"
   ]
  },
  {
   "cell_type": "code",
   "execution_count": 51,
   "metadata": {},
   "outputs": [
    {
     "name": "stdout",
     "output_type": "stream",
     "text": [
      "9\n",
      "5\n",
      "20229822\n"
     ]
    }
   ],
   "source": [
    "def solve2(subsequence, toSearch = 10000):\n",
    "    seq = solve(toSearch, True)\n",
    "    return seq.index(str(subsequence))\n",
    "\n",
    "print(solve2(51589))\n",
    "print(solve2(\"01245\"))\n",
    "print(solve2(\"327901\", 100000000))"
   ]
  }
 ],
 "metadata": {
  "kernelspec": {
   "display_name": "Python 3",
   "language": "python",
   "name": "python3"
  },
  "language_info": {
   "codemirror_mode": {
    "name": "ipython",
    "version": 3
   },
   "file_extension": ".py",
   "mimetype": "text/x-python",
   "name": "python",
   "nbconvert_exporter": "python",
   "pygments_lexer": "ipython3",
   "version": "3.7.1"
  }
 },
 "nbformat": 4,
 "nbformat_minor": 2
}
