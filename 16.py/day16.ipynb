{
 "cells": [
  {
   "cell_type": "code",
   "execution_count": 58,
   "metadata": {},
   "outputs": [],
   "source": [
    "import copy\n",
    "\n",
    "def intmap(a, split = \",\"):\n",
    "    return list(map(int, a.replace(\"[\",\"\").replace(\"]\",\"\").split(split)))\n",
    "\n",
    "class Instruction:\n",
    "    def __init__(self, mem, opcodes):\n",
    "        self.OPCODE = opcodes[0]\n",
    "        self.A = opcodes[1]\n",
    "        self.B = opcodes[2]\n",
    "        self.C = opcodes[3]\n",
    "        self.mem = mem\n",
    "    \n",
    "    def run(self, found):\n",
    "        instruction = found[self.OPCODE]\n",
    "        return getattr(self, instruction)();\n",
    "        \n",
    "    #add mul\n",
    "    def addr(self):\n",
    "        mem = copy.copy(self.mem)\n",
    "        mem[self.C] = mem[self.A] + mem[self.B]\n",
    "        return mem\n",
    "    \n",
    "    def addi(self):\n",
    "        mem = copy.copy(self.mem)\n",
    "        mem[self.C] = mem[self.A] + self.B\n",
    "        return mem\n",
    "    \n",
    "    def mulr(self):\n",
    "        mem = copy.copy(self.mem)\n",
    "        mem[self.C] = mem[self.A] * mem[self.B]\n",
    "        return mem\n",
    "    \n",
    "    def muli(self):\n",
    "        mem = copy.copy(self.mem)\n",
    "        mem[self.C] = mem[self.A] * self.B\n",
    "        return mem\n",
    "    \n",
    "    #bitwise and/or\n",
    "    def banr(self):\n",
    "        mem = copy.copy(self.mem)\n",
    "        mem[self.C] = mem[self.A] & mem[self.B]\n",
    "        return mem\n",
    "    \n",
    "    def bani(self):\n",
    "        mem = copy.copy(self.mem)\n",
    "        mem[self.C] = mem[self.A] & self.B\n",
    "        return mem\n",
    "    \n",
    "    def borr(self):\n",
    "        mem = copy.copy(self.mem)\n",
    "        mem[self.C] = mem[self.A] | mem[self.B]\n",
    "        return mem\n",
    "    \n",
    "    def bori(self):\n",
    "        mem = copy.copy(self.mem)\n",
    "        mem[self.C] = mem[self.A] | self.B\n",
    "        return mem\n",
    "    \n",
    "    #assign, gt, eq\n",
    "    def setr(self):\n",
    "        mem = copy.copy(self.mem)\n",
    "        mem[self.C] = mem[self.A]\n",
    "        return mem\n",
    "    \n",
    "    def seti(self):\n",
    "        mem = copy.copy(self.mem)\n",
    "        mem[self.C] = self.A\n",
    "        return mem\n",
    "    \n",
    "    def gtir(self):\n",
    "        mem = copy.copy(self.mem)\n",
    "        mem[self.C] = int(self.A > mem[self.B])\n",
    "        return mem\n",
    "    \n",
    "    def gtri(self):\n",
    "        mem = copy.copy(self.mem)\n",
    "        mem[self.C] = int(mem[self.A] > self.B)\n",
    "        return mem\n",
    "    \n",
    "    def gtrr(self):\n",
    "        mem = copy.copy(self.mem)\n",
    "        mem[self.C] = int(mem[self.A] > mem[self.B])\n",
    "        return mem\n",
    "    \n",
    "    def eqir(self):\n",
    "        mem = copy.copy(self.mem)\n",
    "        mem[self.C] = int(self.A == mem[self.B])\n",
    "        return mem\n",
    "    \n",
    "    def eqri(self):\n",
    "        mem = copy.copy(self.mem)\n",
    "        mem[self.C] = int(mem[self.A] == self.B)\n",
    "        return mem\n",
    "    \n",
    "    def eqrr(self):\n",
    "        mem = copy.copy(self.mem)\n",
    "        mem[self.C] = int(mem[self.A] == mem[self.B])\n",
    "        return mem\n",
    "    \n",
    "    def methodList(self, notin=[]):\n",
    "        funcs = [func for func in dir(self) if callable(getattr(self, func)) and not func.startswith(\"_\")]\n",
    "        for n in notin:\n",
    "            funcs.remove(n)\n",
    "        return funcs"
   ]
  },
  {
   "cell_type": "code",
   "execution_count": 51,
   "metadata": {},
   "outputs": [
    {
     "name": "stdout",
     "output_type": "stream",
     "text": [
      "590 / 782\n"
     ]
    }
   ],
   "source": [
    "ind = open(\"day16.1.txt\").read()\n",
    "\n",
    "counter = 0\n",
    "total_len = len(ind.split(\"\\n\\n\"))\n",
    "for a in ind.split(\"\\n\\n\"):\n",
    "    a = a.replace(\"Before: \",\"\").replace(\"After: \",\"\").split(\"\\n\")\n",
    "    before = intmap(a[0])\n",
    "    instructions = intmap(a[1], split=\" \")\n",
    "    after = intmap(a[2])\n",
    "\n",
    "    i = Instruction(before, instructions)\n",
    "    correct = 0\n",
    "    for method in method_list:\n",
    "        result = getattr(i, method)()\n",
    "        if result == after:\n",
    "            correct+=1\n",
    "    if correct >= 3:\n",
    "        counter+=1\n",
    "print(counter,\"/\",total_len)"
   ]
  },
  {
   "cell_type": "code",
   "execution_count": 55,
   "metadata": {},
   "outputs": [
    {
     "name": "stdout",
     "output_type": "stream",
     "text": [
      "16 {15: 'banr', 3: 'bani', 10: 'setr', 9: 'gtir', 14: 'gtrr', 0: 'eqri', 5: 'eqrr', 11: 'eqir', 7: 'gtri', 4: 'seti', 12: 'mulr', 13: 'muli', 6: 'addr', 2: 'addi', 1: 'bori', 8: 'borr'}\n"
     ]
    }
   ],
   "source": [
    "found = {}\n",
    "for j in range(10):\n",
    "    for a in ind.split(\"\\n\\n\"):\n",
    "        a = a.replace(\"Before: \",\"\").replace(\"After: \",\"\").split(\"\\n\")\n",
    "        before = intmap(a[0])\n",
    "        instructions = intmap(a[1], split=\" \")\n",
    "        after = intmap(a[2])\n",
    "        if instructions[0] not in found.keys():\n",
    "            i = Instruction(before, instructions)\n",
    "            correct = []\n",
    "            for method in i.methodList(found.values()):\n",
    "                result = getattr(i, method)()\n",
    "                if result == after:\n",
    "                    correct.append(method)\n",
    "            if len(correct) == 1:\n",
    "                found[instructions[0]] = correct[0]\n",
    "print(len(found),found)"
   ]
  },
  {
   "cell_type": "code",
   "execution_count": 59,
   "metadata": {},
   "outputs": [
    {
     "name": "stdout",
     "output_type": "stream",
     "text": [
      "[475, 3, 2, 2]\n"
     ]
    }
   ],
   "source": [
    "ind2 = open(\"day16.2.txt\").read()\n",
    "mem = [0,0,0,0]\n",
    "a = [intmap(aa, \" \") for aa in ind2.split(\"\\n\")]\n",
    "for instruction in a:\n",
    "    i = Instruction(mem, instruction)\n",
    "    mem = i.run(found)\n",
    "print(mem)"
   ]
  }
 ],
 "metadata": {
  "kernelspec": {
   "display_name": "Python 3",
   "language": "python",
   "name": "python3"
  },
  "language_info": {
   "codemirror_mode": {
    "name": "ipython",
    "version": 3
   },
   "file_extension": ".py",
   "mimetype": "text/x-python",
   "name": "python",
   "nbconvert_exporter": "python",
   "pygments_lexer": "ipython3",
   "version": "3.7.1"
  }
 },
 "nbformat": 4,
 "nbformat_minor": 2
}
